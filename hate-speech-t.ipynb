{
 "cells": [
  {
   "cell_type": "code",
   "execution_count": 1,
   "id": "f3813d24",
   "metadata": {
    "execution": {
     "iopub.execute_input": "2025-01-20T10:08:16.107337Z",
     "iopub.status.busy": "2025-01-20T10:08:16.106980Z",
     "iopub.status.idle": "2025-01-20T10:08:37.711602Z",
     "shell.execute_reply": "2025-01-20T10:08:37.710414Z"
    },
    "papermill": {
     "duration": 21.632339,
     "end_time": "2025-01-20T10:08:37.713619",
     "exception": false,
     "start_time": "2025-01-20T10:08:16.081280",
     "status": "completed"
    },
    "tags": []
   },
   "outputs": [
    {
     "name": "stdout",
     "output_type": "stream",
     "text": [
      "Note: you may need to restart the kernel to use updated packages.\n"
     ]
    }
   ],
   "source": [
    "pip install -q torch torchvision torchaudio librosa av opencv-python Pillow tqdm numpy pandas scikit-learn pytorchvideo transformers datasets evaluate peft"
   ]
  },
  {
   "cell_type": "markdown",
   "id": "d8cdf8ea",
   "metadata": {
    "papermill": {
     "duration": 0.023864,
     "end_time": "2025-01-20T10:08:37.763739",
     "exception": false,
     "start_time": "2025-01-20T10:08:37.739875",
     "status": "completed"
    },
    "tags": []
   },
   "source": [
    "# Additional Modules.py"
   ]
  },
  {
   "cell_type": "code",
   "execution_count": 2,
   "id": "c12d1eb3",
   "metadata": {
    "execution": {
     "iopub.execute_input": "2025-01-20T10:08:37.814774Z",
     "iopub.status.busy": "2025-01-20T10:08:37.813922Z",
     "iopub.status.idle": "2025-01-20T10:08:42.180076Z",
     "shell.execute_reply": "2025-01-20T10:08:42.179095Z"
    },
    "papermill": {
     "duration": 4.394141,
     "end_time": "2025-01-20T10:08:42.182300",
     "exception": false,
     "start_time": "2025-01-20T10:08:37.788159",
     "status": "completed"
    },
    "tags": []
   },
   "outputs": [],
   "source": [
    "import torch\n",
    "import torch.nn as nn\n",
    "import math\n",
    "\n",
    "class Gate_Attention(nn.Module):\n",
    "    def __init__(self, num_hidden_a, num_hidden_b, num_hidden):\n",
    "        super(Gate_Attention, self).__init__()\n",
    "        self.hidden = num_hidden\n",
    "        self.w1 = nn.Parameter(torch.Tensor(num_hidden_a, num_hidden))\n",
    "        self.w2 = nn.Parameter(torch.Tensor(num_hidden_b, num_hidden))\n",
    "        self.bias = nn.Parameter(torch.Tensor(num_hidden))\n",
    "        self.reset_parameter()\n",
    "\n",
    "    def reset_parameter(self):\n",
    "        stdv1 = 1. / math.sqrt(self.hidden)\n",
    "        stdv2 = 1. / math.sqrt(self.hidden)\n",
    "        stdv = (stdv1 + stdv2) / 2.\n",
    "        self.w1.data.uniform_(-stdv1, stdv1)\n",
    "        self.w2.data.uniform_(-stdv2, stdv2)\n",
    "        self.bias.data.uniform_(-stdv, stdv)\n",
    "\n",
    "    def forward(self, a, b):\n",
    "        wa = torch.matmul(a, self.w1)\n",
    "        wb = torch.matmul(b, self.w2)\n",
    "        gated = wa + wb + self.bias\n",
    "        gate = torch.sigmoid(gated)\n",
    "        output = gate * a + (1 - gate) * b\n",
    "        return output  # Clone the tensor to make it out of place operation\n",
    "    \n",
    "class LSTM_fc(nn.Module):\n",
    "    def __init__(self, input_size, hidden_size, num_layers, output_seq_len, output_size):\n",
    "        super(LSTM_fc, self).__init__()\n",
    "        self.hidden_size = hidden_size\n",
    "        self.num_layers = num_layers\n",
    "        self.output_seq_len = output_seq_len\n",
    "        self.lstm = nn.LSTM(input_size, hidden_size, num_layers, batch_first=True, bidirectional=True)\n",
    "        self.fc = nn.Linear(in_features=2*hidden_size, out_features=output_size)\n",
    "\n",
    "    def forward(self, x):\n",
    "        h0 = torch.zeros(self.num_layers * 2, x.size(0), self.hidden_size, device=x.device)\n",
    "        c0 = torch.zeros(self.num_layers * 2, x.size(0), self.hidden_size, device=x.device)\n",
    "\n",
    "        out, _ = self.lstm(x, (h0, c0))\n",
    "\n",
    "        \n",
    "        \n",
    "        output = self.fc(out[:, :self.output_seq_len, :])\n",
    "\n",
    "        return output\n",
    "    \n",
    "    \n",
    "class Conv1d_fc(nn.Module):\n",
    "    def __init__(self, encoder_embed_dim , llm_embed_dim, kernel_size, stride, padding):\n",
    "        super(Conv1d_fc, self).__init__()\n",
    "        \n",
    "        #input_channels, output_channels - embedding dim of encoder\n",
    "        # conv on seq_len\n",
    "        \n",
    "        self.conv1d = nn.Conv1d(in_channels=encoder_embed_dim, out_channels=encoder_embed_dim, kernel_size=kernel_size, stride=stride, padding=padding)\n",
    "        self.fc = nn.Linear(in_features=encoder_embed_dim, out_features=llm_embed_dim)\n",
    "\n",
    "    def forward(self, x):\n",
    "        \n",
    "        x = self.conv1d(x.transpose(1,2).contiguous()).transpose(1,2).contiguous()\n",
    "        output = self.fc(x)\n",
    "        \n",
    "        return output\n",
    "\n",
    "    \n",
    "class FC_head(nn.Module):\n",
    "    def __init__(self, num_classes, hidden_dim, llm_embed_dim, add_pooling = False):\n",
    "        super(FC_head, self).__init__()\n",
    "        self.num_classes = num_classes\n",
    "        self.hidden_dim = hidden_dim\n",
    "        self.llm_embed_dim = llm_embed_dim\n",
    "        self.add_pooling = add_pooling\n",
    "        \n",
    "        self.pooling = nn.Linear(in_features=llm_embed_dim, out_features=llm_embed_dim)\n",
    "        self.activation = nn.Tanh()\n",
    "        \n",
    "        self.fc1 = nn.Linear(in_features=llm_embed_dim, out_features=hidden_dim)\n",
    "        self.fc2 = nn.Linear(in_features=hidden_dim, out_features=num_classes)\n",
    "        \n",
    "    def forward(self, x):\n",
    "        if self.add_pooling:\n",
    "            x = self.pooling(x)\n",
    "            x = self.activation(x)\n",
    "        \n",
    "        x = torch.mean(x, dim=1)\n",
    "        \n",
    "        x = self.fc1(x)\n",
    "        x = self.fc2(x)\n",
    "        return x\n",
    "        \n",
    "        \n",
    "        \n",
    "        \n",
    "        \n",
    "        \n",
    "        \n",
    "    "
   ]
  },
  {
   "cell_type": "markdown",
   "id": "bb2e2b49",
   "metadata": {
    "papermill": {
     "duration": 0.023305,
     "end_time": "2025-01-20T10:08:42.230838",
     "exception": false,
     "start_time": "2025-01-20T10:08:42.207533",
     "status": "completed"
    },
    "tags": []
   },
   "source": [
    "# Utils.py"
   ]
  },
  {
   "cell_type": "code",
   "execution_count": 3,
   "id": "d257537f",
   "metadata": {
    "execution": {
     "iopub.execute_input": "2025-01-20T10:08:42.280501Z",
     "iopub.status.busy": "2025-01-20T10:08:42.279808Z",
     "iopub.status.idle": "2025-01-20T10:08:57.070945Z",
     "shell.execute_reply": "2025-01-20T10:08:57.070013Z"
    },
    "papermill": {
     "duration": 14.818171,
     "end_time": "2025-01-20T10:08:57.072762",
     "exception": false,
     "start_time": "2025-01-20T10:08:42.254591",
     "status": "completed"
    },
    "tags": []
   },
   "outputs": [
    {
     "name": "stderr",
     "output_type": "stream",
     "text": [
      "2025-01-20 10:08:45.576130: E external/local_xla/xla/stream_executor/cuda/cuda_dnn.cc:9261] Unable to register cuDNN factory: Attempting to register factory for plugin cuDNN when one has already been registered\n",
      "2025-01-20 10:08:45.576320: E external/local_xla/xla/stream_executor/cuda/cuda_fft.cc:607] Unable to register cuFFT factory: Attempting to register factory for plugin cuFFT when one has already been registered\n",
      "2025-01-20 10:08:45.717137: E external/local_xla/xla/stream_executor/cuda/cuda_blas.cc:1515] Unable to register cuBLAS factory: Attempting to register factory for plugin cuBLAS when one has already been registered\n"
     ]
    },
    {
     "data": {
      "application/vnd.jupyter.widget-view+json": {
       "model_id": "29c86fc18b9046cea054135be0a6fb37",
       "version_major": 2,
       "version_minor": 0
      },
      "text/plain": [
       "preprocessor_config.json:   0%|          | 0.00/185k [00:00<?, ?B/s]"
      ]
     },
     "metadata": {},
     "output_type": "display_data"
    },
    {
     "data": {
      "application/vnd.jupyter.widget-view+json": {
       "model_id": "6c40139faa3f406099c74eb1941c6e4c",
       "version_major": 2,
       "version_minor": 0
      },
      "text/plain": [
       "preprocessor_config.json:   0%|          | 0.00/271 [00:00<?, ?B/s]"
      ]
     },
     "metadata": {},
     "output_type": "display_data"
    },
    {
     "data": {
      "application/vnd.jupyter.widget-view+json": {
       "model_id": "19828c016af74294bfed7d94f355c212",
       "version_major": 2,
       "version_minor": 0
      },
      "text/plain": [
       "preprocessor_config.json:   0%|          | 0.00/160 [00:00<?, ?B/s]"
      ]
     },
     "metadata": {},
     "output_type": "display_data"
    },
    {
     "name": "stderr",
     "output_type": "stream",
     "text": [
      "/opt/conda/lib/python3.10/site-packages/huggingface_hub/file_download.py:795: FutureWarning: `resume_download` is deprecated and will be removed in version 1.0.0. Downloads always resume when possible. If you want to force a new download, use `force_download=True`.\n",
      "  warnings.warn(\n"
     ]
    },
    {
     "data": {
      "application/vnd.jupyter.widget-view+json": {
       "model_id": "31bf07b126af4d6aba25a071b7981bd5",
       "version_major": 2,
       "version_minor": 0
      },
      "text/plain": [
       "config.json:   0%|          | 0.00/69.7k [00:00<?, ?B/s]"
      ]
     },
     "metadata": {},
     "output_type": "display_data"
    }
   ],
   "source": [
    "import av\n",
    "import numpy as np\n",
    "import os\n",
    "from transformers import AutoImageProcessor, CLIPProcessor, AutoFeatureExtractor, WhisperFeatureExtractor\n",
    "import cv2\n",
    "import random\n",
    "import torch\n",
    "\n",
    "np.random.seed(0)\n",
    "\n",
    "max_length = 50000\n",
    "max_len = 64\n",
    "\n",
    "audio_processor = WhisperFeatureExtractor.from_pretrained(\"openai/whisper-small\")\n",
    "video_processor = AutoImageProcessor.from_pretrained(\"MCG-NJU/videomae-base\")\n",
    "image_processor = AutoImageProcessor.from_pretrained(\"google/vit-base-patch16-224\")\n",
    "\n",
    "def get_actual_seg_len(container):\n",
    "    length = 0\n",
    "    for i, frame in enumerate(container.decode(video=0)):\n",
    "        length+=1\n",
    "    return length\n",
    "    \n",
    "    \n",
    "def read_video_pyav(container, indices, clip_len, seg_len):\n",
    "    '''\n",
    "    Decode the video with PyAV decoder.\n",
    "    Args:\n",
    "        container (`av.container.input.InputContainer`): PyAV container.\n",
    "        indices (`List[int]`): List of frame indices to decode.\n",
    "    Returns:\n",
    "        result (np.ndarray): np array of decoded frames of shape (num_frames, height, width, 3).\n",
    "    '''\n",
    "    frames = []\n",
    "    if seg_len > clip_len:\n",
    "        container.seek(0)\n",
    "        start_index = indices[0]\n",
    "        end_index = indices[-1]\n",
    "        for i, frame in enumerate(container.decode(video=0)):\n",
    "            if i > end_index:\n",
    "                break\n",
    "            if i >= start_index and i in indices:\n",
    "                frames.append(frame)\n",
    "    else:\n",
    "        container.seek(0)\n",
    "        start_index = indices[0]\n",
    "        end_index = indices[-1]\n",
    "        \n",
    "        start_frame = 0\n",
    "                \n",
    "        for i, frame in enumerate(container.decode(video=0)):\n",
    "            if i > end_index:\n",
    "                break\n",
    "            if i >= start_index and i in indices:\n",
    "                frames.append(frame)\n",
    "                if i == 0:\n",
    "                    start_frame = frame\n",
    "        \n",
    "        init_frames = [start_frame]*(clip_len-seg_len)\n",
    "        init_frames.extend(frames)\n",
    "        frames = init_frames\n",
    "       \n",
    "    return np.stack([x.to_ndarray(format=\"rgb24\") for x in frames])\n",
    "\n",
    "\n",
    "def sample_frame_indices(clip_len, frame_sample_rate, seg_len):\n",
    "    '''\n",
    "    Sample a given number of frame indices from the video.\n",
    "    Args:\n",
    "        clip_len (`int`): Total number of frames to sample.\n",
    "        frame_sample_rate (`int`): Sample every n-th frame.\n",
    "        seg_len (`int`): Maximum allowed index of sample's last frame.\n",
    "    Returns:\n",
    "        indices (`List[int]`): List of sampled frame indices\n",
    "    '''\n",
    "    \n",
    "    if seg_len > clip_len: \n",
    "        converted_len = int(clip_len * frame_sample_rate)\n",
    "\n",
    "        # Ensure the chosen segment is valid\n",
    "        start_idx = np.random.randint(low=0, high=seg_len - converted_len + 1)\n",
    "        end_idx = start_idx + converted_len\n",
    "\n",
    "        # Generate equally spaced indices within the chosen segment\n",
    "        indices = np.linspace(start_idx, end_idx - 1, num=clip_len, dtype=np.int64)\n",
    "    \n",
    "    else:\n",
    "        indices_start = [0]*(clip_len-seg_len)\n",
    "        indices = range(seg_len)\n",
    "        indices_start.extend(indices)\n",
    "        indices = np.array(indices_start, dtype=np.int64)\n",
    "    \n",
    "    # print(indices.shape)\n",
    "    return indices\n",
    "\n",
    "def read_random_jpg(directory_path):\n",
    "    jpg_files = [file for file in os.listdir(directory_path) if file.endswith('.jpg')]\n",
    "\n",
    "    if not jpg_files:\n",
    "        raise FileNotFoundError(\"No '.jpg' files found in the specified directory.\")\n",
    "\n",
    "    selected_file = random.choice(jpg_files)\n",
    "    file_path = os.path.join(directory_path, selected_file)\n",
    "\n",
    "    image = cv2.cvtColor(cv2.imread(file_path), cv2.COLOR_BGR2RGB)\n",
    "\n",
    "    return image \n",
    "\n",
    "def return_video_tensor(file_path, clip_len=16, frame_sample_rate=5):\n",
    "    container = av.open(file_path)\n",
    "    \n",
    "    # seg_len=container.streams.video[0].frames\n",
    "    seg_len = get_actual_seg_len(container)\n",
    "    frame_sample_rate_calculated=int(seg_len/clip_len)\n",
    "    if frame_sample_rate_calculated < frame_sample_rate:\n",
    "        frame_sample_rate=frame_sample_rate_calculated-1\n",
    "    if not frame_sample_rate:\n",
    "        frame_sample_rate=1\n",
    "    indices = sample_frame_indices(clip_len=clip_len, frame_sample_rate=frame_sample_rate, seg_len=seg_len)\n",
    "    video = read_video_pyav(container, indices, clip_len, seg_len)\n",
    "    inputs = video_processor(list(video), return_tensors=\"pt\")\n",
    "    inputs = inputs[\"pixel_values\"] #shape - [1, 16, 3, 224, 224]\n",
    "    \n",
    "    # if(inputs.shape[1] != 16):\n",
    "        # print(indices, frame_sample_rate, seg_len, inputs.shape[1])\n",
    "    return inputs.squeeze(dim=0).cpu()\n",
    "\n",
    "\n",
    "def return_image_tensor(directory_path):\n",
    "    image = read_random_jpg(directory_path=directory_path)\n",
    "    inputs = image_processor(images = image, return_tensors=\"pt\")\n",
    "    inputs = inputs[\"pixel_values\"]  #shape - [1, 3, 224, 224]\n",
    "    return inputs.squeeze(dim=0).cpu()\n",
    "\n",
    "def return_audio_tensor(file_path):\n",
    "    input_audio = np.load(file_path)\n",
    "    input_audio = audio_processor(input_audio, sampling_rate=16000, return_tensors=\"pt\")\n",
    "    input_features = input_audio[\"input_features\"]\n",
    "    return input_features.squeeze(dim=0).cpu()\n",
    "\n",
    "def prepare_batch(batch, tokenizer):\n",
    "    dialogue = batch[\"dialogue\"]\n",
    "    tokenized_text = tokenizer(dialogue, return_tensors=\"pt\", padding=\"max_length\", truncation=True, max_length=max_len-3, add_special_tokens=False)\n",
    "    token_type_ids = torch.ones_like(tokenized_text.input_ids)\n",
    "    \n",
    "    new_batch = {  \n",
    "        'abusive': batch['abusive'],\n",
    "        # 'video': batch['video'],\n",
    "        'audio': batch['audio'],\n",
    "        'input_ids': tokenized_text.input_ids.squeeze(dim=0),\n",
    "        'attention_mask': tokenized_text.attention_mask.squeeze(dim=0),\n",
    "        'token_type_ids': token_type_ids.squeeze(dim=0),\n",
    "    }\n",
    "    \n",
    "    return new_batch"
   ]
  },
  {
   "cell_type": "markdown",
   "id": "67ef3c7f",
   "metadata": {
    "papermill": {
     "duration": 0.023799,
     "end_time": "2025-01-20T10:08:57.121639",
     "exception": false,
     "start_time": "2025-01-20T10:08:57.097840",
     "status": "completed"
    },
    "tags": []
   },
   "source": [
    "# Data"
   ]
  },
  {
   "cell_type": "code",
   "execution_count": 4,
   "id": "2ca325ed",
   "metadata": {
    "execution": {
     "iopub.execute_input": "2025-01-20T10:08:57.171030Z",
     "iopub.status.busy": "2025-01-20T10:08:57.169623Z",
     "iopub.status.idle": "2025-01-20T10:08:58.676408Z",
     "shell.execute_reply": "2025-01-20T10:08:58.675262Z"
    },
    "papermill": {
     "duration": 1.53344,
     "end_time": "2025-01-20T10:08:58.678287",
     "exception": false,
     "start_time": "2025-01-20T10:08:57.144847",
     "status": "completed"
    },
    "tags": []
   },
   "outputs": [
    {
     "name": "stderr",
     "output_type": "stream",
     "text": [
      "/opt/conda/lib/python3.10/site-packages/torchvision/transforms/functional_tensor.py:5: UserWarning: The torchvision.transforms.functional_tensor module is deprecated in 0.15 and will be **removed in 0.17**. Please don't rely on it. You probably just need to use APIs in torchvision.transforms.functional or in torchvision.transforms.v2.functional.\n",
      "  warnings.warn(\n"
     ]
    }
   ],
   "source": [
    "import torch\n",
    "from torch.utils.data import Dataset, DataLoader\n",
    "from torchvision import transforms\n",
    "from PIL import Image\n",
    "import pandas as pd\n",
    "import random\n",
    "import torchaudio\n",
    "import pytorchvideo.data\n",
    "from ast import literal_eval\n",
    "from pytorchvideo.transforms import (\n",
    "    ApplyTransformToKey,\n",
    "    Normalize,\n",
    "    RandomShortSideScale,\n",
    "    RemoveKey,\n",
    "    ShortSideScale,\n",
    "    UniformTemporalSubsample,\n",
    ")\n",
    "from torchvision.transforms import (\n",
    "    Compose,\n",
    "    Lambda,\n",
    "    RandomCrop,\n",
    "    RandomHorizontalFlip,\n",
    "    Resize,\n",
    "    CenterCrop,\n",
    "    Normalize,\n",
    "    RandomRotation,\n",
    ")\n",
    "            \n",
    "\n",
    "class CustomDataset(Dataset):\n",
    "    def __init__(self, dataframe, tokenizer, train):\n",
    "        self.dataframe = dataframe\n",
    "        self.train = train\n",
    "        self.tokenizer = tokenizer\n",
    "\n",
    "    def __len__(self):\n",
    "        return len(self.dataframe)\n",
    "\n",
    "    def __getitem__(self, idx):\n",
    "        dialogue = self.dataframe[\"text\"].iloc[idx]\n",
    "        abusive_labels = torch.tensor(literal_eval(self.dataframe[\"abusive\"].iloc[idx]), device=\"cpu\")\n",
    "        audio = self.dataframe['audio_path'].iloc[idx]\n",
    "        \n",
    "        audio = return_audio_tensor(audio)\n",
    "\n",
    "        sample = {\n",
    "            'dialogue': dialogue,\n",
    "            'abusive': abusive_labels,\n",
    "            'audio': audio,\n",
    "        }\n",
    "        \n",
    "        sample = prepare_batch(batch=sample, tokenizer=self.tokenizer)\n",
    "        return sample\n"
   ]
  },
  {
   "cell_type": "markdown",
   "id": "d1e2be1b",
   "metadata": {
    "papermill": {
     "duration": 0.026071,
     "end_time": "2025-01-20T10:08:58.729846",
     "exception": false,
     "start_time": "2025-01-20T10:08:58.703775",
     "status": "completed"
    },
    "tags": []
   },
   "source": [
    "# Model.py"
   ]
  },
  {
   "cell_type": "code",
   "execution_count": 5,
   "id": "c3c114d4",
   "metadata": {
    "execution": {
     "iopub.execute_input": "2025-01-20T10:08:58.798761Z",
     "iopub.status.busy": "2025-01-20T10:08:58.798095Z",
     "iopub.status.idle": "2025-01-20T10:09:00.172116Z",
     "shell.execute_reply": "2025-01-20T10:09:00.171327Z"
    },
    "papermill": {
     "duration": 1.416729,
     "end_time": "2025-01-20T10:09:00.174312",
     "exception": false,
     "start_time": "2025-01-20T10:08:58.757583",
     "status": "completed"
    },
    "tags": []
   },
   "outputs": [],
   "source": [
    "import torch\n",
    "import torch.nn as nn\n",
    "from tokenizers import AddedToken\n",
    "from transformers import CLIPModel, VideoMAEModel, Wav2Vec2Model, VideoMAEConfig, CLIPConfig, Wav2Vec2Config, ViTModel, WhisperModel\n",
    "from transformers import AutoTokenizer, AutoModelForCausalLM, BitsAndBytesConfig, AutoModelForSeq2SeqLM\n",
    "# from peft import prepare_model_for_kbit_training, LoraConfig, get_peft_model\n",
    "from argparse import Namespace \n",
    "from torch.utils.data import DataLoader\n",
    "import pandas as pd\n",
    "from copy import deepcopy\n",
    "from sklearn.model_selection import train_test_split\n",
    "from transformers import BertTokenizer, AlbertTokenizer, XLMRobertaTokenizerFast, GPT2Tokenizer #only for gpt2 and assign values\n",
    "from transformers import GPT2Model, BertModel, AlbertModel, XLMRobertaModel\n",
    "# Model Architecture\n",
    "\n",
    "class Multimodal_LLM(nn.Module):\n",
    "    def __init__(self, batch_size, config, tokenizer, adapter_llm):\n",
    "        super(Multimodal_LLM, self).__init__()\n",
    "        \n",
    "        self.config = config\n",
    "        self.batch_size = batch_size\n",
    "        self.tokenizer = tokenizer\n",
    "        self.tokenizer.pad_token_id = self.tokenizer.eos_token_id\n",
    "        self.tokenizer.padding_side = \"right\"\n",
    "        \n",
    "        self.output_seq_len = min(self.config.audio_seq_len, self.config.min_mm_seq_len)\n",
    "        \n",
    "        # Audio encoder only\n",
    "        self.audio_encoder = WhisperModel.from_pretrained(config.audio_encoder).encoder\n",
    "        self.adapter_llm = adapter_llm\n",
    "        \n",
    "        # Transform layer for audio\n",
    "        if self.config.lstm_or_conv:\n",
    "            self.transform_audio_to_hidden = LSTM_fc(\n",
    "                input_size=self.config.audio_dim, \n",
    "                hidden_size=self.config.audio_dim,\n",
    "                num_layers=self.config.lstm_num_layers, \n",
    "                output_seq_len=self.output_seq_len, \n",
    "                output_size=self.config.llm_embed_dim\n",
    "            )\n",
    "        else:\n",
    "            self.transform_audio_to_hidden = Conv1d_fc(\n",
    "                encoder_embed_dim=self.config.audio_dim, \n",
    "                llm_embed_dim=self.config.llm_embed_dim,\n",
    "                kernel_size=self.config.audio_conv_kernel, \n",
    "                stride=self.config.audio_conv_stride, \n",
    "                padding=self.config.audio_conv_padding\n",
    "            )\n",
    "        \n",
    "        # Audio attention only\n",
    "        self.audio_align_attention = nn.MultiheadAttention(\n",
    "            self.config.llm_embed_dim,\n",
    "            self.config.attention_heads * 2,\n",
    "            dropout=self.config.attn_dropout,\n",
    "            add_bias_kv=self.config.is_add_bias_kv,\n",
    "            add_zero_attn=self.config.is_add_zero_attn\n",
    "        )\n",
    "        \n",
    "        self.abusive_head = FC_head(\n",
    "            num_classes=5, \n",
    "            hidden_dim=64, \n",
    "            llm_embed_dim=self.config.llm_output_dim, \n",
    "            add_pooling=self.config.add_pooling\n",
    "        )\n",
    "\n",
    "        self.criterion_abusive = nn.CrossEntropyLoss()\n",
    "        \n",
    "    def forward(self, inputs):\n",
    "        batch_size = inputs[\"abusive\"].shape[0]\n",
    "        \n",
    "        # Token handling\n",
    "        bos = torch.ones([batch_size, 1], dtype=torch.int64, device=self.config.device) * self.tokenizer.bos_token_id\n",
    "        sep = torch.ones([batch_size, 1], dtype=torch.int64, device=self.config.device) * self.tokenizer.eos_token_id\n",
    "        eos = torch.ones([batch_size, 1], dtype=torch.int64, device=self.config.device) * self.tokenizer.eos_token_id\n",
    "\n",
    "        # Mask handling\n",
    "        attention_mask_bos = torch.ones([batch_size, 1], dtype=torch.int64, device=self.config.device)\n",
    "        attention_mask_multimodal = torch.ones([batch_size, self.output_seq_len+1], dtype=torch.int64, device=self.config.device)\n",
    "        attention_mask_eos = torch.zeros([batch_size, 1], dtype=torch.int64, device=self.config.device)\n",
    "        \n",
    "        # Type IDs\n",
    "        token_type_ids_bos = torch.zeros([batch_size, 1], dtype=torch.int64, device=self.config.device)\n",
    "        token_type_ids_multimodal = torch.zeros([batch_size, self.output_seq_len+1], dtype=torch.int64, device=self.config.device)\n",
    "        token_type_ids_eos = torch.ones([batch_size, 1], dtype=torch.int64, device=self.config.device)\n",
    "        \n",
    "        input_ids = inputs[\"input_ids\"]\n",
    "        attention_mask = inputs[\"attention_mask\"]\n",
    "        token_type_ids = inputs[\"token_type_ids\"]\n",
    "        \n",
    "        # For Electra embeddings\n",
    "        embed_tokens = self.adapter_llm.get_input_embeddings()\n",
    "        token_embeddings = embed_tokens.weight.unsqueeze(0).repeat(batch_size, 1, 1).transpose(0, 1).contiguous()\n",
    "        text_embeds = embed_tokens(input_ids)\n",
    "        \n",
    "        # Audio processing\n",
    "        audio_encoder_out = self.audio_encoder(inputs[\"audio\"])\n",
    "        audio_encoder_out = self.transform_audio_to_hidden(audio_encoder_out.last_hidden_state)\n",
    "        audio_encoder_out = self.audio_align_attention(\n",
    "            audio_encoder_out.transpose(0, 1).contiguous(), \n",
    "            token_embeddings,\n",
    "            token_embeddings\n",
    "        )[0].transpose(0, 1).contiguous()\n",
    "        \n",
    "        # For Electra\n",
    "        bos_embeds = self.adapter_llm.get_input_embeddings()(bos)\n",
    "        sep_embeds = self.adapter_llm.get_input_embeddings()(sep)\n",
    "        eos_embeds = self.adapter_llm.get_input_embeddings()(eos)\n",
    "        \n",
    "        # Combine embeddings\n",
    "        text_embeds = torch.cat([bos_embeds, audio_encoder_out, sep_embeds, text_embeds, eos_embeds], dim=1)\n",
    "        \n",
    "        attention_mask = torch.cat([attention_mask_bos, attention_mask_multimodal, attention_mask, attention_mask_eos], dim=1)\n",
    "        token_type_ids = torch.cat([token_type_ids_bos, token_type_ids_multimodal, token_type_ids, token_type_ids_eos], dim=1)\n",
    "        \n",
    "        # Get LLM outputs\n",
    "        llm_outputs = self.adapter_llm(\n",
    "            inputs_embeds=text_embeds, \n",
    "            attention_mask=attention_mask\n",
    "        ).last_hidden_state\n",
    "        \n",
    "        outputs = {}\n",
    "                \n",
    "        if self.config.abusive_bool:\n",
    "            abusive_logits = self.abusive_head(llm_outputs)\n",
    "            outputs[\"abusive\"] = abusive_logits\n",
    "            outputs[\"loss\"] = self.criterion_abusive(abusive_logits, inputs[\"abusive\"])\n",
    "                                    \n",
    "        return outputs\n",
    "\n"
   ]
  },
  {
   "cell_type": "markdown",
   "id": "89c02463",
   "metadata": {
    "papermill": {
     "duration": 0.024267,
     "end_time": "2025-01-20T10:09:00.223157",
     "exception": false,
     "start_time": "2025-01-20T10:09:00.198890",
     "status": "completed"
    },
    "tags": []
   },
   "source": [
    "# Iteration.py"
   ]
  },
  {
   "cell_type": "code",
   "execution_count": 6,
   "id": "7d88cab4",
   "metadata": {
    "execution": {
     "iopub.execute_input": "2025-01-20T10:09:00.318109Z",
     "iopub.status.busy": "2025-01-20T10:09:00.317783Z",
     "iopub.status.idle": "2025-01-20T10:09:00.342381Z",
     "shell.execute_reply": "2025-01-20T10:09:00.341625Z"
    },
    "papermill": {
     "duration": 0.052407,
     "end_time": "2025-01-20T10:09:00.344327",
     "exception": false,
     "start_time": "2025-01-20T10:09:00.291920",
     "status": "completed"
    },
    "tags": []
   },
   "outputs": [],
   "source": [
    "import torch\n",
    "import torch.nn as nn\n",
    "from torch.utils.data import DataLoader\n",
    "from transformers import AdamW, get_linear_schedule_with_warmup\n",
    "from tqdm import tqdm\n",
    "import json\n",
    "from sklearn.metrics import accuracy_score, f1_score, classification_report\n",
    "\n",
    "def train_one_epoch(model, train_dataloader, optimizer, config, devices=None):\n",
    "    model = model.to(config.device)\n",
    "    model.train()\n",
    "    total_loss = 0.0\n",
    "\n",
    "    for batch in tqdm(train_dataloader):\n",
    "        batch = {key: value.to(config.device) for key, value in batch.items()}\n",
    " \n",
    "        optimizer.zero_grad()\n",
    "        outputs = model(batch)\n",
    "        loss = outputs[\"loss\"]\n",
    "        \n",
    "        loss.backward()\n",
    "        \n",
    "        nn.utils.clip_grad_norm_(model.parameters(), max_norm=1.0)\n",
    "\n",
    "        optimizer.step()\n",
    "        \n",
    "        total_loss += loss.item()\n",
    "        \n",
    "\n",
    "    average_loss = total_loss / len(train_dataloader)\n",
    "    \n",
    "    return average_loss\n",
    "    \n",
    "\n",
    "def validate(model, val_dataloader, config, devices=None):\n",
    "    model = model.to(config.device)\n",
    "    model.eval()\n",
    "    task_metrics = {task: {\"accuracy\": 0.0, \"f1\": 0.0} for task in config.tasks}\n",
    "    all_labels = {task: [] for task in config.tasks}\n",
    "    all_predictions = {task: [] for task in config.tasks}\n",
    "\n",
    "    with torch.no_grad():\n",
    "        for batch in tqdm(val_dataloader):\n",
    "            inputs = {key: value.to(config.device) for key, value in batch.items()}\n",
    "            \n",
    "            outputs = model(inputs)\n",
    "\n",
    "            for task in config.tasks:\n",
    "                # print(outputs[task], batch[task])\n",
    "\n",
    "                task_predictions = torch.argmax(outputs[task], dim=1).detach().cpu().numpy()\n",
    "                task_labels = torch.argmax(batch[task], dim=1).detach().cpu().numpy()\n",
    "\n",
    "                task_accuracy = accuracy_score(task_labels, task_predictions)\n",
    "                task_f1 = f1_score(task_labels, task_predictions, average=\"weighted\")\n",
    "\n",
    "                task_metrics[task][\"accuracy\"] += task_accuracy\n",
    "                task_metrics[task][\"f1\"] += task_f1\n",
    "\n",
    "                all_labels[task].extend(task_labels)\n",
    "                all_predictions[task].extend(task_predictions)\n",
    "\n",
    "    for task in config.tasks:\n",
    "        task_metrics[task][\"accuracy\"] /= len(val_dataloader)\n",
    "        task_metrics[task][\"f1\"] /= len(val_dataloader)\n",
    "        task_metrics[task][\"classification_report\"] = classification_report(all_labels[task], all_predictions[task])\n",
    "        print(task, \" \\n\" , task_metrics[task][\"accuracy\"] , \" \\n\", task_metrics[task][\"f1\"], \" \\n\", task_metrics[task][\"classification_report\"], \"\\n\")\n",
    "        \n",
    "    return task_metrics, all_labels, all_predictions\n",
    "\n",
    "def train_model(model, train_dataloader, val_dataloader, config, num_epochs, track_task, track_metric, devices=None):\n",
    "    \n",
    "    model = model.to(config.device)\n",
    "    history = {\"train_validation\": []}\n",
    "    \n",
    "    optimizer = torch.optim.AdamW(model.parameters(), lr=1e-5)\n",
    "    \n",
    "    best_val_metric = 0.0\n",
    "\n",
    "    for epoch in range(num_epochs):\n",
    "        print(f\"Epoch {epoch + 1} out of {num_epochs}\")\n",
    "\n",
    "        # Training\n",
    "        train_loss = train_one_epoch(model, train_dataloader, optimizer, config)\n",
    "        \n",
    "        print(train_loss)\n",
    "\n",
    "        # Validation\n",
    "        val_metrics, _, _ = validate(model, val_dataloader, config)\n",
    "        \n",
    "        # print(val_metrics)\n",
    "\n",
    "        # Save metrics to history\n",
    "        epoch_data = {\n",
    "            \"epoch\": epoch + 1,\n",
    "            \"train_loss\": train_loss,\n",
    "            \"val_metrics\": val_metrics\n",
    "        }\n",
    "        \n",
    "        history[\"train_validation\"].append(epoch_data)\n",
    "        \n",
    "        json_save_path = \"./results\" + config.file_name + \".json\"\n",
    "\n",
    "        # Save to JSON file\n",
    "        with open(json_save_path, 'w') as json_file:\n",
    "            json.dump(history, json_file)\n",
    "        \n",
    "        \n",
    "        if val_metrics[track_task][track_metric] > best_val_metric:\n",
    "            best_val_metric = val_metrics[track_task][track_metric]\n",
    "            torch.save(model.state_dict(),\"./model_save.pth\")\n",
    "\n",
    "    \n",
    "    print(\"Training finished!\")\n",
    "\n"
   ]
  },
  {
   "cell_type": "markdown",
   "id": "1c1c3f1c",
   "metadata": {
    "papermill": {
     "duration": 0.025411,
     "end_time": "2025-01-20T10:09:00.396981",
     "exception": false,
     "start_time": "2025-01-20T10:09:00.371570",
     "status": "completed"
    },
    "tags": []
   },
   "source": [
    "# Train.py"
   ]
  },
  {
   "cell_type": "code",
   "execution_count": 7,
   "id": "c68f8aeb",
   "metadata": {
    "execution": {
     "iopub.execute_input": "2025-01-20T10:09:00.449593Z",
     "iopub.status.busy": "2025-01-20T10:09:00.449166Z",
     "iopub.status.idle": "2025-01-20T10:32:59.091620Z",
     "shell.execute_reply": "2025-01-20T10:32:59.090253Z"
    },
    "papermill": {
     "duration": 1438.671756,
     "end_time": "2025-01-20T10:32:59.093932",
     "exception": false,
     "start_time": "2025-01-20T10:09:00.422176",
     "status": "completed"
    },
    "tags": []
   },
   "outputs": [
    {
     "data": {
      "application/vnd.jupyter.widget-view+json": {
       "model_id": "ad825065c6a1479899b9ba2c370e6a27",
       "version_major": 2,
       "version_minor": 0
      },
      "text/plain": [
       "tokenizer_config.json:   0%|          | 0.00/191 [00:00<?, ?B/s]"
      ]
     },
     "metadata": {},
     "output_type": "display_data"
    },
    {
     "data": {
      "application/vnd.jupyter.widget-view+json": {
       "model_id": "e847ac6f1fc14d2f86f048aa5410b2f2",
       "version_major": 2,
       "version_minor": 0
      },
      "text/plain": [
       "config.json:   0%|          | 0.00/505 [00:00<?, ?B/s]"
      ]
     },
     "metadata": {},
     "output_type": "display_data"
    },
    {
     "data": {
      "application/vnd.jupyter.widget-view+json": {
       "model_id": "223f624e54b74ee8986725207cc18f2f",
       "version_major": 2,
       "version_minor": 0
      },
      "text/plain": [
       "vocab.txt:   0%|          | 0.00/604k [00:00<?, ?B/s]"
      ]
     },
     "metadata": {},
     "output_type": "display_data"
    },
    {
     "data": {
      "application/vnd.jupyter.widget-view+json": {
       "model_id": "26ab999bfbdd4bcf99f999d1e91c4665",
       "version_major": 2,
       "version_minor": 0
      },
      "text/plain": [
       "special_tokens_map.json:   0%|          | 0.00/112 [00:00<?, ?B/s]"
      ]
     },
     "metadata": {},
     "output_type": "display_data"
    },
    {
     "data": {
      "application/vnd.jupyter.widget-view+json": {
       "model_id": "e7ae9995997347b1b8b50449fbfb1e9b",
       "version_major": 2,
       "version_minor": 0
      },
      "text/plain": [
       "model.safetensors:   0%|          | 0.00/443M [00:00<?, ?B/s]"
      ]
     },
     "metadata": {},
     "output_type": "display_data"
    },
    {
     "name": "stderr",
     "output_type": "stream",
     "text": [
      "Some weights of BertModel were not initialized from the model checkpoint at kuppuluri/telugu_bertu and are newly initialized: ['bert.pooler.dense.bias', 'bert.pooler.dense.weight']\n",
      "You should probably TRAIN this model on a down-stream task to be able to use it for predictions and inference.\n"
     ]
    },
    {
     "data": {
      "application/vnd.jupyter.widget-view+json": {
       "model_id": "7b3acccf15f3450c80fcf6394e0178ef",
       "version_major": 2,
       "version_minor": 0
      },
      "text/plain": [
       "config.json:   0%|          | 0.00/1.97k [00:00<?, ?B/s]"
      ]
     },
     "metadata": {},
     "output_type": "display_data"
    },
    {
     "data": {
      "application/vnd.jupyter.widget-view+json": {
       "model_id": "813247f5749b4e7fb07bf7980e46fb69",
       "version_major": 2,
       "version_minor": 0
      },
      "text/plain": [
       "model.safetensors:   0%|          | 0.00/967M [00:00<?, ?B/s]"
      ]
     },
     "metadata": {},
     "output_type": "display_data"
    },
    {
     "name": "stdout",
     "output_type": "stream",
     "text": [
      "Epoch 1 out of 10\n"
     ]
    },
    {
     "name": "stderr",
     "output_type": "stream",
     "text": [
      "100%|██████████| 112/112 [02:16<00:00,  1.22s/it]\n"
     ]
    },
    {
     "name": "stdout",
     "output_type": "stream",
     "text": [
      "1.5252455393118518\n"
     ]
    },
    {
     "name": "stderr",
     "output_type": "stream",
     "text": [
      "100%|██████████| 13/13 [00:05<00:00,  2.19it/s]\n"
     ]
    },
    {
     "name": "stdout",
     "output_type": "stream",
     "text": [
      "abusive  \n",
      " 0.4807692307692308  \n",
      " 0.4025641025641026  \n",
      "               precision    recall  f1-score   support\n",
      "\n",
      "           0       0.48      0.91      0.62        11\n",
      "           1       0.00      0.00      0.00         9\n",
      "           2       0.48      0.78      0.60        18\n",
      "           3       0.00      0.00      0.00         5\n",
      "           4       0.00      0.00      0.00         7\n",
      "\n",
      "    accuracy                           0.48        50\n",
      "   macro avg       0.19      0.34      0.24        50\n",
      "weighted avg       0.28      0.48      0.35        50\n",
      " \n",
      "\n",
      "Epoch 2 out of 10\n"
     ]
    },
    {
     "name": "stderr",
     "output_type": "stream",
     "text": [
      "100%|██████████| 112/112 [02:14<00:00,  1.20s/it]\n"
     ]
    },
    {
     "name": "stdout",
     "output_type": "stream",
     "text": [
      "1.1448855972183603\n"
     ]
    },
    {
     "name": "stderr",
     "output_type": "stream",
     "text": [
      "100%|██████████| 13/13 [00:06<00:00,  2.16it/s]\n"
     ]
    },
    {
     "name": "stdout",
     "output_type": "stream",
     "text": [
      "abusive  \n",
      " 0.5769230769230769  \n",
      " 0.5371794871794872  \n",
      "               precision    recall  f1-score   support\n",
      "\n",
      "           0       0.61      1.00      0.76        11\n",
      "           1       0.40      0.22      0.29         9\n",
      "           2       0.58      0.78      0.67        18\n",
      "           3       1.00      0.40      0.57         5\n",
      "           4       0.00      0.00      0.00         7\n",
      "\n",
      "    accuracy                           0.58        50\n",
      "   macro avg       0.52      0.48      0.46        50\n",
      "weighted avg       0.52      0.58      0.52        50\n",
      " \n",
      "\n",
      "Epoch 3 out of 10\n"
     ]
    },
    {
     "name": "stderr",
     "output_type": "stream",
     "text": [
      "100%|██████████| 112/112 [02:14<00:00,  1.20s/it]\n"
     ]
    },
    {
     "name": "stdout",
     "output_type": "stream",
     "text": [
      "0.9108063387684524\n"
     ]
    },
    {
     "name": "stderr",
     "output_type": "stream",
     "text": [
      "100%|██████████| 13/13 [00:06<00:00,  2.15it/s]\n"
     ]
    },
    {
     "name": "stdout",
     "output_type": "stream",
     "text": [
      "abusive  \n",
      " 0.6538461538461539  \n",
      " 0.6333333333333334  \n",
      "               precision    recall  f1-score   support\n",
      "\n",
      "           0       1.00      0.73      0.84        11\n",
      "           1       0.54      0.78      0.64         9\n",
      "           2       0.59      0.89      0.71        18\n",
      "           3       1.00      0.20      0.33         5\n",
      "           4       1.00      0.14      0.25         7\n",
      "\n",
      "    accuracy                           0.66        50\n",
      "   macro avg       0.83      0.55      0.55        50\n",
      "weighted avg       0.77      0.66      0.62        50\n",
      " \n",
      "\n",
      "Epoch 4 out of 10\n"
     ]
    },
    {
     "name": "stderr",
     "output_type": "stream",
     "text": [
      "100%|██████████| 112/112 [02:14<00:00,  1.20s/it]\n"
     ]
    },
    {
     "name": "stdout",
     "output_type": "stream",
     "text": [
      "0.5650597192746188\n"
     ]
    },
    {
     "name": "stderr",
     "output_type": "stream",
     "text": [
      "100%|██████████| 13/13 [00:05<00:00,  2.17it/s]\n"
     ]
    },
    {
     "name": "stdout",
     "output_type": "stream",
     "text": [
      "abusive  \n",
      " 0.7307692307692307  \n",
      " 0.7102564102564103  \n",
      "               precision    recall  f1-score   support\n",
      "\n",
      "           0       1.00      0.82      0.90        11\n",
      "           1       0.67      0.67      0.67         9\n",
      "           2       0.62      0.89      0.73        18\n",
      "           3       1.00      0.40      0.57         5\n",
      "           4       0.75      0.43      0.55         7\n",
      "\n",
      "    accuracy                           0.72        50\n",
      "   macro avg       0.81      0.64      0.68        50\n",
      "weighted avg       0.77      0.72      0.71        50\n",
      " \n",
      "\n",
      "Epoch 5 out of 10\n"
     ]
    },
    {
     "name": "stderr",
     "output_type": "stream",
     "text": [
      "100%|██████████| 112/112 [02:14<00:00,  1.20s/it]\n"
     ]
    },
    {
     "name": "stdout",
     "output_type": "stream",
     "text": [
      "0.35293653584916945\n"
     ]
    },
    {
     "name": "stderr",
     "output_type": "stream",
     "text": [
      "100%|██████████| 13/13 [00:05<00:00,  2.21it/s]\n"
     ]
    },
    {
     "name": "stdout",
     "output_type": "stream",
     "text": [
      "abusive  \n",
      " 0.6538461538461539  \n",
      " 0.6314102564102565  \n",
      "               precision    recall  f1-score   support\n",
      "\n",
      "           0       0.55      1.00      0.71        11\n",
      "           1       0.57      0.44      0.50         9\n",
      "           2       0.75      0.67      0.71        18\n",
      "           3       1.00      0.80      0.89         5\n",
      "           4       0.67      0.29      0.40         7\n",
      "\n",
      "    accuracy                           0.66        50\n",
      "   macro avg       0.71      0.64      0.64        50\n",
      "weighted avg       0.69      0.66      0.65        50\n",
      " \n",
      "\n",
      "Epoch 6 out of 10\n"
     ]
    },
    {
     "name": "stderr",
     "output_type": "stream",
     "text": [
      "100%|██████████| 112/112 [02:15<00:00,  1.21s/it]\n"
     ]
    },
    {
     "name": "stdout",
     "output_type": "stream",
     "text": [
      "0.16577707360764699\n"
     ]
    },
    {
     "name": "stderr",
     "output_type": "stream",
     "text": [
      "100%|██████████| 13/13 [00:06<00:00,  2.16it/s]\n"
     ]
    },
    {
     "name": "stdout",
     "output_type": "stream",
     "text": [
      "abusive  \n",
      " 0.7307692307692307  \n",
      " 0.726923076923077  \n",
      "               precision    recall  f1-score   support\n",
      "\n",
      "           0       0.83      0.91      0.87        11\n",
      "           1       0.80      0.44      0.57         9\n",
      "           2       0.72      0.72      0.72        18\n",
      "           3       0.56      1.00      0.71         5\n",
      "           4       0.67      0.57      0.62         7\n",
      "\n",
      "    accuracy                           0.72        50\n",
      "   macro avg       0.72      0.73      0.70        50\n",
      "weighted avg       0.74      0.72      0.71        50\n",
      " \n",
      "\n",
      "Epoch 7 out of 10\n"
     ]
    },
    {
     "name": "stderr",
     "output_type": "stream",
     "text": [
      "100%|██████████| 112/112 [02:14<00:00,  1.21s/it]\n"
     ]
    },
    {
     "name": "stdout",
     "output_type": "stream",
     "text": [
      "0.09765736363520514\n"
     ]
    },
    {
     "name": "stderr",
     "output_type": "stream",
     "text": [
      "100%|██████████| 13/13 [00:05<00:00,  2.21it/s]\n"
     ]
    },
    {
     "name": "stdout",
     "output_type": "stream",
     "text": [
      "abusive  \n",
      " 0.6153846153846154  \n",
      " 0.6583333333333332  \n",
      "               precision    recall  f1-score   support\n",
      "\n",
      "           0       0.83      0.91      0.87        11\n",
      "           1       0.60      0.33      0.43         9\n",
      "           2       0.86      0.33      0.48        18\n",
      "           3       0.50      1.00      0.67         5\n",
      "           4       0.38      0.86      0.52         7\n",
      "\n",
      "    accuracy                           0.60        50\n",
      "   macro avg       0.63      0.69      0.59        50\n",
      "weighted avg       0.70      0.60      0.58        50\n",
      " \n",
      "\n",
      "Epoch 8 out of 10\n"
     ]
    },
    {
     "name": "stderr",
     "output_type": "stream",
     "text": [
      "100%|██████████| 112/112 [02:15<00:00,  1.21s/it]\n"
     ]
    },
    {
     "name": "stdout",
     "output_type": "stream",
     "text": [
      "0.046774018165056726\n"
     ]
    },
    {
     "name": "stderr",
     "output_type": "stream",
     "text": [
      "100%|██████████| 13/13 [00:06<00:00,  2.15it/s]\n"
     ]
    },
    {
     "name": "stdout",
     "output_type": "stream",
     "text": [
      "abusive  \n",
      " 0.75  \n",
      " 0.7974358974358975  \n",
      "               precision    recall  f1-score   support\n",
      "\n",
      "           0       0.91      0.91      0.91        11\n",
      "           1       0.75      0.67      0.71         9\n",
      "           2       0.83      0.56      0.67        18\n",
      "           3       0.71      1.00      0.83         5\n",
      "           4       0.50      0.86      0.63         7\n",
      "\n",
      "    accuracy                           0.74        50\n",
      "   macro avg       0.74      0.80      0.75        50\n",
      "weighted avg       0.78      0.74      0.74        50\n",
      " \n",
      "\n",
      "Epoch 9 out of 10\n"
     ]
    },
    {
     "name": "stderr",
     "output_type": "stream",
     "text": [
      "100%|██████████| 112/112 [02:14<00:00,  1.20s/it]\n"
     ]
    },
    {
     "name": "stdout",
     "output_type": "stream",
     "text": [
      "0.011597894968352713\n"
     ]
    },
    {
     "name": "stderr",
     "output_type": "stream",
     "text": [
      "100%|██████████| 13/13 [00:05<00:00,  2.18it/s]\n"
     ]
    },
    {
     "name": "stdout",
     "output_type": "stream",
     "text": [
      "abusive  \n",
      " 0.6730769230769231  \n",
      " 0.7179487179487178  \n",
      "               precision    recall  f1-score   support\n",
      "\n",
      "           0       0.79      1.00      0.88        11\n",
      "           1       0.80      0.44      0.57         9\n",
      "           2       0.88      0.39      0.54        18\n",
      "           3       0.83      1.00      0.91         5\n",
      "           4       0.35      0.86      0.50         7\n",
      "\n",
      "    accuracy                           0.66        50\n",
      "   macro avg       0.73      0.74      0.68        50\n",
      "weighted avg       0.76      0.66      0.65        50\n",
      " \n",
      "\n",
      "Epoch 10 out of 10\n"
     ]
    },
    {
     "name": "stderr",
     "output_type": "stream",
     "text": [
      "100%|██████████| 112/112 [02:15<00:00,  1.21s/it]\n"
     ]
    },
    {
     "name": "stdout",
     "output_type": "stream",
     "text": [
      "0.005429919020181322\n"
     ]
    },
    {
     "name": "stderr",
     "output_type": "stream",
     "text": [
      "100%|██████████| 13/13 [00:05<00:00,  2.17it/s]"
     ]
    },
    {
     "name": "stdout",
     "output_type": "stream",
     "text": [
      "abusive  \n",
      " 0.7307692307692307  \n",
      " 0.7653846153846153  \n",
      "               precision    recall  f1-score   support\n",
      "\n",
      "           0       0.91      0.91      0.91        11\n",
      "           1       0.70      0.78      0.74         9\n",
      "           2       0.82      0.50      0.62        18\n",
      "           3       0.62      1.00      0.77         5\n",
      "           4       0.50      0.71      0.59         7\n",
      "\n",
      "    accuracy                           0.72        50\n",
      "   macro avg       0.71      0.78      0.72        50\n",
      "weighted avg       0.75      0.72      0.72        50\n",
      " \n",
      "\n",
      "Training finished!\n"
     ]
    },
    {
     "name": "stderr",
     "output_type": "stream",
     "text": [
      "\n"
     ]
    }
   ],
   "source": [
    "'''\n",
    "python -W ignore run.py\n",
    "python block_core.py\n",
    "find -type d -name 'pymp*' -exec rm -r {} \\;\n",
    "'''\n",
    "\n",
    "import torch\n",
    "import torch.nn as nn\n",
    "from tokenizers import AddedToken\n",
    "from transformers import CLIPModel, VideoMAEModel, Wav2Vec2Model, VideoMAEConfig, CLIPConfig, Wav2Vec2Config, XLMRobertaConfig\n",
    "from transformers import AutoTokenizer, AutoModelForCausalLM, BitsAndBytesConfig, AutoModelForSeq2SeqLM\n",
    "# from model.additional_modules import LSTM_fc, FC_head, Gate_Attention\n",
    "from argparse import Namespace \n",
    "# from model.model import Multimodal_LLM\n",
    "# from data.dataset import CustomDataset\n",
    "# from iteration import train_model, train_one_epoch, validate\n",
    "from torch.utils.data import DataLoader\n",
    "import pandas as pd\n",
    "import numpy as np\n",
    "from copy import deepcopy\n",
    "from sklearn.model_selection import train_test_split\n",
    "from transformers import BertTokenizer, AlbertTokenizer, XLMRobertaTokenizerFast, GPT2Tokenizer\n",
    "#only for gpt2 and assign values\n",
    "# Load model directly\n",
    "from transformers import AutoTokenizer, AutoModelForCausalLM\n",
    "\n",
    "from transformers import GPT2Model, BertModel, AlbertModel, XLMRobertaModel\n",
    "import pickle\n",
    "from tqdm import tqdm\n",
    "import warnings\n",
    "warnings.filterwarnings('ignore')\n",
    "import os\n",
    "\n",
    "tasks_bool = {\"abusive\" : True}\n",
    "tasks = []\n",
    "name = \"gpt2_vidmae_whisper_\"\n",
    "\n",
    "for k, v in tasks_bool.items():\n",
    "    if tasks_bool[k]:\n",
    "        tasks.append(k)\n",
    "        name += k + \"_\"\n",
    "        \n",
    "config = Namespace(\n",
    "    file_name=name + \"0\",\n",
    "    device=torch.device(\"cuda:0\"),\n",
    "    tokenizer_path=\"ckpts\",\n",
    "    tasks = tasks,\n",
    "    abusive_bool = tasks_bool[\"abusive\"],\n",
    "#     abusive_level_bool = tasks_bool[\"abusive_level\"],\n",
    "#     sentiment_bool = tasks_bool[\"sentiment\"],\n",
    "    video_encoder=\"MCG-NJU/videomae-base\",\n",
    "    audio_encoder=\"openai/whisper-small\",\n",
    "    lstm_or_conv = False,\n",
    "    image_conv_kernel=23,\n",
    "    image_conv_stride=3,\n",
    "    image_conv_padding=8,\n",
    "    video_conv_kernel=36,\n",
    "    video_conv_stride=24,\n",
    "    video_conv_padding=0,\n",
    "    audio_conv_kernel=50,\n",
    "    audio_conv_stride=23,\n",
    "    audio_conv_padding=1,\n",
    "    llm_embed_dim=768,\n",
    "    llm_output_dim=768,\n",
    "    attn_dropout=0.1,\n",
    "    is_add_bias_kv=True,\n",
    "    is_add_zero_attn=True,\n",
    "    attention_heads=8,\n",
    "    image_dim=768,\n",
    "    video_dim=768,\n",
    "    audio_dim=768,\n",
    "    image_seq_len=197,\n",
    "    video_seq_len=1568,\n",
    "    audio_seq_len=1500,\n",
    "    min_mm_seq_len=64,\n",
    "    lstm_num_layers=1,\n",
    "    tokenizer_max_len=128,\n",
    "    add_pooling = False,\n",
    "    train=True,\n",
    "    directory = \"./\",\n",
    "    results_directory = \"./results/\"\n",
    ")\n",
    "\n",
    "df = pd.read_csv(\"/kaggle/input/hs-telugu-ohe/data.csv\")\n",
    "df_train_val, df_test = train_test_split(df,stratify=df['abusive'], test_size=0.1, random_state=28703)\n",
    "df_train, df_val = train_test_split(df_train_val,stratify=df_train_val['abusive'], test_size=0.1, random_state=28703)\n",
    "\n",
    "num_epochs = 10\n",
    "patience = 2\n",
    "batch_size = 4\n",
    "\n",
    "# #for roberta\n",
    "# tokenizer = XLMRobertaTokenizerFast.from_pretrained(\"l3cube-pune/hing-roberta\")\n",
    "# model = XLMRobertaModel.from_pretrained(\"l3cube-pune/hing-roberta\", torch_dtype=torch.float32)\n",
    "\n",
    "#for gpt2\n",
    "# tokenizer = AutoTokenizer.from_pretrained('ritog/bangla-gpt2')\n",
    "# model = GPT2Model.from_pretrained('ritog/bangla-gpt2', torch_dtype=torch.float32)\n",
    "from transformers import AutoTokenizer, AutoModelForPreTraining\n",
    "\n",
    "# tokenizer = AutoTokenizer.from_pretrained(\"csebuetnlp/banglabert\")\n",
    "# model = AutoModelForPreTraining.from_pretrained(\"csebuetnlp/banglabert\")\n",
    "from transformers import ElectraTokenizer, ElectraModel\n",
    "\n",
    "# Load model directly\n",
    "from transformers import AutoTokenizer, AutoModel\n",
    "\n",
    "tokenizer = AutoTokenizer.from_pretrained(\"kuppuluri/telugu_bertu\")\n",
    "model = AutoModel.from_pretrained(\"kuppuluri/telugu_bertu\")\n",
    "\n",
    "# tokenizer = ElectraTokenizer.from_pretrained(\"l3cube-pune/telugu-bert-scratch\")\n",
    "# model = ElectraModel.from_pretrained(\"l3cube-pune/telugu-bert-scratch\")\n",
    "\n",
    "tokenizer.bos_token_id = 1\n",
    "tokenizer.eos_token_id = 2\n",
    "\n",
    "\n",
    "model = Multimodal_LLM(batch_size=batch_size, config=config, tokenizer=tokenizer, adapter_llm=model)\n",
    "\n",
    "train_ds = CustomDataset(dataframe=df_train, train=True, tokenizer=tokenizer)\n",
    "val_ds = CustomDataset(df_val, train=True, tokenizer=tokenizer)\n",
    "test_ds = CustomDataset(df_test, train=False, tokenizer=tokenizer)\n",
    "\n",
    "\n",
    "train_dataloader = DataLoader(train_ds, batch_size=batch_size, num_workers=16, shuffle=True)\n",
    "val_dataloader = DataLoader(val_ds, batch_size=batch_size, num_workers=16)\n",
    "test_dataloader = DataLoader(test_ds, batch_size=batch_size, num_workers=16)\n",
    "\n",
    "\n",
    "train_model(model, train_dataloader, val_dataloader, config, num_epochs, \"abusive\", \"f1\", devices=None)"
   ]
  },
  {
   "cell_type": "code",
   "execution_count": 8,
   "id": "95b1e8b2",
   "metadata": {
    "execution": {
     "iopub.execute_input": "2025-01-20T10:32:59.340471Z",
     "iopub.status.busy": "2025-01-20T10:32:59.339429Z",
     "iopub.status.idle": "2025-01-20T10:33:06.597086Z",
     "shell.execute_reply": "2025-01-20T10:33:06.595760Z"
    },
    "papermill": {
     "duration": 7.353631,
     "end_time": "2025-01-20T10:33:06.599548",
     "exception": false,
     "start_time": "2025-01-20T10:32:59.245917",
     "status": "completed"
    },
    "tags": []
   },
   "outputs": [
    {
     "name": "stderr",
     "output_type": "stream",
     "text": [
      "100%|██████████| 14/14 [00:06<00:00,  2.16it/s]"
     ]
    },
    {
     "name": "stdout",
     "output_type": "stream",
     "text": [
      "abusive  \n",
      " 0.5714285714285714  \n",
      " 0.5375  \n",
      "               precision    recall  f1-score   support\n",
      "\n",
      "           0       0.89      0.62      0.73        13\n",
      "           1       0.57      0.40      0.47        10\n",
      "           2       0.59      0.80      0.68        20\n",
      "           3       0.25      0.33      0.29         6\n",
      "           4       0.40      0.29      0.33         7\n",
      "\n",
      "    accuracy                           0.57        56\n",
      "   macro avg       0.54      0.49      0.50        56\n",
      "weighted avg       0.60      0.57      0.57        56\n",
      " \n",
      "\n"
     ]
    },
    {
     "name": "stderr",
     "output_type": "stream",
     "text": [
      "\n"
     ]
    }
   ],
   "source": [
    "\n",
    "checkpoint_path = \"./model_save.pth\"\n",
    "\n",
    "state_dict = torch.load(checkpoint_path, map_location=config.device)\n",
    "model.load_state_dict(state_dict)\n",
    "\n",
    "task_metrics, all_labels, all_predictions=validate(model, test_dataloader, config)"
   ]
  },
  {
   "cell_type": "code",
   "execution_count": 9,
   "id": "48d60739",
   "metadata": {
    "execution": {
     "iopub.execute_input": "2025-01-20T10:33:06.792185Z",
     "iopub.status.busy": "2025-01-20T10:33:06.791845Z",
     "iopub.status.idle": "2025-01-20T10:33:06.797298Z",
     "shell.execute_reply": "2025-01-20T10:33:06.796393Z"
    },
    "papermill": {
     "duration": 0.099194,
     "end_time": "2025-01-20T10:33:06.799078",
     "exception": false,
     "start_time": "2025-01-20T10:33:06.699884",
     "status": "completed"
    },
    "tags": []
   },
   "outputs": [
    {
     "name": "stdout",
     "output_type": "stream",
     "text": [
      "{'abusive': {'accuracy': 0.5714285714285714, 'f1': 0.5375, 'classification_report': '              precision    recall  f1-score   support\\n\\n           0       0.89      0.62      0.73        13\\n           1       0.57      0.40      0.47        10\\n           2       0.59      0.80      0.68        20\\n           3       0.25      0.33      0.29         6\\n           4       0.40      0.29      0.33         7\\n\\n    accuracy                           0.57        56\\n   macro avg       0.54      0.49      0.50        56\\nweighted avg       0.60      0.57      0.57        56\\n'}}\n"
     ]
    }
   ],
   "source": [
    "print(task_metrics)"
   ]
  },
  {
   "cell_type": "code",
   "execution_count": 10,
   "id": "3aa90b97",
   "metadata": {
    "execution": {
     "iopub.execute_input": "2025-01-20T10:33:06.981720Z",
     "iopub.status.busy": "2025-01-20T10:33:06.981356Z",
     "iopub.status.idle": "2025-01-20T10:33:06.986370Z",
     "shell.execute_reply": "2025-01-20T10:33:06.985410Z"
    },
    "papermill": {
     "duration": 0.10063,
     "end_time": "2025-01-20T10:33:06.988176",
     "exception": false,
     "start_time": "2025-01-20T10:33:06.887546",
     "status": "completed"
    },
    "tags": []
   },
   "outputs": [
    {
     "name": "stdout",
     "output_type": "stream",
     "text": [
      "{'abusive': [2, 0, 4, 1, 4, 2, 3, 0, 2, 2, 2, 0, 4, 1, 2, 0, 1, 0, 4, 4, 2, 0, 2, 3, 1, 2, 2, 1, 2, 0, 4, 0, 0, 4, 0, 2, 1, 2, 2, 0, 3, 1, 2, 1, 3, 2, 2, 3, 1, 0, 2, 0, 2, 3, 2, 1]}\n"
     ]
    }
   ],
   "source": [
    "print(all_labels)"
   ]
  },
  {
   "cell_type": "code",
   "execution_count": 11,
   "id": "386b6556",
   "metadata": {
    "execution": {
     "iopub.execute_input": "2025-01-20T10:33:07.166367Z",
     "iopub.status.busy": "2025-01-20T10:33:07.165979Z",
     "iopub.status.idle": "2025-01-20T10:33:07.170907Z",
     "shell.execute_reply": "2025-01-20T10:33:07.169880Z"
    },
    "papermill": {
     "duration": 0.095526,
     "end_time": "2025-01-20T10:33:07.172682",
     "exception": false,
     "start_time": "2025-01-20T10:33:07.077156",
     "status": "completed"
    },
    "tags": []
   },
   "outputs": [
    {
     "name": "stdout",
     "output_type": "stream",
     "text": [
      "{'abusive': [2, 1, 2, 3, 2, 2, 4, 0, 2, 2, 2, 3, 4, 2, 2, 0, 1, 0, 2, 2, 2, 0, 2, 4, 3, 2, 3, 1, 1, 0, 2, 0, 0, 4, 3, 4, 1, 2, 2, 1, 3, 2, 2, 2, 3, 2, 3, 2, 0, 0, 2, 2, 2, 2, 2, 1]}\n"
     ]
    }
   ],
   "source": [
    " print(all_predictions)"
   ]
  },
  {
   "cell_type": "markdown",
   "id": "c62d6a22",
   "metadata": {
    "papermill": {
     "duration": 0.096707,
     "end_time": "2025-01-20T10:33:07.356890",
     "exception": false,
     "start_time": "2025-01-20T10:33:07.260183",
     "status": "completed"
    },
    "tags": []
   },
   "source": [
    "infer\n"
   ]
  },
  {
   "cell_type": "code",
   "execution_count": null,
   "id": "96c8260f",
   "metadata": {
    "papermill": {
     "duration": 0.090357,
     "end_time": "2025-01-20T10:33:07.535141",
     "exception": false,
     "start_time": "2025-01-20T10:33:07.444784",
     "status": "completed"
    },
    "tags": []
   },
   "outputs": [],
   "source": []
  },
  {
   "cell_type": "code",
   "execution_count": null,
   "id": "100fb4fe",
   "metadata": {
    "papermill": {
     "duration": 0.090995,
     "end_time": "2025-01-20T10:33:07.717863",
     "exception": false,
     "start_time": "2025-01-20T10:33:07.626868",
     "status": "completed"
    },
    "tags": []
   },
   "outputs": [],
   "source": []
  },
  {
   "cell_type": "code",
   "execution_count": 12,
   "id": "daeb78b7",
   "metadata": {
    "execution": {
     "iopub.execute_input": "2025-01-20T10:33:07.899082Z",
     "iopub.status.busy": "2025-01-20T10:33:07.898738Z",
     "iopub.status.idle": "2025-01-20T10:33:07.922840Z",
     "shell.execute_reply": "2025-01-20T10:33:07.921532Z"
    },
    "papermill": {
     "duration": 0.116404,
     "end_time": "2025-01-20T10:33:07.924853",
     "exception": false,
     "start_time": "2025-01-20T10:33:07.808449",
     "status": "completed"
    },
    "tags": []
   },
   "outputs": [],
   "source": [
    "df_test=pd.read_csv(\"/kaggle/input/hs-telugu-ohe-test/test.csv\")"
   ]
  },
  {
   "cell_type": "code",
   "execution_count": 13,
   "id": "cafdf32b",
   "metadata": {
    "execution": {
     "iopub.execute_input": "2025-01-20T10:33:08.112931Z",
     "iopub.status.busy": "2025-01-20T10:33:08.112073Z",
     "iopub.status.idle": "2025-01-20T10:33:08.116652Z",
     "shell.execute_reply": "2025-01-20T10:33:08.115732Z"
    },
    "papermill": {
     "duration": 0.09838,
     "end_time": "2025-01-20T10:33:08.118402",
     "exception": false,
     "start_time": "2025-01-20T10:33:08.020022",
     "status": "completed"
    },
    "tags": []
   },
   "outputs": [],
   "source": [
    "test_ds = CustomDataset(df_test, train=False, tokenizer=tokenizer)"
   ]
  },
  {
   "cell_type": "code",
   "execution_count": 14,
   "id": "eb14221a",
   "metadata": {
    "execution": {
     "iopub.execute_input": "2025-01-20T10:33:08.303272Z",
     "iopub.status.busy": "2025-01-20T10:33:08.302889Z",
     "iopub.status.idle": "2025-01-20T10:33:08.308057Z",
     "shell.execute_reply": "2025-01-20T10:33:08.307042Z"
    },
    "papermill": {
     "duration": 0.100009,
     "end_time": "2025-01-20T10:33:08.310031",
     "exception": false,
     "start_time": "2025-01-20T10:33:08.210022",
     "status": "completed"
    },
    "tags": []
   },
   "outputs": [],
   "source": [
    "test_dataloader = DataLoader(test_ds, batch_size=batch_size, num_workers=16)"
   ]
  },
  {
   "cell_type": "code",
   "execution_count": 15,
   "id": "64e479ca",
   "metadata": {
    "execution": {
     "iopub.execute_input": "2025-01-20T10:33:08.499867Z",
     "iopub.status.busy": "2025-01-20T10:33:08.498881Z",
     "iopub.status.idle": "2025-01-20T10:33:14.540694Z",
     "shell.execute_reply": "2025-01-20T10:33:14.539430Z"
    },
    "papermill": {
     "duration": 6.140727,
     "end_time": "2025-01-20T10:33:14.543123",
     "exception": false,
     "start_time": "2025-01-20T10:33:08.402396",
     "status": "completed"
    },
    "tags": []
   },
   "outputs": [
    {
     "name": "stderr",
     "output_type": "stream",
     "text": [
      "100%|██████████| 13/13 [00:06<00:00,  2.17it/s]"
     ]
    },
    {
     "name": "stdout",
     "output_type": "stream",
     "text": [
      "abusive  \n",
      " 0.17307692307692307  \n",
      " 0.2043956043956044  \n",
      "               precision    recall  f1-score   support\n",
      "\n",
      "           0       1.00      0.18      0.31        50\n",
      "           1       0.00      0.00      0.00         0\n",
      "           2       0.00      0.00      0.00         0\n",
      "           3       0.00      0.00      0.00         0\n",
      "           4       0.00      0.00      0.00         0\n",
      "\n",
      "    accuracy                           0.18        50\n",
      "   macro avg       0.20      0.04      0.06        50\n",
      "weighted avg       1.00      0.18      0.31        50\n",
      " \n",
      "\n"
     ]
    },
    {
     "name": "stderr",
     "output_type": "stream",
     "text": [
      "\n"
     ]
    }
   ],
   "source": [
    "task_metrics, all_labels, all_predictions=validate(model, test_dataloader, config)"
   ]
  },
  {
   "cell_type": "code",
   "execution_count": 16,
   "id": "2da5bb93",
   "metadata": {
    "execution": {
     "iopub.execute_input": "2025-01-20T10:33:14.732107Z",
     "iopub.status.busy": "2025-01-20T10:33:14.731222Z",
     "iopub.status.idle": "2025-01-20T10:33:14.739567Z",
     "shell.execute_reply": "2025-01-20T10:33:14.738698Z"
    },
    "papermill": {
     "duration": 0.103601,
     "end_time": "2025-01-20T10:33:14.741391",
     "exception": false,
     "start_time": "2025-01-20T10:33:14.637790",
     "status": "completed"
    },
    "tags": []
   },
   "outputs": [
    {
     "data": {
      "text/plain": [
       "[1,\n",
       " 4,\n",
       " 3,\n",
       " 4,\n",
       " 4,\n",
       " 4,\n",
       " 4,\n",
       " 4,\n",
       " 2,\n",
       " 4,\n",
       " 2,\n",
       " 1,\n",
       " 1,\n",
       " 0,\n",
       " 1,\n",
       " 2,\n",
       " 3,\n",
       " 2,\n",
       " 4,\n",
       " 2,\n",
       " 3,\n",
       " 3,\n",
       " 2,\n",
       " 3,\n",
       " 3,\n",
       " 3,\n",
       " 1,\n",
       " 3,\n",
       " 2,\n",
       " 2,\n",
       " 2,\n",
       " 0,\n",
       " 2,\n",
       " 0,\n",
       " 0,\n",
       " 0,\n",
       " 0,\n",
       " 0,\n",
       " 0,\n",
       " 0,\n",
       " 2,\n",
       " 2,\n",
       " 4,\n",
       " 2,\n",
       " 4,\n",
       " 2,\n",
       " 2,\n",
       " 4,\n",
       " 4,\n",
       " 2]"
      ]
     },
     "execution_count": 16,
     "metadata": {},
     "output_type": "execute_result"
    }
   ],
   "source": [
    "all_predictions['abusive']"
   ]
  },
  {
   "cell_type": "code",
   "execution_count": 17,
   "id": "e68db3f8",
   "metadata": {
    "execution": {
     "iopub.execute_input": "2025-01-20T10:33:14.988779Z",
     "iopub.status.busy": "2025-01-20T10:33:14.988415Z",
     "iopub.status.idle": "2025-01-20T10:33:14.993704Z",
     "shell.execute_reply": "2025-01-20T10:33:14.992747Z"
    },
    "papermill": {
     "duration": 0.159376,
     "end_time": "2025-01-20T10:33:14.995310",
     "exception": false,
     "start_time": "2025-01-20T10:33:14.835934",
     "status": "completed"
    },
    "tags": []
   },
   "outputs": [],
   "source": [
    "# Define the mapping dictionary\n",
    "label_mapping = {\n",
    "    0: 'C',\n",
    "    1: 'G',\n",
    "    2: 'N',\n",
    "    3: 'P',\n",
    "    4: 'R'\n",
    "}\n",
    "\n",
    "categorical_labels = list(map(lambda x: label_mapping.get(x, 'Unknown'), all_predictions['abusive']))"
   ]
  },
  {
   "cell_type": "code",
   "execution_count": 18,
   "id": "b71f8858",
   "metadata": {
    "execution": {
     "iopub.execute_input": "2025-01-20T10:33:15.181426Z",
     "iopub.status.busy": "2025-01-20T10:33:15.180473Z",
     "iopub.status.idle": "2025-01-20T10:33:15.186969Z",
     "shell.execute_reply": "2025-01-20T10:33:15.186124Z"
    },
    "papermill": {
     "duration": 0.099971,
     "end_time": "2025-01-20T10:33:15.188642",
     "exception": false,
     "start_time": "2025-01-20T10:33:15.088671",
     "status": "completed"
    },
    "tags": []
   },
   "outputs": [
    {
     "data": {
      "text/plain": [
       "['G',\n",
       " 'R',\n",
       " 'P',\n",
       " 'R',\n",
       " 'R',\n",
       " 'R',\n",
       " 'R',\n",
       " 'R',\n",
       " 'N',\n",
       " 'R',\n",
       " 'N',\n",
       " 'G',\n",
       " 'G',\n",
       " 'C',\n",
       " 'G',\n",
       " 'N',\n",
       " 'P',\n",
       " 'N',\n",
       " 'R',\n",
       " 'N',\n",
       " 'P',\n",
       " 'P',\n",
       " 'N',\n",
       " 'P',\n",
       " 'P',\n",
       " 'P',\n",
       " 'G',\n",
       " 'P',\n",
       " 'N',\n",
       " 'N',\n",
       " 'N',\n",
       " 'C',\n",
       " 'N',\n",
       " 'C',\n",
       " 'C',\n",
       " 'C',\n",
       " 'C',\n",
       " 'C',\n",
       " 'C',\n",
       " 'C',\n",
       " 'N',\n",
       " 'N',\n",
       " 'R',\n",
       " 'N',\n",
       " 'R',\n",
       " 'N',\n",
       " 'N',\n",
       " 'R',\n",
       " 'R',\n",
       " 'N']"
      ]
     },
     "execution_count": 18,
     "metadata": {},
     "output_type": "execute_result"
    }
   ],
   "source": [
    "categorical_labels"
   ]
  },
  {
   "cell_type": "code",
   "execution_count": 19,
   "id": "a53354e3",
   "metadata": {
    "execution": {
     "iopub.execute_input": "2025-01-20T10:33:15.374099Z",
     "iopub.status.busy": "2025-01-20T10:33:15.373765Z",
     "iopub.status.idle": "2025-01-20T10:33:15.379620Z",
     "shell.execute_reply": "2025-01-20T10:33:15.378768Z"
    },
    "papermill": {
     "duration": 0.102604,
     "end_time": "2025-01-20T10:33:15.381378",
     "exception": false,
     "start_time": "2025-01-20T10:33:15.278774",
     "status": "completed"
    },
    "tags": []
   },
   "outputs": [],
   "source": [
    "df_test['Class Label Short']=categorical_labels"
   ]
  },
  {
   "cell_type": "code",
   "execution_count": 20,
   "id": "10529ba3",
   "metadata": {
    "execution": {
     "iopub.execute_input": "2025-01-20T10:33:15.571832Z",
     "iopub.status.busy": "2025-01-20T10:33:15.571479Z",
     "iopub.status.idle": "2025-01-20T10:33:15.579489Z",
     "shell.execute_reply": "2025-01-20T10:33:15.578576Z"
    },
    "papermill": {
     "duration": 0.104503,
     "end_time": "2025-01-20T10:33:15.581189",
     "exception": false,
     "start_time": "2025-01-20T10:33:15.476686",
     "status": "completed"
    },
    "tags": []
   },
   "outputs": [],
   "source": [
    "df_test=df_test.drop([\"text\",\"audio_path\",\"abusive\"], axis=1)"
   ]
  },
  {
   "cell_type": "code",
   "execution_count": 21,
   "id": "8bc0c866",
   "metadata": {
    "execution": {
     "iopub.execute_input": "2025-01-20T10:33:15.766860Z",
     "iopub.status.busy": "2025-01-20T10:33:15.766505Z",
     "iopub.status.idle": "2025-01-20T10:33:15.774962Z",
     "shell.execute_reply": "2025-01-20T10:33:15.774182Z"
    },
    "papermill": {
     "duration": 0.103627,
     "end_time": "2025-01-20T10:33:15.776785",
     "exception": false,
     "start_time": "2025-01-20T10:33:15.673158",
     "status": "completed"
    },
    "tags": []
   },
   "outputs": [],
   "source": [
    "df_test.to_csv(\"SemanticCuetSync_telugu.tsv\",sep='\\t', index=False)"
   ]
  },
  {
   "cell_type": "code",
   "execution_count": 22,
   "id": "396d4700",
   "metadata": {
    "execution": {
     "iopub.execute_input": "2025-01-20T10:33:15.962180Z",
     "iopub.status.busy": "2025-01-20T10:33:15.961372Z",
     "iopub.status.idle": "2025-01-20T10:33:15.965956Z",
     "shell.execute_reply": "2025-01-20T10:33:15.964641Z"
    },
    "papermill": {
     "duration": 0.100304,
     "end_time": "2025-01-20T10:33:15.968180",
     "exception": false,
     "start_time": "2025-01-20T10:33:15.867876",
     "status": "completed"
    },
    "tags": []
   },
   "outputs": [],
   "source": [
    "predicted_labels=categorical_labels"
   ]
  },
  {
   "cell_type": "code",
   "execution_count": 23,
   "id": "362b5017",
   "metadata": {
    "execution": {
     "iopub.execute_input": "2025-01-20T10:33:16.155319Z",
     "iopub.status.busy": "2025-01-20T10:33:16.154640Z",
     "iopub.status.idle": "2025-01-20T10:33:16.349372Z",
     "shell.execute_reply": "2025-01-20T10:33:16.348642Z"
    },
    "papermill": {
     "duration": 0.292136,
     "end_time": "2025-01-20T10:33:16.351504",
     "exception": false,
     "start_time": "2025-01-20T10:33:16.059368",
     "status": "completed"
    },
    "tags": []
   },
   "outputs": [],
   "source": [
    "import pandas as pd\n",
    "from sklearn.metrics import (\n",
    "    confusion_matrix,\n",
    "    classification_report,\n",
    "    accuracy_score,\n",
    "    precision_score,\n",
    "    recall_score,\n",
    "    f1_score,\n",
    "    matthews_corrcoef,\n",
    ")\n",
    "import seaborn as sns\n",
    "import matplotlib.pyplot as plt\n",
    "\n",
    "\n",
    "\n",
    "# Read the gold labels from CSV\n",
    "from io import StringIO\n",
    "\n"
   ]
  },
  {
   "cell_type": "code",
   "execution_count": 24,
   "id": "0f202a85",
   "metadata": {
    "execution": {
     "iopub.execute_input": "2025-01-20T10:33:16.539385Z",
     "iopub.status.busy": "2025-01-20T10:33:16.538698Z",
     "iopub.status.idle": "2025-01-20T10:33:16.543836Z",
     "shell.execute_reply": "2025-01-20T10:33:16.542947Z"
    },
    "papermill": {
     "duration": 0.102778,
     "end_time": "2025-01-20T10:33:16.545770",
     "exception": false,
     "start_time": "2025-01-20T10:33:16.442992",
     "status": "completed"
    },
    "tags": []
   },
   "outputs": [],
   "source": [
    "gold_labels= [\n",
    "    \"R\", \"R\", \"R\", \"R\", \"R\", \"R\", \"R\", \"R\", \"R\", \"R\",\n",
    "    \"P\", \"P\", \"P\", \"P\", \"P\", \"P\", \"P\", \"P\", \"P\", \"P\",\n",
    "    \"G\", \"G\", \"G\", \"G\", \"G\", \"G\", \"G\", \"G\", \"G\", \"G\",\n",
    "    \"C\", \"C\", \"C\", \"C\", \"C\", \"C\", \"C\", \"C\", \"C\", \"C\",\n",
    "    \"N\", \"N\", \"N\", \"N\", \"N\", \"N\", \"N\", \"N\", \"N\", \"N\"\n",
    "]\n"
   ]
  },
  {
   "cell_type": "code",
   "execution_count": 25,
   "id": "933087e1",
   "metadata": {
    "execution": {
     "iopub.execute_input": "2025-01-20T10:33:16.734245Z",
     "iopub.status.busy": "2025-01-20T10:33:16.733324Z",
     "iopub.status.idle": "2025-01-20T10:33:16.748115Z",
     "shell.execute_reply": "2025-01-20T10:33:16.747264Z"
    },
    "papermill": {
     "duration": 0.112149,
     "end_time": "2025-01-20T10:33:16.749982",
     "exception": false,
     "start_time": "2025-01-20T10:33:16.637833",
     "status": "completed"
    },
    "tags": []
   },
   "outputs": [
    {
     "name": "stdout",
     "output_type": "stream",
     "text": [
      "Accuracy: 46.0000\n",
      "Precision (Macro): 43.4444\n",
      "Recall (Macro): 46.0000\n",
      "Macro F1 Score: 43.6890\n",
      "Matthews Correlation Coefficient (MCC): 0.3308\n"
     ]
    }
   ],
   "source": [
    "\n",
    "\n",
    "# Aligning the lengths of predicted and gold labels for calculation\n",
    "predicted_labels = predicted_labels[:len(gold_labels)]\n",
    "\n",
    "# Calculate metrics\n",
    "accuracy = accuracy_score(gold_labels, predicted_labels)\n",
    "precision = precision_score(gold_labels, predicted_labels, average='macro', zero_division=0)\n",
    "recall = recall_score(gold_labels, predicted_labels, average='macro', zero_division=0)\n",
    "f1 = f1_score(gold_labels, predicted_labels, average='macro', zero_division=0)\n",
    "mcc = matthews_corrcoef(gold_labels, predicted_labels)\n",
    "# Print metrics\n",
    "print(f\"Accuracy: {accuracy*100:.4f}\")\n",
    "print(f\"Precision (Macro): {precision*100:.4f}\")\n",
    "print(f\"Recall (Macro): {recall*100:.4f}\")\n",
    "print(f\"Macro F1 Score: {f1*100:.4f}\")\n",
    "print(f\"Matthews Correlation Coefficient (MCC): {mcc:.4f}\")\n"
   ]
  },
  {
   "cell_type": "code",
   "execution_count": null,
   "id": "8ebdbc8c",
   "metadata": {
    "papermill": {
     "duration": 0.09268,
     "end_time": "2025-01-20T10:33:16.936329",
     "exception": false,
     "start_time": "2025-01-20T10:33:16.843649",
     "status": "completed"
    },
    "tags": []
   },
   "outputs": [],
   "source": []
  },
  {
   "cell_type": "code",
   "execution_count": 26,
   "id": "cc3f0713",
   "metadata": {
    "execution": {
     "iopub.execute_input": "2025-01-20T10:33:17.126007Z",
     "iopub.status.busy": "2025-01-20T10:33:17.125031Z",
     "iopub.status.idle": "2025-01-20T10:33:17.133165Z",
     "shell.execute_reply": "2025-01-20T10:33:17.132130Z"
    },
    "papermill": {
     "duration": 0.104613,
     "end_time": "2025-01-20T10:33:17.135298",
     "exception": false,
     "start_time": "2025-01-20T10:33:17.030685",
     "status": "completed"
    },
    "tags": []
   },
   "outputs": [
    {
     "name": "stdout",
     "output_type": "stream",
     "text": [
      "G-Mean Score: 32.0087\n"
     ]
    }
   ],
   "source": [
    "import numpy as np\n",
    "from sklearn.metrics import confusion_matrix, recall_score\n",
    "\n",
    "# Compute confusion matrix\n",
    "conf_matrix = confusion_matrix(gold_labels, predicted_labels, labels=sorted(set(gold_labels + predicted_labels)))\n",
    "\n",
    "# Calculate recall for each class\n",
    "recall_per_class = np.diag(conf_matrix) / np.sum(conf_matrix, axis=1)\n",
    "\n",
    "# Compute G-Mean\n",
    "g_mean = np.prod(recall_per_class) ** (1 / len(recall_per_class))\n",
    "\n",
    "print(f\"G-Mean Score: {g_mean*100:.4f}\")\n"
   ]
  },
  {
   "cell_type": "code",
   "execution_count": 27,
   "id": "cbb725cb",
   "metadata": {
    "execution": {
     "iopub.execute_input": "2025-01-20T10:33:17.316663Z",
     "iopub.status.busy": "2025-01-20T10:33:17.316333Z",
     "iopub.status.idle": "2025-01-20T10:33:17.713785Z",
     "shell.execute_reply": "2025-01-20T10:33:17.712809Z"
    },
    "papermill": {
     "duration": 0.49023,
     "end_time": "2025-01-20T10:33:17.715697",
     "exception": false,
     "start_time": "2025-01-20T10:33:17.225467",
     "status": "completed"
    },
    "tags": []
   },
   "outputs": [
    {
     "data": {
      "image/png": "[encoded data removed]",
      "text/plain": [
       "<Figure size 1000x800 with 2 Axes>"
      ]
     },
     "metadata": {},
     "output_type": "display_data"
    }
   ],
   "source": [
    "import matplotlib.pyplot as plt\n",
    "import seaborn as sns\n",
    "from sklearn.metrics import confusion_matrix\n",
    "\n",
    "# Compute confusion matrix\n",
    "conf_matrix = confusion_matrix(gold_labels, predicted_labels, labels=sorted(set(gold_labels + predicted_labels)))\n",
    "\n",
    "# Plot confusion matrix\n",
    "plt.figure(figsize=(10, 8))  # Adjust the figure size if needed\n",
    "sns.heatmap(\n",
    "    conf_matrix,\n",
    "    annot=True,\n",
    "    fmt='d',\n",
    "    cmap='Blues',\n",
    "    xticklabels=sorted(set(gold_labels + predicted_labels)),\n",
    "    yticklabels=sorted(set(gold_labels + predicted_labels)),\n",
    "    annot_kws={\"size\": 16}  # Increase font size of numbers inside the matrix\n",
    ")\n",
    "\n",
    "# Increase font size for axis labels and ticks\n",
    "plt.xlabel('Predicted Labels', fontsize=16)\n",
    "plt.ylabel('True Labels', fontsize=16)\n",
    "plt.xticks(fontsize=16, rotation=45)  # Adjust rotation if needed\n",
    "plt.yticks(fontsize=16)\n",
    "# plt.title('Confusion Matrix', fontsize=18)\n",
    "plt.show()\n"
   ]
  },
  {
   "cell_type": "code",
   "execution_count": null,
   "id": "9aa19ecb",
   "metadata": {
    "papermill": {
     "duration": 0.09164,
     "end_time": "2025-01-20T10:33:17.902585",
     "exception": false,
     "start_time": "2025-01-20T10:33:17.810945",
     "status": "completed"
    },
    "tags": []
   },
   "outputs": [],
   "source": []
  },
  {
   "cell_type": "code",
   "execution_count": null,
   "id": "b8f45c1a",
   "metadata": {
    "papermill": {
     "duration": 0.090587,
     "end_time": "2025-01-20T10:33:18.143321",
     "exception": false,
     "start_time": "2025-01-20T10:33:18.052734",
     "status": "completed"
    },
    "tags": []
   },
   "outputs": [],
   "source": []
  },
  {
   "cell_type": "code",
   "execution_count": null,
   "id": "e85dca0e",
   "metadata": {
    "papermill": {
     "duration": 0.093176,
     "end_time": "2025-01-20T10:33:18.326708",
     "exception": false,
     "start_time": "2025-01-20T10:33:18.233532",
     "status": "completed"
    },
    "tags": []
   },
   "outputs": [],
   "source": []
  },
  {
   "cell_type": "code",
   "execution_count": null,
   "id": "2cf12152",
   "metadata": {
    "papermill": {
     "duration": 0.095277,
     "end_time": "2025-01-20T10:33:18.513828",
     "exception": false,
     "start_time": "2025-01-20T10:33:18.418551",
     "status": "completed"
    },
    "tags": []
   },
   "outputs": [],
   "source": []
  },
  {
   "cell_type": "code",
   "execution_count": null,
   "id": "5d68afdf",
   "metadata": {
    "papermill": {
     "duration": 0.087547,
     "end_time": "2025-01-20T10:33:18.691565",
     "exception": false,
     "start_time": "2025-01-20T10:33:18.604018",
     "status": "completed"
    },
    "tags": []
   },
   "outputs": [],
   "source": []
  },
  {
   "cell_type": "code",
   "execution_count": null,
   "id": "030a6122",
   "metadata": {
    "papermill": {
     "duration": 0.092643,
     "end_time": "2025-01-20T10:33:18.880819",
     "exception": false,
     "start_time": "2025-01-20T10:33:18.788176",
     "status": "completed"
    },
    "tags": []
   },
   "outputs": [],
   "source": []
  },
  {
   "cell_type": "code",
   "execution_count": null,
   "id": "1060ef70",
   "metadata": {
    "papermill": {
     "duration": 0.098996,
     "end_time": "2025-01-20T10:33:19.093942",
     "exception": false,
     "start_time": "2025-01-20T10:33:18.994946",
     "status": "completed"
    },
    "tags": []
   },
   "outputs": [],
   "source": []
  },
  {
   "cell_type": "code",
   "execution_count": null,
   "id": "07e6ccb5",
   "metadata": {
    "papermill": {
     "duration": 0.093879,
     "end_time": "2025-01-20T10:33:19.278383",
     "exception": false,
     "start_time": "2025-01-20T10:33:19.184504",
     "status": "completed"
    },
    "tags": []
   },
   "outputs": [],
   "source": []
  },
  {
   "cell_type": "code",
   "execution_count": null,
   "id": "bb07a6a7",
   "metadata": {
    "papermill": {
     "duration": 0.0949,
     "end_time": "2025-01-20T10:33:19.467584",
     "exception": false,
     "start_time": "2025-01-20T10:33:19.372684",
     "status": "completed"
    },
    "tags": []
   },
   "outputs": [],
   "source": []
  }
 ],
 "metadata": {
  "kaggle": {
   "accelerator": "gpu",
   "dataSources": [
    {
     "datasetId": 5209571,
     "sourceId": 8696276,
     "sourceType": "datasetVersion"
    },
    {
     "datasetId": 5216367,
     "sourceId": 8786173,
     "sourceType": "datasetVersion"
    },
    {
     "datasetId": 6456725,
     "sourceId": 10418042,
     "sourceType": "datasetVersion"
    },
    {
     "datasetId": 6456723,
     "sourceId": 10418663,
     "sourceType": "datasetVersion"
    },
    {
     "datasetId": 6457278,
     "sourceId": 10418746,
     "sourceType": "datasetVersion"
    },
    {
     "datasetId": 6457289,
     "sourceId": 10418810,
     "sourceType": "datasetVersion"
    },
    {
     "datasetId": 5209374,
     "sourceId": 10506729,
     "sourceType": "datasetVersion"
    },
    {
     "datasetId": 6513087,
     "sourceId": 10523594,
     "sourceType": "datasetVersion"
    },
    {
     "datasetId": 6513116,
     "sourceId": 10523644,
     "sourceType": "datasetVersion"
    },
    {
     "datasetId": 6513127,
     "sourceId": 10523663,
     "sourceType": "datasetVersion"
    }
   ],
   "dockerImageVersionId": 30733,
   "isGpuEnabled": true,
   "isInternetEnabled": true,
   "language": "python",
   "sourceType": "notebook"
  },
  "kernelspec": {
   "display_name": "Python 3",
   "language": "python",
   "name": "python3"
  },
  "language_info": {
   "codemirror_mode": {
    "name": "ipython",
    "version": 3
   },
   "file_extension": ".py",
   "mimetype": "text/x-python",
   "name": "python",
   "nbconvert_exporter": "python",
   "pygments_lexer": "ipython3",
   "version": "3.10.13"
  },
  "papermill": {
   "default_parameters": {},
   "duration": 1509.281357,
   "end_time": "2025-01-20T10:33:22.525680",
   "environment_variables": {},
   "exception": null,
   "input_path": "__notebook__.ipynb",
   "output_path": "__notebook__.ipynb",
   "parameters": {},
   "start_time": "2025-01-20T10:08:13.244323",
   "version": "2.5.0"
  },
  "widgets": {
   "application/vnd.jupyter.widget-state+json": {
    "state": {
     "01c479f9ec344ae18fae49dd44ffed41": {
      "model_module": "@jupyter-widgets/base",
      "model_module_version": "1.2.0",
      "model_name": "LayoutModel",
      "state": {
       "_model_module": "@jupyter-widgets/base",
       "_model_module_version": "1.2.0",
       "_model_name": "LayoutModel",
       "_view_count": null,
       "_view_module": "@jupyter-widgets/base",
       "_view_module_version": "1.2.0",
       "_view_name": "LayoutView",
       "align_content": null,
       "align_items": null,
       "align_self": null,
       "border": null,
       "bottom": null,
       "display": null,
       "flex": null,
       "flex_flow": null,
       "grid_area": null,
       "grid_auto_columns": null,
       "grid_auto_flow": null,
       "grid_auto_rows": null,
       "grid_column": null,
       "grid_gap": null,
       "grid_row": null,
       "grid_template_areas": null,
       "grid_template_columns": null,
       "grid_template_rows": null,
       "height": null,
       "justify_content": null,
       "justify_items": null,
       "left": null,
       "margin": null,
       "max_height": null,
       "max_width": null,
       "min_height": null,
       "min_width": null,
       "object_fit": null,
       "object_position": null,
       "order": null,
       "overflow": null,
       "overflow_x": null,
       "overflow_y": null,
       "padding": null,
       "right": null,
       "top": null,
       "visibility": null,
       "width": null
      }
     },
     "024cc4bbfea34b34b0cafdf74d1e6876": {
      "model_module": "@jupyter-widgets/controls",
      "model_module_version": "1.5.0",
      "model_name": "DescriptionStyleModel",
      "state": {
       "_model_module": "@jupyter-widgets/controls",
       "_model_module_version": "1.5.0",
       "_model_name": "DescriptionStyleModel",
       "_view_count": null,
       "_view_module": "@jupyter-widgets/base",
       "_view_module_version": "1.2.0",
       "_view_name": "StyleView",
       "description_width": ""
      }
     },
     "042c87a880364bc8abf8eb64bb13a996": {
      "model_module": "@jupyter-widgets/controls",
      "model_module_version": "1.5.0",
      "model_name": "DescriptionStyleModel",
      "state": {
       "_model_module": "@jupyter-widgets/controls",
       "_model_module_version": "1.5.0",
       "_model_name": "DescriptionStyleModel",
       "_view_count": null,
       "_view_module": "@jupyter-widgets/base",
       "_view_module_version": "1.2.0",
       "_view_name": "StyleView",
       "description_width": ""
      }
     },
     "095cd6e05eff4a8cbf1686505d9be7df": {
      "model_module": "@jupyter-widgets/controls",
      "model_module_version": "1.5.0",
      "model_name": "HTMLModel",
      "state": {
       "_dom_classes": [],
       "_model_module": "@jupyter-widgets/controls",
       "_model_module_version": "1.5.0",
       "_model_name": "HTMLModel",
       "_view_count": null,
       "_view_module": "@jupyter-widgets/controls",
       "_view_module_version": "1.5.0",
       "_view_name": "HTMLView",
       "description": "",
       "description_tooltip": null,
       "layout": "IPY_MODEL_cdc2a07ea9324c86a6306d53cb36f711",
       "placeholder": "​",
       "style": "IPY_MODEL_19713e3bcd5749cc959bb8bc579fb040",
       "value": "tokenizer_config.json: 100%"
      }
     },
     "099fd72b3bde49a9a7caf959d42fb6c9": {
      "model_module": "@jupyter-widgets/controls",
      "model_module_version": "1.5.0",
      "model_name": "FloatProgressModel",
      "state": {
       "_dom_classes": [],
       "_model_module": "@jupyter-widgets/controls",
       "_model_module_version": "1.5.0",
       "_model_name": "FloatProgressModel",
       "_view_count": null,
       "_view_module": "@jupyter-widgets/controls",
       "_view_module_version": "1.5.0",
       "_view_name": "ProgressView",
       "bar_style": "success",
       "description": "",
       "description_tooltip": null,
       "layout": "IPY_MODEL_5e61cf319d3a416fa682b8ecd20789eb",
       "max": 184990.0,
       "min": 0.0,
       "orientation": "horizontal",
       "style": "IPY_MODEL_4efacd48e366447c805d46d021574cf1",
       "value": 184990.0
      }
     },
     "0a2f97f7f33743da90d6e6877e2ff36f": {
      "model_module": "@jupyter-widgets/controls",
      "model_module_version": "1.5.0",
      "model_name": "DescriptionStyleModel",
      "state": {
       "_model_module": "@jupyter-widgets/controls",
       "_model_module_version": "1.5.0",
       "_model_name": "DescriptionStyleModel",
       "_view_count": null,
       "_view_module": "@jupyter-widgets/base",
       "_view_module_version": "1.2.0",
       "_view_name": "StyleView",
       "description_width": ""
      }
     },
     "0c673046f02a4f009b045b1c2013191e": {
      "model_module": "@jupyter-widgets/controls",
      "model_module_version": "1.5.0",
      "model_name": "DescriptionStyleModel",
      "state": {
       "_model_module": "@jupyter-widgets/controls",
       "_model_module_version": "1.5.0",
       "_model_name": "DescriptionStyleModel",
       "_view_count": null,
       "_view_module": "@jupyter-widgets/base",
       "_view_module_version": "1.2.0",
       "_view_name": "StyleView",
       "description_width": ""
      }
     },
     "0cd38e1866e442f1a7b792ee8317b5ea": {
      "model_module": "@jupyter-widgets/base",
      "model_module_version": "1.2.0",
      "model_name": "LayoutModel",
      "state": {
       "_model_module": "@jupyter-widgets/base",
       "_model_module_version": "1.2.0",
       "_model_name": "LayoutModel",
       "_view_count": null,
       "_view_module": "@jupyter-widgets/base",
       "_view_module_version": "1.2.0",
       "_view_name": "LayoutView",
       "align_content": null,
       "align_items": null,
       "align_self": null,
       "border": null,
       "bottom": null,
       "display": null,
       "flex": null,
       "flex_flow": null,
       "grid_area": null,
       "grid_auto_columns": null,
       "grid_auto_flow": null,
       "grid_auto_rows": null,
       "grid_column": null,
       "grid_gap": null,
       "grid_row": null,
       "grid_template_areas": null,
       "grid_template_columns": null,
       "grid_template_rows": null,
       "height": null,
       "justify_content": null,
       "justify_items": null,
       "left": null,
       "margin": null,
       "max_height": null,
       "max_width": null,
       "min_height": null,
       "min_width": null,
       "object_fit": null,
       "object_position": null,
       "order": null,
       "overflow": null,
       "overflow_x": null,
       "overflow_y": null,
       "padding": null,
       "right": null,
       "top": null,
       "visibility": null,
       "width": null
      }
     },
     "0e28372152d446e4988b9e1ec155938e": {
      "model_module": "@jupyter-widgets/base",
      "model_module_version": "1.2.0",
      "model_name": "LayoutModel",
      "state": {
       "_model_module": "@jupyter-widgets/base",
       "_model_module_version": "1.2.0",
       "_model_name": "LayoutModel",
       "_view_count": null,
       "_view_module": "@jupyter-widgets/base",
       "_view_module_version": "1.2.0",
       "_view_name": "LayoutView",
       "align_content": null,
       "align_items": null,
       "align_self": null,
       "border": null,
       "bottom": null,
       "display": null,
       "flex": null,
       "flex_flow": null,
       "grid_area": null,
       "grid_auto_columns": null,
       "grid_auto_flow": null,
       "grid_auto_rows": null,
       "grid_column": null,
       "grid_gap": null,
       "grid_row": null,
       "grid_template_areas": null,
       "grid_template_columns": null,
       "grid_template_rows": null,
       "height": null,
       "justify_content": null,
       "justify_items": null,
       "left": null,
       "margin": null,
       "max_height": null,
       "max_width": null,
       "min_height": null,
       "min_width": null,
       "object_fit": null,
       "object_position": null,
       "order": null,
       "overflow": null,
       "overflow_x": null,
       "overflow_y": null,
       "padding": null,
       "right": null,
       "top": null,
       "visibility": null,
       "width": null
      }
     },
     "0ebad743050645be840b70d91690db7a": {
      "model_module": "@jupyter-widgets/base",
      "model_module_version": "1.2.0",
      "model_name": "LayoutModel",
      "state": {
       "_model_module": "@jupyter-widgets/base",
       "_model_module_version": "1.2.0",
       "_model_name": "LayoutModel",
       "_view_count": null,
       "_view_module": "@jupyter-widgets/base",
       "_view_module_version": "1.2.0",
       "_view_name": "LayoutView",
       "align_content": null,
       "align_items": null,
       "align_self": null,
       "border": null,
       "bottom": null,
       "display": null,
       "flex": null,
       "flex_flow": null,
       "grid_area": null,
       "grid_auto_columns": null,
       "grid_auto_flow": null,
       "grid_auto_rows": null,
       "grid_column": null,
       "grid_gap": null,
       "grid_row": null,
       "grid_template_areas": null,
       "grid_template_columns": null,
       "grid_template_rows": null,
       "height": null,
       "justify_content": null,
       "justify_items": null,
       "left": null,
       "margin": null,
       "max_height": null,
       "max_width": null,
       "min_height": null,
       "min_width": null,
       "object_fit": null,
       "object_position": null,
       "order": null,
       "overflow": null,
       "overflow_x": null,
       "overflow_y": null,
       "padding": null,
       "right": null,
       "top": null,
       "visibility": null,
       "width": null
      }
     },
     "0eccd2e99b994d1e8ab50ea09ffa008a": {
      "model_module": "@jupyter-widgets/base",
      "model_module_version": "1.2.0",
      "model_name": "LayoutModel",
      "state": {
       "_model_module": "@jupyter-widgets/base",
       "_model_module_version": "1.2.0",
       "_model_name": "LayoutModel",
       "_view_count": null,
       "_view_module": "@jupyter-widgets/base",
       "_view_module_version": "1.2.0",
       "_view_name": "LayoutView",
       "align_content": null,
       "align_items": null,
       "align_self": null,
       "border": null,
       "bottom": null,
       "display": null,
       "flex": null,
       "flex_flow": null,
       "grid_area": null,
       "grid_auto_columns": null,
       "grid_auto_flow": null,
       "grid_auto_rows": null,
       "grid_column": null,
       "grid_gap": null,
       "grid_row": null,
       "grid_template_areas": null,
       "grid_template_columns": null,
       "grid_template_rows": null,
       "height": null,
       "justify_content": null,
       "justify_items": null,
       "left": null,
       "margin": null,
       "max_height": null,
       "max_width": null,
       "min_height": null,
       "min_width": null,
       "object_fit": null,
       "object_position": null,
       "order": null,
       "overflow": null,
       "overflow_x": null,
       "overflow_y": null,
       "padding": null,
       "right": null,
       "top": null,
       "visibility": null,
       "width": null
      }
     },
     "0f1f4e1be7654ea9ab8afb55599cbd86": {
      "model_module": "@jupyter-widgets/base",
      "model_module_version": "1.2.0",
      "model_name": "LayoutModel",
      "state": {
       "_model_module": "@jupyter-widgets/base",
       "_model_module_version": "1.2.0",
       "_model_name": "LayoutModel",
       "_view_count": null,
       "_view_module": "@jupyter-widgets/base",
       "_view_module_version": "1.2.0",
       "_view_name": "LayoutView",
       "align_content": null,
       "align_items": null,
       "align_self": null,
       "border": null,
       "bottom": null,
       "display": null,
       "flex": null,
       "flex_flow": null,
       "grid_area": null,
       "grid_auto_columns": null,
       "grid_auto_flow": null,
       "grid_auto_rows": null,
       "grid_column": null,
       "grid_gap": null,
       "grid_row": null,
       "grid_template_areas": null,
       "grid_template_columns": null,
       "grid_template_rows": null,
       "height": null,
       "justify_content": null,
       "justify_items": null,
       "left": null,
       "margin": null,
       "max_height": null,
       "max_width": null,
       "min_height": null,
       "min_width": null,
       "object_fit": null,
       "object_position": null,
       "order": null,
       "overflow": null,
       "overflow_x": null,
       "overflow_y": null,
       "padding": null,
       "right": null,
       "top": null,
       "visibility": null,
       "width": null
      }
     },
     "1634d17499f84b4dbafd7c2e3942c9fb": {
      "model_module": "@jupyter-widgets/controls",
      "model_module_version": "1.5.0",
      "model_name": "FloatProgressModel",
      "state": {
       "_dom_classes": [],
       "_model_module": "@jupyter-widgets/controls",
       "_model_module_version": "1.5.0",
       "_model_name": "FloatProgressModel",
       "_view_count": null,
       "_view_module": "@jupyter-widgets/controls",
       "_view_module_version": "1.5.0",
       "_view_name": "ProgressView",
       "bar_style": "success",
       "description": "",
       "description_tooltip": null,
       "layout": "IPY_MODEL_2f56138151ec42b584e91eb74d772c27",
       "max": 1967.0,
       "min": 0.0,
       "orientation": "horizontal",
       "style": "IPY_MODEL_cc95ecdabcbf4c86a3ed8c03d74c4782",
       "value": 1967.0
      }
     },
     "174e468656f8493eaf4bf79edea79520": {
      "model_module": "@jupyter-widgets/base",
      "model_module_version": "1.2.0",
      "model_name": "LayoutModel",
      "state": {
       "_model_module": "@jupyter-widgets/base",
       "_model_module_version": "1.2.0",
       "_model_name": "LayoutModel",
       "_view_count": null,
       "_view_module": "@jupyter-widgets/base",
       "_view_module_version": "1.2.0",
       "_view_name": "LayoutView",
       "align_content": null,
       "align_items": null,
       "align_self": null,
       "border": null,
       "bottom": null,
       "display": null,
       "flex": null,
       "flex_flow": null,
       "grid_area": null,
       "grid_auto_columns": null,
       "grid_auto_flow": null,
       "grid_auto_rows": null,
       "grid_column": null,
       "grid_gap": null,
       "grid_row": null,
       "grid_template_areas": null,
       "grid_template_columns": null,
       "grid_template_rows": null,
       "height": null,
       "justify_content": null,
       "justify_items": null,
       "left": null,
       "margin": null,
       "max_height": null,
       "max_width": null,
       "min_height": null,
       "min_width": null,
       "object_fit": null,
       "object_position": null,
       "order": null,
       "overflow": null,
       "overflow_x": null,
       "overflow_y": null,
       "padding": null,
       "right": null,
       "top": null,
       "visibility": null,
       "width": null
      }
     },
     "17c246231cbe4eabb0275858fb2356b9": {
      "model_module": "@jupyter-widgets/base",
      "model_module_version": "1.2.0",
      "model_name": "LayoutModel",
      "state": {
       "_model_module": "@jupyter-widgets/base",
       "_model_module_version": "1.2.0",
       "_model_name": "LayoutModel",
       "_view_count": null,
       "_view_module": "@jupyter-widgets/base",
       "_view_module_version": "1.2.0",
       "_view_name": "LayoutView",
       "align_content": null,
       "align_items": null,
       "align_self": null,
       "border": null,
       "bottom": null,
       "display": null,
       "flex": null,
       "flex_flow": null,
       "grid_area": null,
       "grid_auto_columns": null,
       "grid_auto_flow": null,
       "grid_auto_rows": null,
       "grid_column": null,
       "grid_gap": null,
       "grid_row": null,
       "grid_template_areas": null,
       "grid_template_columns": null,
       "grid_template_rows": null,
       "height": null,
       "justify_content": null,
       "justify_items": null,
       "left": null,
       "margin": null,
       "max_height": null,
       "max_width": null,
       "min_height": null,
       "min_width": null,
       "object_fit": null,
       "object_position": null,
       "order": null,
       "overflow": null,
       "overflow_x": null,
       "overflow_y": null,
       "padding": null,
       "right": null,
       "top": null,
       "visibility": null,
       "width": null
      }
     },
     "190a5a9cbe2f492a908d0090fcdae4b6": {
      "model_module": "@jupyter-widgets/base",
      "model_module_version": "1.2.0",
      "model_name": "LayoutModel",
      "state": {
       "_model_module": "@jupyter-widgets/base",
       "_model_module_version": "1.2.0",
       "_model_name": "LayoutModel",
       "_view_count": null,
       "_view_module": "@jupyter-widgets/base",
       "_view_module_version": "1.2.0",
       "_view_name": "LayoutView",
       "align_content": null,
       "align_items": null,
       "align_self": null,
       "border": null,
       "bottom": null,
       "display": null,
       "flex": null,
       "flex_flow": null,
       "grid_area": null,
       "grid_auto_columns": null,
       "grid_auto_flow": null,
       "grid_auto_rows": null,
       "grid_column": null,
       "grid_gap": null,
       "grid_row": null,
       "grid_template_areas": null,
       "grid_template_columns": null,
       "grid_template_rows": null,
       "height": null,
       "justify_content": null,
       "justify_items": null,
       "left": null,
       "margin": null,
       "max_height": null,
       "max_width": null,
       "min_height": null,
       "min_width": null,
       "object_fit": null,
       "object_position": null,
       "order": null,
       "overflow": null,
       "overflow_x": null,
       "overflow_y": null,
       "padding": null,
       "right": null,
       "top": null,
       "visibility": null,
       "width": null
      }
     },
     "1947205edd634f96adb050162c789e3a": {
      "model_module": "@jupyter-widgets/base",
      "model_module_version": "1.2.0",
      "model_name": "LayoutModel",
      "state": {
       "_model_module": "@jupyter-widgets/base",
       "_model_module_version": "1.2.0",
       "_model_name": "LayoutModel",
       "_view_count": null,
       "_view_module": "@jupyter-widgets/base",
       "_view_module_version": "1.2.0",
       "_view_name": "LayoutView",
       "align_content": null,
       "align_items": null,
       "align_self": null,
       "border": null,
       "bottom": null,
       "display": null,
       "flex": null,
       "flex_flow": null,
       "grid_area": null,
       "grid_auto_columns": null,
       "grid_auto_flow": null,
       "grid_auto_rows": null,
       "grid_column": null,
       "grid_gap": null,
       "grid_row": null,
       "grid_template_areas": null,
       "grid_template_columns": null,
       "grid_template_rows": null,
       "height": null,
       "justify_content": null,
       "justify_items": null,
       "left": null,
       "margin": null,
       "max_height": null,
       "max_width": null,
       "min_height": null,
       "min_width": null,
       "object_fit": null,
       "object_position": null,
       "order": null,
       "overflow": null,
       "overflow_x": null,
       "overflow_y": null,
       "padding": null,
       "right": null,
       "top": null,
       "visibility": null,
       "width": null
      }
     },
     "19713e3bcd5749cc959bb8bc579fb040": {
      "model_module": "@jupyter-widgets/controls",
      "model_module_version": "1.5.0",
      "model_name": "DescriptionStyleModel",
      "state": {
       "_model_module": "@jupyter-widgets/controls",
       "_model_module_version": "1.5.0",
       "_model_name": "DescriptionStyleModel",
       "_view_count": null,
       "_view_module": "@jupyter-widgets/base",
       "_view_module_version": "1.2.0",
       "_view_name": "StyleView",
       "description_width": ""
      }
     },
     "19828c016af74294bfed7d94f355c212": {
      "model_module": "@jupyter-widgets/controls",
      "model_module_version": "1.5.0",
      "model_name": "HBoxModel",
      "state": {
       "_dom_classes": [],
       "_model_module": "@jupyter-widgets/controls",
       "_model_module_version": "1.5.0",
       "_model_name": "HBoxModel",
       "_view_count": null,
       "_view_module": "@jupyter-widgets/controls",
       "_view_module_version": "1.5.0",
       "_view_name": "HBoxView",
       "box_style": "",
       "children": [
        "IPY_MODEL_7cc27d88c7ed4906b453a573c9c910e2",
        "IPY_MODEL_b925b66b51a049f7bca903ebaad2a057",
        "IPY_MODEL_7572beb39e784367b161a7ee05afbc92"
       ],
       "layout": "IPY_MODEL_bbe7242ada90441da361f9f9eaff3b73"
      }
     },
     "1dd65a5970ef4ee7aad1e56d48cb0b4a": {
      "model_module": "@jupyter-widgets/controls",
      "model_module_version": "1.5.0",
      "model_name": "DescriptionStyleModel",
      "state": {
       "_model_module": "@jupyter-widgets/controls",
       "_model_module_version": "1.5.0",
       "_model_name": "DescriptionStyleModel",
       "_view_count": null,
       "_view_module": "@jupyter-widgets/base",
       "_view_module_version": "1.2.0",
       "_view_name": "StyleView",
       "description_width": ""
      }
     },
     "1ebb2bcf9a53487a9398f4619fd37417": {
      "model_module": "@jupyter-widgets/controls",
      "model_module_version": "1.5.0",
      "model_name": "HTMLModel",
      "state": {
       "_dom_classes": [],
       "_model_module": "@jupyter-widgets/controls",
       "_model_module_version": "1.5.0",
       "_model_name": "HTMLModel",
       "_view_count": null,
       "_view_module": "@jupyter-widgets/controls",
       "_view_module_version": "1.5.0",
       "_view_name": "HTMLView",
       "description": "",
       "description_tooltip": null,
       "layout": "IPY_MODEL_c94425de1076483b92b68863923ab8fc",
       "placeholder": "​",
       "style": "IPY_MODEL_b66c2a84fa4349fca1cc74ee5ecba8f8",
       "value": "model.safetensors: 100%"
      }
     },
     "223f624e54b74ee8986725207cc18f2f": {
      "model_module": "@jupyter-widgets/controls",
      "model_module_version": "1.5.0",
      "model_name": "HBoxModel",
      "state": {
       "_dom_classes": [],
       "_model_module": "@jupyter-widgets/controls",
       "_model_module_version": "1.5.0",
       "_model_name": "HBoxModel",
       "_view_count": null,
       "_view_module": "@jupyter-widgets/controls",
       "_view_module_version": "1.5.0",
       "_view_name": "HBoxView",
       "box_style": "",
       "children": [
        "IPY_MODEL_bbdb592df0eb412fa5744a1038398d1e",
        "IPY_MODEL_b6d0c492f5c84c0ab8079152bcd3f00f",
        "IPY_MODEL_5e8fb78cbdf441828aa5297e9cda218c"
       ],
       "layout": "IPY_MODEL_1947205edd634f96adb050162c789e3a"
      }
     },
     "2340740d29f54299a2f967f62760a1d3": {
      "model_module": "@jupyter-widgets/base",
      "model_module_version": "1.2.0",
      "model_name": "LayoutModel",
      "state": {
       "_model_module": "@jupyter-widgets/base",
       "_model_module_version": "1.2.0",
       "_model_name": "LayoutModel",
       "_view_count": null,
       "_view_module": "@jupyter-widgets/base",
       "_view_module_version": "1.2.0",
       "_view_name": "LayoutView",
       "align_content": null,
       "align_items": null,
       "align_self": null,
       "border": null,
       "bottom": null,
       "display": null,
       "flex": null,
       "flex_flow": null,
       "grid_area": null,
       "grid_auto_columns": null,
       "grid_auto_flow": null,
       "grid_auto_rows": null,
       "grid_column": null,
       "grid_gap": null,
       "grid_row": null,
       "grid_template_areas": null,
       "grid_template_columns": null,
       "grid_template_rows": null,
       "height": null,
       "justify_content": null,
       "justify_items": null,
       "left": null,
       "margin": null,
       "max_height": null,
       "max_width": null,
       "min_height": null,
       "min_width": null,
       "object_fit": null,
       "object_position": null,
       "order": null,
       "overflow": null,
       "overflow_x": null,
       "overflow_y": null,
       "padding": null,
       "right": null,
       "top": null,
       "visibility": null,
       "width": null
      }
     },
     "23d6d6f71a8c4141b863bb3dd5c34f98": {
      "model_module": "@jupyter-widgets/controls",
      "model_module_version": "1.5.0",
      "model_name": "HTMLModel",
      "state": {
       "_dom_classes": [],
       "_model_module": "@jupyter-widgets/controls",
       "_model_module_version": "1.5.0",
       "_model_name": "HTMLModel",
       "_view_count": null,
       "_view_module": "@jupyter-widgets/controls",
       "_view_module_version": "1.5.0",
       "_view_name": "HTMLView",
       "description": "",
       "description_tooltip": null,
       "layout": "IPY_MODEL_0ebad743050645be840b70d91690db7a",
       "placeholder": "​",
       "style": "IPY_MODEL_55dc2b0c8bfa4081a95d4dc4376c12d1",
       "value": "special_tokens_map.json: 100%"
      }
     },
     "26ab999bfbdd4bcf99f999d1e91c4665": {
      "model_module": "@jupyter-widgets/controls",
      "model_module_version": "1.5.0",
      "model_name": "HBoxModel",
      "state": {
       "_dom_classes": [],
       "_model_module": "@jupyter-widgets/controls",
       "_model_module_version": "1.5.0",
       "_model_name": "HBoxModel",
       "_view_count": null,
       "_view_module": "@jupyter-widgets/controls",
       "_view_module_version": "1.5.0",
       "_view_name": "HBoxView",
       "box_style": "",
       "children": [
        "IPY_MODEL_23d6d6f71a8c4141b863bb3dd5c34f98",
        "IPY_MODEL_ccc1881c60d147a69891b38885616864",
        "IPY_MODEL_852202fe942143f4bf4beb1f4c6a3b99"
       ],
       "layout": "IPY_MODEL_dcf6e313bb224468a8fae46df69f1e99"
      }
     },
     "2995476fd58849a5b2a82476e8730aff": {
      "model_module": "@jupyter-widgets/controls",
      "model_module_version": "1.5.0",
      "model_name": "DescriptionStyleModel",
      "state": {
       "_model_module": "@jupyter-widgets/controls",
       "_model_module_version": "1.5.0",
       "_model_name": "DescriptionStyleModel",
       "_view_count": null,
       "_view_module": "@jupyter-widgets/base",
       "_view_module_version": "1.2.0",
       "_view_name": "StyleView",
       "description_width": ""
      }
     },
     "29c86fc18b9046cea054135be0a6fb37": {
      "model_module": "@jupyter-widgets/controls",
      "model_module_version": "1.5.0",
      "model_name": "HBoxModel",
      "state": {
       "_dom_classes": [],
       "_model_module": "@jupyter-widgets/controls",
       "_model_module_version": "1.5.0",
       "_model_name": "HBoxModel",
       "_view_count": null,
       "_view_module": "@jupyter-widgets/controls",
       "_view_module_version": "1.5.0",
       "_view_name": "HBoxView",
       "box_style": "",
       "children": [
        "IPY_MODEL_c0c119b06b484456a184a165e98fc42a",
        "IPY_MODEL_099fd72b3bde49a9a7caf959d42fb6c9",
        "IPY_MODEL_87e89a04f1094798b7f7bf2b33833baf"
       ],
       "layout": "IPY_MODEL_6f6b1e424ec64d78ac02e46cfe7e3e5e"
      }
     },
     "2f56138151ec42b584e91eb74d772c27": {
      "model_module": "@jupyter-widgets/base",
      "model_module_version": "1.2.0",
      "model_name": "LayoutModel",
      "state": {
       "_model_module": "@jupyter-widgets/base",
       "_model_module_version": "1.2.0",
       "_model_name": "LayoutModel",
       "_view_count": null,
       "_view_module": "@jupyter-widgets/base",
       "_view_module_version": "1.2.0",
       "_view_name": "LayoutView",
       "align_content": null,
       "align_items": null,
       "align_self": null,
       "border": null,
       "bottom": null,
       "display": null,
       "flex": null,
       "flex_flow": null,
       "grid_area": null,
       "grid_auto_columns": null,
       "grid_auto_flow": null,
       "grid_auto_rows": null,
       "grid_column": null,
       "grid_gap": null,
       "grid_row": null,
       "grid_template_areas": null,
       "grid_template_columns": null,
       "grid_template_rows": null,
       "height": null,
       "justify_content": null,
       "justify_items": null,
       "left": null,
       "margin": null,
       "max_height": null,
       "max_width": null,
       "min_height": null,
       "min_width": null,
       "object_fit": null,
       "object_position": null,
       "order": null,
       "overflow": null,
       "overflow_x": null,
       "overflow_y": null,
       "padding": null,
       "right": null,
       "top": null,
       "visibility": null,
       "width": null
      }
     },
     "31bf07b126af4d6aba25a071b7981bd5": {
      "model_module": "@jupyter-widgets/controls",
      "model_module_version": "1.5.0",
      "model_name": "HBoxModel",
      "state": {
       "_dom_classes": [],
       "_model_module": "@jupyter-widgets/controls",
       "_model_module_version": "1.5.0",
       "_model_name": "HBoxModel",
       "_view_count": null,
       "_view_module": "@jupyter-widgets/controls",
       "_view_module_version": "1.5.0",
       "_view_name": "HBoxView",
       "box_style": "",
       "children": [
        "IPY_MODEL_fc0c12071ffe4b02b4ab7dc9d6b60411",
        "IPY_MODEL_7fefe040eeec47f4883e6915366eab4f",
        "IPY_MODEL_ab04f67287c649fb9686923b59dbb33a"
       ],
       "layout": "IPY_MODEL_d8a9b1b35aa543d2aa42e59a7f6db036"
      }
     },
     "339e606b20fa43cd80f47593fc19ab72": {
      "model_module": "@jupyter-widgets/controls",
      "model_module_version": "1.5.0",
      "model_name": "ProgressStyleModel",
      "state": {
       "_model_module": "@jupyter-widgets/controls",
       "_model_module_version": "1.5.0",
       "_model_name": "ProgressStyleModel",
       "_view_count": null,
       "_view_module": "@jupyter-widgets/base",
       "_view_module_version": "1.2.0",
       "_view_name": "StyleView",
       "bar_color": null,
       "description_width": ""
      }
     },
     "33e4edeb80a24b7d8750e09c8f80aab0": {
      "model_module": "@jupyter-widgets/base",
      "model_module_version": "1.2.0",
      "model_name": "LayoutModel",
      "state": {
       "_model_module": "@jupyter-widgets/base",
       "_model_module_version": "1.2.0",
       "_model_name": "LayoutModel",
       "_view_count": null,
       "_view_module": "@jupyter-widgets/base",
       "_view_module_version": "1.2.0",
       "_view_name": "LayoutView",
       "align_content": null,
       "align_items": null,
       "align_self": null,
       "border": null,
       "bottom": null,
       "display": null,
       "flex": null,
       "flex_flow": null,
       "grid_area": null,
       "grid_auto_columns": null,
       "grid_auto_flow": null,
       "grid_auto_rows": null,
       "grid_column": null,
       "grid_gap": null,
       "grid_row": null,
       "grid_template_areas": null,
       "grid_template_columns": null,
       "grid_template_rows": null,
       "height": null,
       "justify_content": null,
       "justify_items": null,
       "left": null,
       "margin": null,
       "max_height": null,
       "max_width": null,
       "min_height": null,
       "min_width": null,
       "object_fit": null,
       "object_position": null,
       "order": null,
       "overflow": null,
       "overflow_x": null,
       "overflow_y": null,
       "padding": null,
       "right": null,
       "top": null,
       "visibility": null,
       "width": null
      }
     },
     "34133c46348344a6bff462878bdfd041": {
      "model_module": "@jupyter-widgets/controls",
      "model_module_version": "1.5.0",
      "model_name": "FloatProgressModel",
      "state": {
       "_dom_classes": [],
       "_model_module": "@jupyter-widgets/controls",
       "_model_module_version": "1.5.0",
       "_model_name": "FloatProgressModel",
       "_view_count": null,
       "_view_module": "@jupyter-widgets/controls",
       "_view_module_version": "1.5.0",
       "_view_name": "ProgressView",
       "bar_style": "success",
       "description": "",
       "description_tooltip": null,
       "layout": "IPY_MODEL_c1d1085158534075862031cbcac74a1d",
       "max": 271.0,
       "min": 0.0,
       "orientation": "horizontal",
       "style": "IPY_MODEL_f84417963375451eb5095a1280e8530c",
       "value": 271.0
      }
     },
     "459921808330469480fc0f17b6ab6e48": {
      "model_module": "@jupyter-widgets/controls",
      "model_module_version": "1.5.0",
      "model_name": "HTMLModel",
      "state": {
       "_dom_classes": [],
       "_model_module": "@jupyter-widgets/controls",
       "_model_module_version": "1.5.0",
       "_model_name": "HTMLModel",
       "_view_count": null,
       "_view_module": "@jupyter-widgets/controls",
       "_view_module_version": "1.5.0",
       "_view_name": "HTMLView",
       "description": "",
       "description_tooltip": null,
       "layout": "IPY_MODEL_6b4db52450ab4635ae97bde22020a48b",
       "placeholder": "​",
       "style": "IPY_MODEL_8dd70b902fe3481faf6f21a1fa7a5ada",
       "value": " 191/191 [00:00&lt;00:00, 17.9kB/s]"
      }
     },
     "4ab9c7f998be4d4dbd043d7a36830722": {
      "model_module": "@jupyter-widgets/controls",
      "model_module_version": "1.5.0",
      "model_name": "HTMLModel",
      "state": {
       "_dom_classes": [],
       "_model_module": "@jupyter-widgets/controls",
       "_model_module_version": "1.5.0",
       "_model_name": "HTMLModel",
       "_view_count": null,
       "_view_module": "@jupyter-widgets/controls",
       "_view_module_version": "1.5.0",
       "_view_name": "HTMLView",
       "description": "",
       "description_tooltip": null,
       "layout": "IPY_MODEL_9ce77b9f6edb4282abf1c5b4065c743f",
       "placeholder": "​",
       "style": "IPY_MODEL_d7cce8e0b0664d38a8ebbe5fe51c9321",
       "value": " 505/505 [00:00&lt;00:00, 55.3kB/s]"
      }
     },
     "4efacd48e366447c805d46d021574cf1": {
      "model_module": "@jupyter-widgets/controls",
      "model_module_version": "1.5.0",
      "model_name": "ProgressStyleModel",
      "state": {
       "_model_module": "@jupyter-widgets/controls",
       "_model_module_version": "1.5.0",
       "_model_name": "ProgressStyleModel",
       "_view_count": null,
       "_view_module": "@jupyter-widgets/base",
       "_view_module_version": "1.2.0",
       "_view_name": "StyleView",
       "bar_color": null,
       "description_width": ""
      }
     },
     "51c43acf8d564027a85506ea638d9a0e": {
      "model_module": "@jupyter-widgets/controls",
      "model_module_version": "1.5.0",
      "model_name": "ProgressStyleModel",
      "state": {
       "_model_module": "@jupyter-widgets/controls",
       "_model_module_version": "1.5.0",
       "_model_name": "ProgressStyleModel",
       "_view_count": null,
       "_view_module": "@jupyter-widgets/base",
       "_view_module_version": "1.2.0",
       "_view_name": "StyleView",
       "bar_color": null,
       "description_width": ""
      }
     },
     "54ccae34a9b34a8c95bafa010eb90cf0": {
      "model_module": "@jupyter-widgets/base",
      "model_module_version": "1.2.0",
      "model_name": "LayoutModel",
      "state": {
       "_model_module": "@jupyter-widgets/base",
       "_model_module_version": "1.2.0",
       "_model_name": "LayoutModel",
       "_view_count": null,
       "_view_module": "@jupyter-widgets/base",
       "_view_module_version": "1.2.0",
       "_view_name": "LayoutView",
       "align_content": null,
       "align_items": null,
       "align_self": null,
       "border": null,
       "bottom": null,
       "display": null,
       "flex": null,
       "flex_flow": null,
       "grid_area": null,
       "grid_auto_columns": null,
       "grid_auto_flow": null,
       "grid_auto_rows": null,
       "grid_column": null,
       "grid_gap": null,
       "grid_row": null,
       "grid_template_areas": null,
       "grid_template_columns": null,
       "grid_template_rows": null,
       "height": null,
       "justify_content": null,
       "justify_items": null,
       "left": null,
       "margin": null,
       "max_height": null,
       "max_width": null,
       "min_height": null,
       "min_width": null,
       "object_fit": null,
       "object_position": null,
       "order": null,
       "overflow": null,
       "overflow_x": null,
       "overflow_y": null,
       "padding": null,
       "right": null,
       "top": null,
       "visibility": null,
       "width": null
      }
     },
     "550a9445772640cfbd6bc4cbf355e7c8": {
      "model_module": "@jupyter-widgets/controls",
      "model_module_version": "1.5.0",
      "model_name": "HTMLModel",
      "state": {
       "_dom_classes": [],
       "_model_module": "@jupyter-widgets/controls",
       "_model_module_version": "1.5.0",
       "_model_name": "HTMLModel",
       "_view_count": null,
       "_view_module": "@jupyter-widgets/controls",
       "_view_module_version": "1.5.0",
       "_view_name": "HTMLView",
       "description": "",
       "description_tooltip": null,
       "layout": "IPY_MODEL_87a6cf03cc4246c1a5dbef031a60b155",
       "placeholder": "​",
       "style": "IPY_MODEL_f2c8a9522ff34939964d62a5d1ce9822",
       "value": "config.json: 100%"
      }
     },
     "55dc2b0c8bfa4081a95d4dc4376c12d1": {
      "model_module": "@jupyter-widgets/controls",
      "model_module_version": "1.5.0",
      "model_name": "DescriptionStyleModel",
      "state": {
       "_model_module": "@jupyter-widgets/controls",
       "_model_module_version": "1.5.0",
       "_model_name": "DescriptionStyleModel",
       "_view_count": null,
       "_view_module": "@jupyter-widgets/base",
       "_view_module_version": "1.2.0",
       "_view_name": "StyleView",
       "description_width": ""
      }
     },
     "56973ae8a5204bef8f9582c8fca80f91": {
      "model_module": "@jupyter-widgets/controls",
      "model_module_version": "1.5.0",
      "model_name": "DescriptionStyleModel",
      "state": {
       "_model_module": "@jupyter-widgets/controls",
       "_model_module_version": "1.5.0",
       "_model_name": "DescriptionStyleModel",
       "_view_count": null,
       "_view_module": "@jupyter-widgets/base",
       "_view_module_version": "1.2.0",
       "_view_name": "StyleView",
       "description_width": ""
      }
     },
     "5e61cf319d3a416fa682b8ecd20789eb": {
      "model_module": "@jupyter-widgets/base",
      "model_module_version": "1.2.0",
      "model_name": "LayoutModel",
      "state": {
       "_model_module": "@jupyter-widgets/base",
       "_model_module_version": "1.2.0",
       "_model_name": "LayoutModel",
       "_view_count": null,
       "_view_module": "@jupyter-widgets/base",
       "_view_module_version": "1.2.0",
       "_view_name": "LayoutView",
       "align_content": null,
       "align_items": null,
       "align_self": null,
       "border": null,
       "bottom": null,
       "display": null,
       "flex": null,
       "flex_flow": null,
       "grid_area": null,
       "grid_auto_columns": null,
       "grid_auto_flow": null,
       "grid_auto_rows": null,
       "grid_column": null,
       "grid_gap": null,
       "grid_row": null,
       "grid_template_areas": null,
       "grid_template_columns": null,
       "grid_template_rows": null,
       "height": null,
       "justify_content": null,
       "justify_items": null,
       "left": null,
       "margin": null,
       "max_height": null,
       "max_width": null,
       "min_height": null,
       "min_width": null,
       "object_fit": null,
       "object_position": null,
       "order": null,
       "overflow": null,
       "overflow_x": null,
       "overflow_y": null,
       "padding": null,
       "right": null,
       "top": null,
       "visibility": null,
       "width": null
      }
     },
     "5e8fb78cbdf441828aa5297e9cda218c": {
      "model_module": "@jupyter-widgets/controls",
      "model_module_version": "1.5.0",
      "model_name": "HTMLModel",
      "state": {
       "_dom_classes": [],
       "_model_module": "@jupyter-widgets/controls",
       "_model_module_version": "1.5.0",
       "_model_name": "HTMLModel",
       "_view_count": null,
       "_view_module": "@jupyter-widgets/controls",
       "_view_module_version": "1.5.0",
       "_view_name": "HTMLView",
       "description": "",
       "description_tooltip": null,
       "layout": "IPY_MODEL_f558d86def394bbcbe6c27a7662d2d7b",
       "placeholder": "​",
       "style": "IPY_MODEL_f7fff23416064e6f95763d8d0363443e",
       "value": " 604k/604k [00:00&lt;00:00, 28.1MB/s]"
      }
     },
     "66958e53d8f04d4d839c24c3db31cc40": {
      "model_module": "@jupyter-widgets/controls",
      "model_module_version": "1.5.0",
      "model_name": "DescriptionStyleModel",
      "state": {
       "_model_module": "@jupyter-widgets/controls",
       "_model_module_version": "1.5.0",
       "_model_name": "DescriptionStyleModel",
       "_view_count": null,
       "_view_module": "@jupyter-widgets/base",
       "_view_module_version": "1.2.0",
       "_view_name": "StyleView",
       "description_width": ""
      }
     },
     "6b4db52450ab4635ae97bde22020a48b": {
      "model_module": "@jupyter-widgets/base",
      "model_module_version": "1.2.0",
      "model_name": "LayoutModel",
      "state": {
       "_model_module": "@jupyter-widgets/base",
       "_model_module_version": "1.2.0",
       "_model_name": "LayoutModel",
       "_view_count": null,
       "_view_module": "@jupyter-widgets/base",
       "_view_module_version": "1.2.0",
       "_view_name": "LayoutView",
       "align_content": null,
       "align_items": null,
       "align_self": null,
       "border": null,
       "bottom": null,
       "display": null,
       "flex": null,
       "flex_flow": null,
       "grid_area": null,
       "grid_auto_columns": null,
       "grid_auto_flow": null,
       "grid_auto_rows": null,
       "grid_column": null,
       "grid_gap": null,
       "grid_row": null,
       "grid_template_areas": null,
       "grid_template_columns": null,
       "grid_template_rows": null,
       "height": null,
       "justify_content": null,
       "justify_items": null,
       "left": null,
       "margin": null,
       "max_height": null,
       "max_width": null,
       "min_height": null,
       "min_width": null,
       "object_fit": null,
       "object_position": null,
       "order": null,
       "overflow": null,
       "overflow_x": null,
       "overflow_y": null,
       "padding": null,
       "right": null,
       "top": null,
       "visibility": null,
       "width": null
      }
     },
     "6c40139faa3f406099c74eb1941c6e4c": {
      "model_module": "@jupyter-widgets/controls",
      "model_module_version": "1.5.0",
      "model_name": "HBoxModel",
      "state": {
       "_dom_classes": [],
       "_model_module": "@jupyter-widgets/controls",
       "_model_module_version": "1.5.0",
       "_model_name": "HBoxModel",
       "_view_count": null,
       "_view_module": "@jupyter-widgets/controls",
       "_view_module_version": "1.5.0",
       "_view_name": "HBoxView",
       "box_style": "",
       "children": [
        "IPY_MODEL_b755589b39c04bd2ad412b2dd9ffdbe1",
        "IPY_MODEL_34133c46348344a6bff462878bdfd041",
        "IPY_MODEL_bb3009e3c6354e44a1b5d8f368a67ea1"
       ],
       "layout": "IPY_MODEL_0e28372152d446e4988b9e1ec155938e"
      }
     },
     "6e040976f06e4b3d91c11d5acf69f97a": {
      "model_module": "@jupyter-widgets/controls",
      "model_module_version": "1.5.0",
      "model_name": "DescriptionStyleModel",
      "state": {
       "_model_module": "@jupyter-widgets/controls",
       "_model_module_version": "1.5.0",
       "_model_name": "DescriptionStyleModel",
       "_view_count": null,
       "_view_module": "@jupyter-widgets/base",
       "_view_module_version": "1.2.0",
       "_view_name": "StyleView",
       "description_width": ""
      }
     },
     "6f6b1e424ec64d78ac02e46cfe7e3e5e": {
      "model_module": "@jupyter-widgets/base",
      "model_module_version": "1.2.0",
      "model_name": "LayoutModel",
      "state": {
       "_model_module": "@jupyter-widgets/base",
       "_model_module_version": "1.2.0",
       "_model_name": "LayoutModel",
       "_view_count": null,
       "_view_module": "@jupyter-widgets/base",
       "_view_module_version": "1.2.0",
       "_view_name": "LayoutView",
       "align_content": null,
       "align_items": null,
       "align_self": null,
       "border": null,
       "bottom": null,
       "display": null,
       "flex": null,
       "flex_flow": null,
       "grid_area": null,
       "grid_auto_columns": null,
       "grid_auto_flow": null,
       "grid_auto_rows": null,
       "grid_column": null,
       "grid_gap": null,
       "grid_row": null,
       "grid_template_areas": null,
       "grid_template_columns": null,
       "grid_template_rows": null,
       "height": null,
       "justify_content": null,
       "justify_items": null,
       "left": null,
       "margin": null,
       "max_height": null,
       "max_width": null,
       "min_height": null,
       "min_width": null,
       "object_fit": null,
       "object_position": null,
       "order": null,
       "overflow": null,
       "overflow_x": null,
       "overflow_y": null,
       "padding": null,
       "right": null,
       "top": null,
       "visibility": null,
       "width": null
      }
     },
     "7572beb39e784367b161a7ee05afbc92": {
      "model_module": "@jupyter-widgets/controls",
      "model_module_version": "1.5.0",
      "model_name": "HTMLModel",
      "state": {
       "_dom_classes": [],
       "_model_module": "@jupyter-widgets/controls",
       "_model_module_version": "1.5.0",
       "_model_name": "HTMLModel",
       "_view_count": null,
       "_view_module": "@jupyter-widgets/controls",
       "_view_module_version": "1.5.0",
       "_view_name": "HTMLView",
       "description": "",
       "description_tooltip": null,
       "layout": "IPY_MODEL_17c246231cbe4eabb0275858fb2356b9",
       "placeholder": "​",
       "style": "IPY_MODEL_0c673046f02a4f009b045b1c2013191e",
       "value": " 160/160 [00:00&lt;00:00, 15.4kB/s]"
      }
     },
     "7a02b4e7c0ca4190bd1cbbe54b2d5744": {
      "model_module": "@jupyter-widgets/controls",
      "model_module_version": "1.5.0",
      "model_name": "DescriptionStyleModel",
      "state": {
       "_model_module": "@jupyter-widgets/controls",
       "_model_module_version": "1.5.0",
       "_model_name": "DescriptionStyleModel",
       "_view_count": null,
       "_view_module": "@jupyter-widgets/base",
       "_view_module_version": "1.2.0",
       "_view_name": "StyleView",
       "description_width": ""
      }
     },
     "7b3acccf15f3450c80fcf6394e0178ef": {
      "model_module": "@jupyter-widgets/controls",
      "model_module_version": "1.5.0",
      "model_name": "HBoxModel",
      "state": {
       "_dom_classes": [],
       "_model_module": "@jupyter-widgets/controls",
       "_model_module_version": "1.5.0",
       "_model_name": "HBoxModel",
       "_view_count": null,
       "_view_module": "@jupyter-widgets/controls",
       "_view_module_version": "1.5.0",
       "_view_name": "HBoxView",
       "box_style": "",
       "children": [
        "IPY_MODEL_c29548f5db0040598a8478cee776562a",
        "IPY_MODEL_1634d17499f84b4dbafd7c2e3942c9fb",
        "IPY_MODEL_ff2a125562cc443bbb6b1a5c94073ca1"
       ],
       "layout": "IPY_MODEL_acdd793c622345c686f6a757d9d5c691"
      }
     },
     "7cc27d88c7ed4906b453a573c9c910e2": {
      "model_module": "@jupyter-widgets/controls",
      "model_module_version": "1.5.0",
      "model_name": "HTMLModel",
      "state": {
       "_dom_classes": [],
       "_model_module": "@jupyter-widgets/controls",
       "_model_module_version": "1.5.0",
       "_model_name": "HTMLModel",
       "_view_count": null,
       "_view_module": "@jupyter-widgets/controls",
       "_view_module_version": "1.5.0",
       "_view_name": "HTMLView",
       "description": "",
       "description_tooltip": null,
       "layout": "IPY_MODEL_850b0ad3ded04c39954255eb28e10df0",
       "placeholder": "​",
       "style": "IPY_MODEL_f865443b790c4c04a029cf3308aebf04",
       "value": "preprocessor_config.json: 100%"
      }
     },
     "7e0d32a78c284074a7361a7389f0411e": {
      "model_module": "@jupyter-widgets/controls",
      "model_module_version": "1.5.0",
      "model_name": "ProgressStyleModel",
      "state": {
       "_model_module": "@jupyter-widgets/controls",
       "_model_module_version": "1.5.0",
       "_model_name": "ProgressStyleModel",
       "_view_count": null,
       "_view_module": "@jupyter-widgets/base",
       "_view_module_version": "1.2.0",
       "_view_name": "StyleView",
       "bar_color": null,
       "description_width": ""
      }
     },
     "7fefe040eeec47f4883e6915366eab4f": {
      "model_module": "@jupyter-widgets/controls",
      "model_module_version": "1.5.0",
      "model_name": "FloatProgressModel",
      "state": {
       "_dom_classes": [],
       "_model_module": "@jupyter-widgets/controls",
       "_model_module_version": "1.5.0",
       "_model_name": "FloatProgressModel",
       "_view_count": null,
       "_view_module": "@jupyter-widgets/controls",
       "_view_module_version": "1.5.0",
       "_view_name": "ProgressView",
       "bar_style": "success",
       "description": "",
       "description_tooltip": null,
       "layout": "IPY_MODEL_0cd38e1866e442f1a7b792ee8317b5ea",
       "max": 69665.0,
       "min": 0.0,
       "orientation": "horizontal",
       "style": "IPY_MODEL_7e0d32a78c284074a7361a7389f0411e",
       "value": 69665.0
      }
     },
     "813247f5749b4e7fb07bf7980e46fb69": {
      "model_module": "@jupyter-widgets/controls",
      "model_module_version": "1.5.0",
      "model_name": "HBoxModel",
      "state": {
       "_dom_classes": [],
       "_model_module": "@jupyter-widgets/controls",
       "_model_module_version": "1.5.0",
       "_model_name": "HBoxModel",
       "_view_count": null,
       "_view_module": "@jupyter-widgets/controls",
       "_view_module_version": "1.5.0",
       "_view_name": "HBoxView",
       "box_style": "",
       "children": [
        "IPY_MODEL_d1b715304dbb48bba27b6f69bdbd91ae",
        "IPY_MODEL_90fcfdac44034796ba81cc1e0ce78a5e",
        "IPY_MODEL_9ff46903d62d4b4795fce8a86bf04972"
       ],
       "layout": "IPY_MODEL_8eaee49a8aa940fdab12a2709b0dbd5f"
      }
     },
     "850b0ad3ded04c39954255eb28e10df0": {
      "model_module": "@jupyter-widgets/base",
      "model_module_version": "1.2.0",
      "model_name": "LayoutModel",
      "state": {
       "_model_module": "@jupyter-widgets/base",
       "_model_module_version": "1.2.0",
       "_model_name": "LayoutModel",
       "_view_count": null,
       "_view_module": "@jupyter-widgets/base",
       "_view_module_version": "1.2.0",
       "_view_name": "LayoutView",
       "align_content": null,
       "align_items": null,
       "align_self": null,
       "border": null,
       "bottom": null,
       "display": null,
       "flex": null,
       "flex_flow": null,
       "grid_area": null,
       "grid_auto_columns": null,
       "grid_auto_flow": null,
       "grid_auto_rows": null,
       "grid_column": null,
       "grid_gap": null,
       "grid_row": null,
       "grid_template_areas": null,
       "grid_template_columns": null,
       "grid_template_rows": null,
       "height": null,
       "justify_content": null,
       "justify_items": null,
       "left": null,
       "margin": null,
       "max_height": null,
       "max_width": null,
       "min_height": null,
       "min_width": null,
       "object_fit": null,
       "object_position": null,
       "order": null,
       "overflow": null,
       "overflow_x": null,
       "overflow_y": null,
       "padding": null,
       "right": null,
       "top": null,
       "visibility": null,
       "width": null
      }
     },
     "852202fe942143f4bf4beb1f4c6a3b99": {
      "model_module": "@jupyter-widgets/controls",
      "model_module_version": "1.5.0",
      "model_name": "HTMLModel",
      "state": {
       "_dom_classes": [],
       "_model_module": "@jupyter-widgets/controls",
       "_model_module_version": "1.5.0",
       "_model_name": "HTMLModel",
       "_view_count": null,
       "_view_module": "@jupyter-widgets/controls",
       "_view_module_version": "1.5.0",
       "_view_name": "HTMLView",
       "description": "",
       "description_tooltip": null,
       "layout": "IPY_MODEL_e7cecbea897b460397f04e18e7dea3af",
       "placeholder": "​",
       "style": "IPY_MODEL_2995476fd58849a5b2a82476e8730aff",
       "value": " 112/112 [00:00&lt;00:00, 10.3kB/s]"
      }
     },
     "87a6cf03cc4246c1a5dbef031a60b155": {
      "model_module": "@jupyter-widgets/base",
      "model_module_version": "1.2.0",
      "model_name": "LayoutModel",
      "state": {
       "_model_module": "@jupyter-widgets/base",
       "_model_module_version": "1.2.0",
       "_model_name": "LayoutModel",
       "_view_count": null,
       "_view_module": "@jupyter-widgets/base",
       "_view_module_version": "1.2.0",
       "_view_name": "LayoutView",
       "align_content": null,
       "align_items": null,
       "align_self": null,
       "border": null,
       "bottom": null,
       "display": null,
       "flex": null,
       "flex_flow": null,
       "grid_area": null,
       "grid_auto_columns": null,
       "grid_auto_flow": null,
       "grid_auto_rows": null,
       "grid_column": null,
       "grid_gap": null,
       "grid_row": null,
       "grid_template_areas": null,
       "grid_template_columns": null,
       "grid_template_rows": null,
       "height": null,
       "justify_content": null,
       "justify_items": null,
       "left": null,
       "margin": null,
       "max_height": null,
       "max_width": null,
       "min_height": null,
       "min_width": null,
       "object_fit": null,
       "object_position": null,
       "order": null,
       "overflow": null,
       "overflow_x": null,
       "overflow_y": null,
       "padding": null,
       "right": null,
       "top": null,
       "visibility": null,
       "width": null
      }
     },
     "87e89a04f1094798b7f7bf2b33833baf": {
      "model_module": "@jupyter-widgets/controls",
      "model_module_version": "1.5.0",
      "model_name": "HTMLModel",
      "state": {
       "_dom_classes": [],
       "_model_module": "@jupyter-widgets/controls",
       "_model_module_version": "1.5.0",
       "_model_name": "HTMLModel",
       "_view_count": null,
       "_view_module": "@jupyter-widgets/controls",
       "_view_module_version": "1.5.0",
       "_view_name": "HTMLView",
       "description": "",
       "description_tooltip": null,
       "layout": "IPY_MODEL_190a5a9cbe2f492a908d0090fcdae4b6",
       "placeholder": "​",
       "style": "IPY_MODEL_9597c8437e574f6fa818df2b31d4e75c",
       "value": " 185k/185k [00:00&lt;00:00, 5.34MB/s]"
      }
     },
     "8dd70b902fe3481faf6f21a1fa7a5ada": {
      "model_module": "@jupyter-widgets/controls",
      "model_module_version": "1.5.0",
      "model_name": "DescriptionStyleModel",
      "state": {
       "_model_module": "@jupyter-widgets/controls",
       "_model_module_version": "1.5.0",
       "_model_name": "DescriptionStyleModel",
       "_view_count": null,
       "_view_module": "@jupyter-widgets/base",
       "_view_module_version": "1.2.0",
       "_view_name": "StyleView",
       "description_width": ""
      }
     },
     "8eaee49a8aa940fdab12a2709b0dbd5f": {
      "model_module": "@jupyter-widgets/base",
      "model_module_version": "1.2.0",
      "model_name": "LayoutModel",
      "state": {
       "_model_module": "@jupyter-widgets/base",
       "_model_module_version": "1.2.0",
       "_model_name": "LayoutModel",
       "_view_count": null,
       "_view_module": "@jupyter-widgets/base",
       "_view_module_version": "1.2.0",
       "_view_name": "LayoutView",
       "align_content": null,
       "align_items": null,
       "align_self": null,
       "border": null,
       "bottom": null,
       "display": null,
       "flex": null,
       "flex_flow": null,
       "grid_area": null,
       "grid_auto_columns": null,
       "grid_auto_flow": null,
       "grid_auto_rows": null,
       "grid_column": null,
       "grid_gap": null,
       "grid_row": null,
       "grid_template_areas": null,
       "grid_template_columns": null,
       "grid_template_rows": null,
       "height": null,
       "justify_content": null,
       "justify_items": null,
       "left": null,
       "margin": null,
       "max_height": null,
       "max_width": null,
       "min_height": null,
       "min_width": null,
       "object_fit": null,
       "object_position": null,
       "order": null,
       "overflow": null,
       "overflow_x": null,
       "overflow_y": null,
       "padding": null,
       "right": null,
       "top": null,
       "visibility": null,
       "width": null
      }
     },
     "90fcfdac44034796ba81cc1e0ce78a5e": {
      "model_module": "@jupyter-widgets/controls",
      "model_module_version": "1.5.0",
      "model_name": "FloatProgressModel",
      "state": {
       "_dom_classes": [],
       "_model_module": "@jupyter-widgets/controls",
       "_model_module_version": "1.5.0",
       "_model_name": "FloatProgressModel",
       "_view_count": null,
       "_view_module": "@jupyter-widgets/controls",
       "_view_module_version": "1.5.0",
       "_view_name": "ProgressView",
       "bar_style": "success",
       "description": "",
       "description_tooltip": null,
       "layout": "IPY_MODEL_ff714c9da87749db99567e2adb45afa2",
       "max": 966995080.0,
       "min": 0.0,
       "orientation": "horizontal",
       "style": "IPY_MODEL_d65001ad561d4beea2b6bc1b3f4d77f5",
       "value": 966995080.0
      }
     },
     "94e73545151643ee980b82c9e5885ba3": {
      "model_module": "@jupyter-widgets/base",
      "model_module_version": "1.2.0",
      "model_name": "LayoutModel",
      "state": {
       "_model_module": "@jupyter-widgets/base",
       "_model_module_version": "1.2.0",
       "_model_name": "LayoutModel",
       "_view_count": null,
       "_view_module": "@jupyter-widgets/base",
       "_view_module_version": "1.2.0",
       "_view_name": "LayoutView",
       "align_content": null,
       "align_items": null,
       "align_self": null,
       "border": null,
       "bottom": null,
       "display": null,
       "flex": null,
       "flex_flow": null,
       "grid_area": null,
       "grid_auto_columns": null,
       "grid_auto_flow": null,
       "grid_auto_rows": null,
       "grid_column": null,
       "grid_gap": null,
       "grid_row": null,
       "grid_template_areas": null,
       "grid_template_columns": null,
       "grid_template_rows": null,
       "height": null,
       "justify_content": null,
       "justify_items": null,
       "left": null,
       "margin": null,
       "max_height": null,
       "max_width": null,
       "min_height": null,
       "min_width": null,
       "object_fit": null,
       "object_position": null,
       "order": null,
       "overflow": null,
       "overflow_x": null,
       "overflow_y": null,
       "padding": null,
       "right": null,
       "top": null,
       "visibility": null,
       "width": null
      }
     },
     "9597c8437e574f6fa818df2b31d4e75c": {
      "model_module": "@jupyter-widgets/controls",
      "model_module_version": "1.5.0",
      "model_name": "DescriptionStyleModel",
      "state": {
       "_model_module": "@jupyter-widgets/controls",
       "_model_module_version": "1.5.0",
       "_model_name": "DescriptionStyleModel",
       "_view_count": null,
       "_view_module": "@jupyter-widgets/base",
       "_view_module_version": "1.2.0",
       "_view_name": "StyleView",
       "description_width": ""
      }
     },
     "98018428549a41f1b83d1cf300b0c0ce": {
      "model_module": "@jupyter-widgets/base",
      "model_module_version": "1.2.0",
      "model_name": "LayoutModel",
      "state": {
       "_model_module": "@jupyter-widgets/base",
       "_model_module_version": "1.2.0",
       "_model_name": "LayoutModel",
       "_view_count": null,
       "_view_module": "@jupyter-widgets/base",
       "_view_module_version": "1.2.0",
       "_view_name": "LayoutView",
       "align_content": null,
       "align_items": null,
       "align_self": null,
       "border": null,
       "bottom": null,
       "display": null,
       "flex": null,
       "flex_flow": null,
       "grid_area": null,
       "grid_auto_columns": null,
       "grid_auto_flow": null,
       "grid_auto_rows": null,
       "grid_column": null,
       "grid_gap": null,
       "grid_row": null,
       "grid_template_areas": null,
       "grid_template_columns": null,
       "grid_template_rows": null,
       "height": null,
       "justify_content": null,
       "justify_items": null,
       "left": null,
       "margin": null,
       "max_height": null,
       "max_width": null,
       "min_height": null,
       "min_width": null,
       "object_fit": null,
       "object_position": null,
       "order": null,
       "overflow": null,
       "overflow_x": null,
       "overflow_y": null,
       "padding": null,
       "right": null,
       "top": null,
       "visibility": null,
       "width": null
      }
     },
     "9ce77b9f6edb4282abf1c5b4065c743f": {
      "model_module": "@jupyter-widgets/base",
      "model_module_version": "1.2.0",
      "model_name": "LayoutModel",
      "state": {
       "_model_module": "@jupyter-widgets/base",
       "_model_module_version": "1.2.0",
       "_model_name": "LayoutModel",
       "_view_count": null,
       "_view_module": "@jupyter-widgets/base",
       "_view_module_version": "1.2.0",
       "_view_name": "LayoutView",
       "align_content": null,
       "align_items": null,
       "align_self": null,
       "border": null,
       "bottom": null,
       "display": null,
       "flex": null,
       "flex_flow": null,
       "grid_area": null,
       "grid_auto_columns": null,
       "grid_auto_flow": null,
       "grid_auto_rows": null,
       "grid_column": null,
       "grid_gap": null,
       "grid_row": null,
       "grid_template_areas": null,
       "grid_template_columns": null,
       "grid_template_rows": null,
       "height": null,
       "justify_content": null,
       "justify_items": null,
       "left": null,
       "margin": null,
       "max_height": null,
       "max_width": null,
       "min_height": null,
       "min_width": null,
       "object_fit": null,
       "object_position": null,
       "order": null,
       "overflow": null,
       "overflow_x": null,
       "overflow_y": null,
       "padding": null,
       "right": null,
       "top": null,
       "visibility": null,
       "width": null
      }
     },
     "9ff46903d62d4b4795fce8a86bf04972": {
      "model_module": "@jupyter-widgets/controls",
      "model_module_version": "1.5.0",
      "model_name": "HTMLModel",
      "state": {
       "_dom_classes": [],
       "_model_module": "@jupyter-widgets/controls",
       "_model_module_version": "1.5.0",
       "_model_name": "HTMLModel",
       "_view_count": null,
       "_view_module": "@jupyter-widgets/controls",
       "_view_module_version": "1.5.0",
       "_view_name": "HTMLView",
       "description": "",
       "description_tooltip": null,
       "layout": "IPY_MODEL_174e468656f8493eaf4bf79edea79520",
       "placeholder": "​",
       "style": "IPY_MODEL_a8296eaeab2f4d30bd04fa9d74df919d",
       "value": " 967M/967M [00:04&lt;00:00, 221MB/s]"
      }
     },
     "a0d55e7304f04c55824e939d00e961a4": {
      "model_module": "@jupyter-widgets/controls",
      "model_module_version": "1.5.0",
      "model_name": "DescriptionStyleModel",
      "state": {
       "_model_module": "@jupyter-widgets/controls",
       "_model_module_version": "1.5.0",
       "_model_name": "DescriptionStyleModel",
       "_view_count": null,
       "_view_module": "@jupyter-widgets/base",
       "_view_module_version": "1.2.0",
       "_view_name": "StyleView",
       "description_width": ""
      }
     },
     "a5948542054a48e292118689f3c0083e": {
      "model_module": "@jupyter-widgets/controls",
      "model_module_version": "1.5.0",
      "model_name": "FloatProgressModel",
      "state": {
       "_dom_classes": [],
       "_model_module": "@jupyter-widgets/controls",
       "_model_module_version": "1.5.0",
       "_model_name": "FloatProgressModel",
       "_view_count": null,
       "_view_module": "@jupyter-widgets/controls",
       "_view_module_version": "1.5.0",
       "_view_name": "ProgressView",
       "bar_style": "success",
       "description": "",
       "description_tooltip": null,
       "layout": "IPY_MODEL_eae8972820944effac9c3d3c6c85d047",
       "max": 442631416.0,
       "min": 0.0,
       "orientation": "horizontal",
       "style": "IPY_MODEL_ea5d71c1d94d437c8c8b25808bc0beb7",
       "value": 442631416.0
      }
     },
     "a8296eaeab2f4d30bd04fa9d74df919d": {
      "model_module": "@jupyter-widgets/controls",
      "model_module_version": "1.5.0",
      "model_name": "DescriptionStyleModel",
      "state": {
       "_model_module": "@jupyter-widgets/controls",
       "_model_module_version": "1.5.0",
       "_model_name": "DescriptionStyleModel",
       "_view_count": null,
       "_view_module": "@jupyter-widgets/base",
       "_view_module_version": "1.2.0",
       "_view_name": "StyleView",
       "description_width": ""
      }
     },
     "a9a991df471f460ebc3a680cadf9d743": {
      "model_module": "@jupyter-widgets/base",
      "model_module_version": "1.2.0",
      "model_name": "LayoutModel",
      "state": {
       "_model_module": "@jupyter-widgets/base",
       "_model_module_version": "1.2.0",
       "_model_name": "LayoutModel",
       "_view_count": null,
       "_view_module": "@jupyter-widgets/base",
       "_view_module_version": "1.2.0",
       "_view_name": "LayoutView",
       "align_content": null,
       "align_items": null,
       "align_self": null,
       "border": null,
       "bottom": null,
       "display": null,
       "flex": null,
       "flex_flow": null,
       "grid_area": null,
       "grid_auto_columns": null,
       "grid_auto_flow": null,
       "grid_auto_rows": null,
       "grid_column": null,
       "grid_gap": null,
       "grid_row": null,
       "grid_template_areas": null,
       "grid_template_columns": null,
       "grid_template_rows": null,
       "height": null,
       "justify_content": null,
       "justify_items": null,
       "left": null,
       "margin": null,
       "max_height": null,
       "max_width": null,
       "min_height": null,
       "min_width": null,
       "object_fit": null,
       "object_position": null,
       "order": null,
       "overflow": null,
       "overflow_x": null,
       "overflow_y": null,
       "padding": null,
       "right": null,
       "top": null,
       "visibility": null,
       "width": null
      }
     },
     "ab04f67287c649fb9686923b59dbb33a": {
      "model_module": "@jupyter-widgets/controls",
      "model_module_version": "1.5.0",
      "model_name": "HTMLModel",
      "state": {
       "_dom_classes": [],
       "_model_module": "@jupyter-widgets/controls",
       "_model_module_version": "1.5.0",
       "_model_name": "HTMLModel",
       "_view_count": null,
       "_view_module": "@jupyter-widgets/controls",
       "_view_module_version": "1.5.0",
       "_view_name": "HTMLView",
       "description": "",
       "description_tooltip": null,
       "layout": "IPY_MODEL_e8338cf7f4414ab9a79a0faa3334ef8e",
       "placeholder": "​",
       "style": "IPY_MODEL_6e040976f06e4b3d91c11d5acf69f97a",
       "value": " 69.7k/69.7k [00:00&lt;00:00, 6.20MB/s]"
      }
     },
     "acdd793c622345c686f6a757d9d5c691": {
      "model_module": "@jupyter-widgets/base",
      "model_module_version": "1.2.0",
      "model_name": "LayoutModel",
      "state": {
       "_model_module": "@jupyter-widgets/base",
       "_model_module_version": "1.2.0",
       "_model_name": "LayoutModel",
       "_view_count": null,
       "_view_module": "@jupyter-widgets/base",
       "_view_module_version": "1.2.0",
       "_view_name": "LayoutView",
       "align_content": null,
       "align_items": null,
       "align_self": null,
       "border": null,
       "bottom": null,
       "display": null,
       "flex": null,
       "flex_flow": null,
       "grid_area": null,
       "grid_auto_columns": null,
       "grid_auto_flow": null,
       "grid_auto_rows": null,
       "grid_column": null,
       "grid_gap": null,
       "grid_row": null,
       "grid_template_areas": null,
       "grid_template_columns": null,
       "grid_template_rows": null,
       "height": null,
       "justify_content": null,
       "justify_items": null,
       "left": null,
       "margin": null,
       "max_height": null,
       "max_width": null,
       "min_height": null,
       "min_width": null,
       "object_fit": null,
       "object_position": null,
       "order": null,
       "overflow": null,
       "overflow_x": null,
       "overflow_y": null,
       "padding": null,
       "right": null,
       "top": null,
       "visibility": null,
       "width": null
      }
     },
     "ad18674535084747949fa7a4ab5b115c": {
      "model_module": "@jupyter-widgets/base",
      "model_module_version": "1.2.0",
      "model_name": "LayoutModel",
      "state": {
       "_model_module": "@jupyter-widgets/base",
       "_model_module_version": "1.2.0",
       "_model_name": "LayoutModel",
       "_view_count": null,
       "_view_module": "@jupyter-widgets/base",
       "_view_module_version": "1.2.0",
       "_view_name": "LayoutView",
       "align_content": null,
       "align_items": null,
       "align_self": null,
       "border": null,
       "bottom": null,
       "display": null,
       "flex": null,
       "flex_flow": null,
       "grid_area": null,
       "grid_auto_columns": null,
       "grid_auto_flow": null,
       "grid_auto_rows": null,
       "grid_column": null,
       "grid_gap": null,
       "grid_row": null,
       "grid_template_areas": null,
       "grid_template_columns": null,
       "grid_template_rows": null,
       "height": null,
       "justify_content": null,
       "justify_items": null,
       "left": null,
       "margin": null,
       "max_height": null,
       "max_width": null,
       "min_height": null,
       "min_width": null,
       "object_fit": null,
       "object_position": null,
       "order": null,
       "overflow": null,
       "overflow_x": null,
       "overflow_y": null,
       "padding": null,
       "right": null,
       "top": null,
       "visibility": null,
       "width": null
      }
     },
     "ad825065c6a1479899b9ba2c370e6a27": {
      "model_module": "@jupyter-widgets/controls",
      "model_module_version": "1.5.0",
      "model_name": "HBoxModel",
      "state": {
       "_dom_classes": [],
       "_model_module": "@jupyter-widgets/controls",
       "_model_module_version": "1.5.0",
       "_model_name": "HBoxModel",
       "_view_count": null,
       "_view_module": "@jupyter-widgets/controls",
       "_view_module_version": "1.5.0",
       "_view_name": "HBoxView",
       "box_style": "",
       "children": [
        "IPY_MODEL_095cd6e05eff4a8cbf1686505d9be7df",
        "IPY_MODEL_ef878961426d4efe95b97eb9411e88fe",
        "IPY_MODEL_459921808330469480fc0f17b6ab6e48"
       ],
       "layout": "IPY_MODEL_33e4edeb80a24b7d8750e09c8f80aab0"
      }
     },
     "aff110de0a4f4872a566d45a18430bef": {
      "model_module": "@jupyter-widgets/base",
      "model_module_version": "1.2.0",
      "model_name": "LayoutModel",
      "state": {
       "_model_module": "@jupyter-widgets/base",
       "_model_module_version": "1.2.0",
       "_model_name": "LayoutModel",
       "_view_count": null,
       "_view_module": "@jupyter-widgets/base",
       "_view_module_version": "1.2.0",
       "_view_name": "LayoutView",
       "align_content": null,
       "align_items": null,
       "align_self": null,
       "border": null,
       "bottom": null,
       "display": null,
       "flex": null,
       "flex_flow": null,
       "grid_area": null,
       "grid_auto_columns": null,
       "grid_auto_flow": null,
       "grid_auto_rows": null,
       "grid_column": null,
       "grid_gap": null,
       "grid_row": null,
       "grid_template_areas": null,
       "grid_template_columns": null,
       "grid_template_rows": null,
       "height": null,
       "justify_content": null,
       "justify_items": null,
       "left": null,
       "margin": null,
       "max_height": null,
       "max_width": null,
       "min_height": null,
       "min_width": null,
       "object_fit": null,
       "object_position": null,
       "order": null,
       "overflow": null,
       "overflow_x": null,
       "overflow_y": null,
       "padding": null,
       "right": null,
       "top": null,
       "visibility": null,
       "width": null
      }
     },
     "b252030b6be64c20b78873111ea65add": {
      "model_module": "@jupyter-widgets/base",
      "model_module_version": "1.2.0",
      "model_name": "LayoutModel",
      "state": {
       "_model_module": "@jupyter-widgets/base",
       "_model_module_version": "1.2.0",
       "_model_name": "LayoutModel",
       "_view_count": null,
       "_view_module": "@jupyter-widgets/base",
       "_view_module_version": "1.2.0",
       "_view_name": "LayoutView",
       "align_content": null,
       "align_items": null,
       "align_self": null,
       "border": null,
       "bottom": null,
       "display": null,
       "flex": null,
       "flex_flow": null,
       "grid_area": null,
       "grid_auto_columns": null,
       "grid_auto_flow": null,
       "grid_auto_rows": null,
       "grid_column": null,
       "grid_gap": null,
       "grid_row": null,
       "grid_template_areas": null,
       "grid_template_columns": null,
       "grid_template_rows": null,
       "height": null,
       "justify_content": null,
       "justify_items": null,
       "left": null,
       "margin": null,
       "max_height": null,
       "max_width": null,
       "min_height": null,
       "min_width": null,
       "object_fit": null,
       "object_position": null,
       "order": null,
       "overflow": null,
       "overflow_x": null,
       "overflow_y": null,
       "padding": null,
       "right": null,
       "top": null,
       "visibility": null,
       "width": null
      }
     },
     "b52ab2e0d12246978937caf1138f3bdf": {
      "model_module": "@jupyter-widgets/controls",
      "model_module_version": "1.5.0",
      "model_name": "ProgressStyleModel",
      "state": {
       "_model_module": "@jupyter-widgets/controls",
       "_model_module_version": "1.5.0",
       "_model_name": "ProgressStyleModel",
       "_view_count": null,
       "_view_module": "@jupyter-widgets/base",
       "_view_module_version": "1.2.0",
       "_view_name": "StyleView",
       "bar_color": null,
       "description_width": ""
      }
     },
     "b66c2a84fa4349fca1cc74ee5ecba8f8": {
      "model_module": "@jupyter-widgets/controls",
      "model_module_version": "1.5.0",
      "model_name": "DescriptionStyleModel",
      "state": {
       "_model_module": "@jupyter-widgets/controls",
       "_model_module_version": "1.5.0",
       "_model_name": "DescriptionStyleModel",
       "_view_count": null,
       "_view_module": "@jupyter-widgets/base",
       "_view_module_version": "1.2.0",
       "_view_name": "StyleView",
       "description_width": ""
      }
     },
     "b6d0c492f5c84c0ab8079152bcd3f00f": {
      "model_module": "@jupyter-widgets/controls",
      "model_module_version": "1.5.0",
      "model_name": "FloatProgressModel",
      "state": {
       "_dom_classes": [],
       "_model_module": "@jupyter-widgets/controls",
       "_model_module_version": "1.5.0",
       "_model_name": "FloatProgressModel",
       "_view_count": null,
       "_view_module": "@jupyter-widgets/controls",
       "_view_module_version": "1.5.0",
       "_view_name": "ProgressView",
       "bar_style": "success",
       "description": "",
       "description_tooltip": null,
       "layout": "IPY_MODEL_54ccae34a9b34a8c95bafa010eb90cf0",
       "max": 604083.0,
       "min": 0.0,
       "orientation": "horizontal",
       "style": "IPY_MODEL_51c43acf8d564027a85506ea638d9a0e",
       "value": 604083.0
      }
     },
     "b755589b39c04bd2ad412b2dd9ffdbe1": {
      "model_module": "@jupyter-widgets/controls",
      "model_module_version": "1.5.0",
      "model_name": "HTMLModel",
      "state": {
       "_dom_classes": [],
       "_model_module": "@jupyter-widgets/controls",
       "_model_module_version": "1.5.0",
       "_model_name": "HTMLModel",
       "_view_count": null,
       "_view_module": "@jupyter-widgets/controls",
       "_view_module_version": "1.5.0",
       "_view_name": "HTMLView",
       "description": "",
       "description_tooltip": null,
       "layout": "IPY_MODEL_f2c6cf78edfe4fb4971aeb5cd91dc9eb",
       "placeholder": "​",
       "style": "IPY_MODEL_56973ae8a5204bef8f9582c8fca80f91",
       "value": "preprocessor_config.json: 100%"
      }
     },
     "b925b66b51a049f7bca903ebaad2a057": {
      "model_module": "@jupyter-widgets/controls",
      "model_module_version": "1.5.0",
      "model_name": "FloatProgressModel",
      "state": {
       "_dom_classes": [],
       "_model_module": "@jupyter-widgets/controls",
       "_model_module_version": "1.5.0",
       "_model_name": "FloatProgressModel",
       "_view_count": null,
       "_view_module": "@jupyter-widgets/controls",
       "_view_module_version": "1.5.0",
       "_view_name": "ProgressView",
       "bar_style": "success",
       "description": "",
       "description_tooltip": null,
       "layout": "IPY_MODEL_0f1f4e1be7654ea9ab8afb55599cbd86",
       "max": 160.0,
       "min": 0.0,
       "orientation": "horizontal",
       "style": "IPY_MODEL_b52ab2e0d12246978937caf1138f3bdf",
       "value": 160.0
      }
     },
     "babe4f264fd74c2f961bdbfe53d7746b": {
      "model_module": "@jupyter-widgets/base",
      "model_module_version": "1.2.0",
      "model_name": "LayoutModel",
      "state": {
       "_model_module": "@jupyter-widgets/base",
       "_model_module_version": "1.2.0",
       "_model_name": "LayoutModel",
       "_view_count": null,
       "_view_module": "@jupyter-widgets/base",
       "_view_module_version": "1.2.0",
       "_view_name": "LayoutView",
       "align_content": null,
       "align_items": null,
       "align_self": null,
       "border": null,
       "bottom": null,
       "display": null,
       "flex": null,
       "flex_flow": null,
       "grid_area": null,
       "grid_auto_columns": null,
       "grid_auto_flow": null,
       "grid_auto_rows": null,
       "grid_column": null,
       "grid_gap": null,
       "grid_row": null,
       "grid_template_areas": null,
       "grid_template_columns": null,
       "grid_template_rows": null,
       "height": null,
       "justify_content": null,
       "justify_items": null,
       "left": null,
       "margin": null,
       "max_height": null,
       "max_width": null,
       "min_height": null,
       "min_width": null,
       "object_fit": null,
       "object_position": null,
       "order": null,
       "overflow": null,
       "overflow_x": null,
       "overflow_y": null,
       "padding": null,
       "right": null,
       "top": null,
       "visibility": null,
       "width": null
      }
     },
     "bb3009e3c6354e44a1b5d8f368a67ea1": {
      "model_module": "@jupyter-widgets/controls",
      "model_module_version": "1.5.0",
      "model_name": "HTMLModel",
      "state": {
       "_dom_classes": [],
       "_model_module": "@jupyter-widgets/controls",
       "_model_module_version": "1.5.0",
       "_model_name": "HTMLModel",
       "_view_count": null,
       "_view_module": "@jupyter-widgets/controls",
       "_view_module_version": "1.5.0",
       "_view_name": "HTMLView",
       "description": "",
       "description_tooltip": null,
       "layout": "IPY_MODEL_0eccd2e99b994d1e8ab50ea09ffa008a",
       "placeholder": "​",
       "style": "IPY_MODEL_024cc4bbfea34b34b0cafdf74d1e6876",
       "value": " 271/271 [00:00&lt;00:00, 24.7kB/s]"
      }
     },
     "bbdb592df0eb412fa5744a1038398d1e": {
      "model_module": "@jupyter-widgets/controls",
      "model_module_version": "1.5.0",
      "model_name": "HTMLModel",
      "state": {
       "_dom_classes": [],
       "_model_module": "@jupyter-widgets/controls",
       "_model_module_version": "1.5.0",
       "_model_name": "HTMLModel",
       "_view_count": null,
       "_view_module": "@jupyter-widgets/controls",
       "_view_module_version": "1.5.0",
       "_view_name": "HTMLView",
       "description": "",
       "description_tooltip": null,
       "layout": "IPY_MODEL_ad18674535084747949fa7a4ab5b115c",
       "placeholder": "​",
       "style": "IPY_MODEL_0a2f97f7f33743da90d6e6877e2ff36f",
       "value": "vocab.txt: 100%"
      }
     },
     "bbe7242ada90441da361f9f9eaff3b73": {
      "model_module": "@jupyter-widgets/base",
      "model_module_version": "1.2.0",
      "model_name": "LayoutModel",
      "state": {
       "_model_module": "@jupyter-widgets/base",
       "_model_module_version": "1.2.0",
       "_model_name": "LayoutModel",
       "_view_count": null,
       "_view_module": "@jupyter-widgets/base",
       "_view_module_version": "1.2.0",
       "_view_name": "LayoutView",
       "align_content": null,
       "align_items": null,
       "align_self": null,
       "border": null,
       "bottom": null,
       "display": null,
       "flex": null,
       "flex_flow": null,
       "grid_area": null,
       "grid_auto_columns": null,
       "grid_auto_flow": null,
       "grid_auto_rows": null,
       "grid_column": null,
       "grid_gap": null,
       "grid_row": null,
       "grid_template_areas": null,
       "grid_template_columns": null,
       "grid_template_rows": null,
       "height": null,
       "justify_content": null,
       "justify_items": null,
       "left": null,
       "margin": null,
       "max_height": null,
       "max_width": null,
       "min_height": null,
       "min_width": null,
       "object_fit": null,
       "object_position": null,
       "order": null,
       "overflow": null,
       "overflow_x": null,
       "overflow_y": null,
       "padding": null,
       "right": null,
       "top": null,
       "visibility": null,
       "width": null
      }
     },
     "bfa49e73263242a2a2e1545c73e3b919": {
      "model_module": "@jupyter-widgets/base",
      "model_module_version": "1.2.0",
      "model_name": "LayoutModel",
      "state": {
       "_model_module": "@jupyter-widgets/base",
       "_model_module_version": "1.2.0",
       "_model_name": "LayoutModel",
       "_view_count": null,
       "_view_module": "@jupyter-widgets/base",
       "_view_module_version": "1.2.0",
       "_view_name": "LayoutView",
       "align_content": null,
       "align_items": null,
       "align_self": null,
       "border": null,
       "bottom": null,
       "display": null,
       "flex": null,
       "flex_flow": null,
       "grid_area": null,
       "grid_auto_columns": null,
       "grid_auto_flow": null,
       "grid_auto_rows": null,
       "grid_column": null,
       "grid_gap": null,
       "grid_row": null,
       "grid_template_areas": null,
       "grid_template_columns": null,
       "grid_template_rows": null,
       "height": null,
       "justify_content": null,
       "justify_items": null,
       "left": null,
       "margin": null,
       "max_height": null,
       "max_width": null,
       "min_height": null,
       "min_width": null,
       "object_fit": null,
       "object_position": null,
       "order": null,
       "overflow": null,
       "overflow_x": null,
       "overflow_y": null,
       "padding": null,
       "right": null,
       "top": null,
       "visibility": null,
       "width": null
      }
     },
     "c0c119b06b484456a184a165e98fc42a": {
      "model_module": "@jupyter-widgets/controls",
      "model_module_version": "1.5.0",
      "model_name": "HTMLModel",
      "state": {
       "_dom_classes": [],
       "_model_module": "@jupyter-widgets/controls",
       "_model_module_version": "1.5.0",
       "_model_name": "HTMLModel",
       "_view_count": null,
       "_view_module": "@jupyter-widgets/controls",
       "_view_module_version": "1.5.0",
       "_view_name": "HTMLView",
       "description": "",
       "description_tooltip": null,
       "layout": "IPY_MODEL_babe4f264fd74c2f961bdbfe53d7746b",
       "placeholder": "​",
       "style": "IPY_MODEL_7a02b4e7c0ca4190bd1cbbe54b2d5744",
       "value": "preprocessor_config.json: 100%"
      }
     },
     "c1d1085158534075862031cbcac74a1d": {
      "model_module": "@jupyter-widgets/base",
      "model_module_version": "1.2.0",
      "model_name": "LayoutModel",
      "state": {
       "_model_module": "@jupyter-widgets/base",
       "_model_module_version": "1.2.0",
       "_model_name": "LayoutModel",
       "_view_count": null,
       "_view_module": "@jupyter-widgets/base",
       "_view_module_version": "1.2.0",
       "_view_name": "LayoutView",
       "align_content": null,
       "align_items": null,
       "align_self": null,
       "border": null,
       "bottom": null,
       "display": null,
       "flex": null,
       "flex_flow": null,
       "grid_area": null,
       "grid_auto_columns": null,
       "grid_auto_flow": null,
       "grid_auto_rows": null,
       "grid_column": null,
       "grid_gap": null,
       "grid_row": null,
       "grid_template_areas": null,
       "grid_template_columns": null,
       "grid_template_rows": null,
       "height": null,
       "justify_content": null,
       "justify_items": null,
       "left": null,
       "margin": null,
       "max_height": null,
       "max_width": null,
       "min_height": null,
       "min_width": null,
       "object_fit": null,
       "object_position": null,
       "order": null,
       "overflow": null,
       "overflow_x": null,
       "overflow_y": null,
       "padding": null,
       "right": null,
       "top": null,
       "visibility": null,
       "width": null
      }
     },
     "c28425baa07640a1a8d83921ef75f216": {
      "model_module": "@jupyter-widgets/controls",
      "model_module_version": "1.5.0",
      "model_name": "ProgressStyleModel",
      "state": {
       "_model_module": "@jupyter-widgets/controls",
       "_model_module_version": "1.5.0",
       "_model_name": "ProgressStyleModel",
       "_view_count": null,
       "_view_module": "@jupyter-widgets/base",
       "_view_module_version": "1.2.0",
       "_view_name": "StyleView",
       "bar_color": null,
       "description_width": ""
      }
     },
     "c29548f5db0040598a8478cee776562a": {
      "model_module": "@jupyter-widgets/controls",
      "model_module_version": "1.5.0",
      "model_name": "HTMLModel",
      "state": {
       "_dom_classes": [],
       "_model_module": "@jupyter-widgets/controls",
       "_model_module_version": "1.5.0",
       "_model_name": "HTMLModel",
       "_view_count": null,
       "_view_module": "@jupyter-widgets/controls",
       "_view_module_version": "1.5.0",
       "_view_name": "HTMLView",
       "description": "",
       "description_tooltip": null,
       "layout": "IPY_MODEL_2340740d29f54299a2f967f62760a1d3",
       "placeholder": "​",
       "style": "IPY_MODEL_d857e7d3224845469ebb16463685f480",
       "value": "config.json: 100%"
      }
     },
     "c7fe7313b86a42fa8e1e710e42ed620a": {
      "model_module": "@jupyter-widgets/base",
      "model_module_version": "1.2.0",
      "model_name": "LayoutModel",
      "state": {
       "_model_module": "@jupyter-widgets/base",
       "_model_module_version": "1.2.0",
       "_model_name": "LayoutModel",
       "_view_count": null,
       "_view_module": "@jupyter-widgets/base",
       "_view_module_version": "1.2.0",
       "_view_name": "LayoutView",
       "align_content": null,
       "align_items": null,
       "align_self": null,
       "border": null,
       "bottom": null,
       "display": null,
       "flex": null,
       "flex_flow": null,
       "grid_area": null,
       "grid_auto_columns": null,
       "grid_auto_flow": null,
       "grid_auto_rows": null,
       "grid_column": null,
       "grid_gap": null,
       "grid_row": null,
       "grid_template_areas": null,
       "grid_template_columns": null,
       "grid_template_rows": null,
       "height": null,
       "justify_content": null,
       "justify_items": null,
       "left": null,
       "margin": null,
       "max_height": null,
       "max_width": null,
       "min_height": null,
       "min_width": null,
       "object_fit": null,
       "object_position": null,
       "order": null,
       "overflow": null,
       "overflow_x": null,
       "overflow_y": null,
       "padding": null,
       "right": null,
       "top": null,
       "visibility": null,
       "width": null
      }
     },
     "c8629dcce624499a97a9bb7f893e8979": {
      "model_module": "@jupyter-widgets/controls",
      "model_module_version": "1.5.0",
      "model_name": "ProgressStyleModel",
      "state": {
       "_model_module": "@jupyter-widgets/controls",
       "_model_module_version": "1.5.0",
       "_model_name": "ProgressStyleModel",
       "_view_count": null,
       "_view_module": "@jupyter-widgets/base",
       "_view_module_version": "1.2.0",
       "_view_name": "StyleView",
       "bar_color": null,
       "description_width": ""
      }
     },
     "c8c0ab3c37e649f3adf5859738194633": {
      "model_module": "@jupyter-widgets/controls",
      "model_module_version": "1.5.0",
      "model_name": "FloatProgressModel",
      "state": {
       "_dom_classes": [],
       "_model_module": "@jupyter-widgets/controls",
       "_model_module_version": "1.5.0",
       "_model_name": "FloatProgressModel",
       "_view_count": null,
       "_view_module": "@jupyter-widgets/controls",
       "_view_module_version": "1.5.0",
       "_view_name": "ProgressView",
       "bar_style": "success",
       "description": "",
       "description_tooltip": null,
       "layout": "IPY_MODEL_b252030b6be64c20b78873111ea65add",
       "max": 505.0,
       "min": 0.0,
       "orientation": "horizontal",
       "style": "IPY_MODEL_c8629dcce624499a97a9bb7f893e8979",
       "value": 505.0
      }
     },
     "c94425de1076483b92b68863923ab8fc": {
      "model_module": "@jupyter-widgets/base",
      "model_module_version": "1.2.0",
      "model_name": "LayoutModel",
      "state": {
       "_model_module": "@jupyter-widgets/base",
       "_model_module_version": "1.2.0",
       "_model_name": "LayoutModel",
       "_view_count": null,
       "_view_module": "@jupyter-widgets/base",
       "_view_module_version": "1.2.0",
       "_view_name": "LayoutView",
       "align_content": null,
       "align_items": null,
       "align_self": null,
       "border": null,
       "bottom": null,
       "display": null,
       "flex": null,
       "flex_flow": null,
       "grid_area": null,
       "grid_auto_columns": null,
       "grid_auto_flow": null,
       "grid_auto_rows": null,
       "grid_column": null,
       "grid_gap": null,
       "grid_row": null,
       "grid_template_areas": null,
       "grid_template_columns": null,
       "grid_template_rows": null,
       "height": null,
       "justify_content": null,
       "justify_items": null,
       "left": null,
       "margin": null,
       "max_height": null,
       "max_width": null,
       "min_height": null,
       "min_width": null,
       "object_fit": null,
       "object_position": null,
       "order": null,
       "overflow": null,
       "overflow_x": null,
       "overflow_y": null,
       "padding": null,
       "right": null,
       "top": null,
       "visibility": null,
       "width": null
      }
     },
     "cbf5f221e33a4d4fac7139c219d5e2fb": {
      "model_module": "@jupyter-widgets/controls",
      "model_module_version": "1.5.0",
      "model_name": "HTMLModel",
      "state": {
       "_dom_classes": [],
       "_model_module": "@jupyter-widgets/controls",
       "_model_module_version": "1.5.0",
       "_model_name": "HTMLModel",
       "_view_count": null,
       "_view_module": "@jupyter-widgets/controls",
       "_view_module_version": "1.5.0",
       "_view_name": "HTMLView",
       "description": "",
       "description_tooltip": null,
       "layout": "IPY_MODEL_94e73545151643ee980b82c9e5885ba3",
       "placeholder": "​",
       "style": "IPY_MODEL_a0d55e7304f04c55824e939d00e961a4",
       "value": " 443M/443M [00:06&lt;00:00, 63.6MB/s]"
      }
     },
     "cc95ecdabcbf4c86a3ed8c03d74c4782": {
      "model_module": "@jupyter-widgets/controls",
      "model_module_version": "1.5.0",
      "model_name": "ProgressStyleModel",
      "state": {
       "_model_module": "@jupyter-widgets/controls",
       "_model_module_version": "1.5.0",
       "_model_name": "ProgressStyleModel",
       "_view_count": null,
       "_view_module": "@jupyter-widgets/base",
       "_view_module_version": "1.2.0",
       "_view_name": "StyleView",
       "bar_color": null,
       "description_width": ""
      }
     },
     "ccc1881c60d147a69891b38885616864": {
      "model_module": "@jupyter-widgets/controls",
      "model_module_version": "1.5.0",
      "model_name": "FloatProgressModel",
      "state": {
       "_dom_classes": [],
       "_model_module": "@jupyter-widgets/controls",
       "_model_module_version": "1.5.0",
       "_model_name": "FloatProgressModel",
       "_view_count": null,
       "_view_module": "@jupyter-widgets/controls",
       "_view_module_version": "1.5.0",
       "_view_name": "ProgressView",
       "bar_style": "success",
       "description": "",
       "description_tooltip": null,
       "layout": "IPY_MODEL_aff110de0a4f4872a566d45a18430bef",
       "max": 112.0,
       "min": 0.0,
       "orientation": "horizontal",
       "style": "IPY_MODEL_339e606b20fa43cd80f47593fc19ab72",
       "value": 112.0
      }
     },
     "cdc2a07ea9324c86a6306d53cb36f711": {
      "model_module": "@jupyter-widgets/base",
      "model_module_version": "1.2.0",
      "model_name": "LayoutModel",
      "state": {
       "_model_module": "@jupyter-widgets/base",
       "_model_module_version": "1.2.0",
       "_model_name": "LayoutModel",
       "_view_count": null,
       "_view_module": "@jupyter-widgets/base",
       "_view_module_version": "1.2.0",
       "_view_name": "LayoutView",
       "align_content": null,
       "align_items": null,
       "align_self": null,
       "border": null,
       "bottom": null,
       "display": null,
       "flex": null,
       "flex_flow": null,
       "grid_area": null,
       "grid_auto_columns": null,
       "grid_auto_flow": null,
       "grid_auto_rows": null,
       "grid_column": null,
       "grid_gap": null,
       "grid_row": null,
       "grid_template_areas": null,
       "grid_template_columns": null,
       "grid_template_rows": null,
       "height": null,
       "justify_content": null,
       "justify_items": null,
       "left": null,
       "margin": null,
       "max_height": null,
       "max_width": null,
       "min_height": null,
       "min_width": null,
       "object_fit": null,
       "object_position": null,
       "order": null,
       "overflow": null,
       "overflow_x": null,
       "overflow_y": null,
       "padding": null,
       "right": null,
       "top": null,
       "visibility": null,
       "width": null
      }
     },
     "d1b715304dbb48bba27b6f69bdbd91ae": {
      "model_module": "@jupyter-widgets/controls",
      "model_module_version": "1.5.0",
      "model_name": "HTMLModel",
      "state": {
       "_dom_classes": [],
       "_model_module": "@jupyter-widgets/controls",
       "_model_module_version": "1.5.0",
       "_model_name": "HTMLModel",
       "_view_count": null,
       "_view_module": "@jupyter-widgets/controls",
       "_view_module_version": "1.5.0",
       "_view_name": "HTMLView",
       "description": "",
       "description_tooltip": null,
       "layout": "IPY_MODEL_a9a991df471f460ebc3a680cadf9d743",
       "placeholder": "​",
       "style": "IPY_MODEL_1dd65a5970ef4ee7aad1e56d48cb0b4a",
       "value": "model.safetensors: 100%"
      }
     },
     "d65001ad561d4beea2b6bc1b3f4d77f5": {
      "model_module": "@jupyter-widgets/controls",
      "model_module_version": "1.5.0",
      "model_name": "ProgressStyleModel",
      "state": {
       "_model_module": "@jupyter-widgets/controls",
       "_model_module_version": "1.5.0",
       "_model_name": "ProgressStyleModel",
       "_view_count": null,
       "_view_module": "@jupyter-widgets/base",
       "_view_module_version": "1.2.0",
       "_view_name": "StyleView",
       "bar_color": null,
       "description_width": ""
      }
     },
     "d7cce8e0b0664d38a8ebbe5fe51c9321": {
      "model_module": "@jupyter-widgets/controls",
      "model_module_version": "1.5.0",
      "model_name": "DescriptionStyleModel",
      "state": {
       "_model_module": "@jupyter-widgets/controls",
       "_model_module_version": "1.5.0",
       "_model_name": "DescriptionStyleModel",
       "_view_count": null,
       "_view_module": "@jupyter-widgets/base",
       "_view_module_version": "1.2.0",
       "_view_name": "StyleView",
       "description_width": ""
      }
     },
     "d857e7d3224845469ebb16463685f480": {
      "model_module": "@jupyter-widgets/controls",
      "model_module_version": "1.5.0",
      "model_name": "DescriptionStyleModel",
      "state": {
       "_model_module": "@jupyter-widgets/controls",
       "_model_module_version": "1.5.0",
       "_model_name": "DescriptionStyleModel",
       "_view_count": null,
       "_view_module": "@jupyter-widgets/base",
       "_view_module_version": "1.2.0",
       "_view_name": "StyleView",
       "description_width": ""
      }
     },
     "d8a9b1b35aa543d2aa42e59a7f6db036": {
      "model_module": "@jupyter-widgets/base",
      "model_module_version": "1.2.0",
      "model_name": "LayoutModel",
      "state": {
       "_model_module": "@jupyter-widgets/base",
       "_model_module_version": "1.2.0",
       "_model_name": "LayoutModel",
       "_view_count": null,
       "_view_module": "@jupyter-widgets/base",
       "_view_module_version": "1.2.0",
       "_view_name": "LayoutView",
       "align_content": null,
       "align_items": null,
       "align_self": null,
       "border": null,
       "bottom": null,
       "display": null,
       "flex": null,
       "flex_flow": null,
       "grid_area": null,
       "grid_auto_columns": null,
       "grid_auto_flow": null,
       "grid_auto_rows": null,
       "grid_column": null,
       "grid_gap": null,
       "grid_row": null,
       "grid_template_areas": null,
       "grid_template_columns": null,
       "grid_template_rows": null,
       "height": null,
       "justify_content": null,
       "justify_items": null,
       "left": null,
       "margin": null,
       "max_height": null,
       "max_width": null,
       "min_height": null,
       "min_width": null,
       "object_fit": null,
       "object_position": null,
       "order": null,
       "overflow": null,
       "overflow_x": null,
       "overflow_y": null,
       "padding": null,
       "right": null,
       "top": null,
       "visibility": null,
       "width": null
      }
     },
     "dcf6e313bb224468a8fae46df69f1e99": {
      "model_module": "@jupyter-widgets/base",
      "model_module_version": "1.2.0",
      "model_name": "LayoutModel",
      "state": {
       "_model_module": "@jupyter-widgets/base",
       "_model_module_version": "1.2.0",
       "_model_name": "LayoutModel",
       "_view_count": null,
       "_view_module": "@jupyter-widgets/base",
       "_view_module_version": "1.2.0",
       "_view_name": "LayoutView",
       "align_content": null,
       "align_items": null,
       "align_self": null,
       "border": null,
       "bottom": null,
       "display": null,
       "flex": null,
       "flex_flow": null,
       "grid_area": null,
       "grid_auto_columns": null,
       "grid_auto_flow": null,
       "grid_auto_rows": null,
       "grid_column": null,
       "grid_gap": null,
       "grid_row": null,
       "grid_template_areas": null,
       "grid_template_columns": null,
       "grid_template_rows": null,
       "height": null,
       "justify_content": null,
       "justify_items": null,
       "left": null,
       "margin": null,
       "max_height": null,
       "max_width": null,
       "min_height": null,
       "min_width": null,
       "object_fit": null,
       "object_position": null,
       "order": null,
       "overflow": null,
       "overflow_x": null,
       "overflow_y": null,
       "padding": null,
       "right": null,
       "top": null,
       "visibility": null,
       "width": null
      }
     },
     "e7ae9995997347b1b8b50449fbfb1e9b": {
      "model_module": "@jupyter-widgets/controls",
      "model_module_version": "1.5.0",
      "model_name": "HBoxModel",
      "state": {
       "_dom_classes": [],
       "_model_module": "@jupyter-widgets/controls",
       "_model_module_version": "1.5.0",
       "_model_name": "HBoxModel",
       "_view_count": null,
       "_view_module": "@jupyter-widgets/controls",
       "_view_module_version": "1.5.0",
       "_view_name": "HBoxView",
       "box_style": "",
       "children": [
        "IPY_MODEL_1ebb2bcf9a53487a9398f4619fd37417",
        "IPY_MODEL_a5948542054a48e292118689f3c0083e",
        "IPY_MODEL_cbf5f221e33a4d4fac7139c219d5e2fb"
       ],
       "layout": "IPY_MODEL_01c479f9ec344ae18fae49dd44ffed41"
      }
     },
     "e7cecbea897b460397f04e18e7dea3af": {
      "model_module": "@jupyter-widgets/base",
      "model_module_version": "1.2.0",
      "model_name": "LayoutModel",
      "state": {
       "_model_module": "@jupyter-widgets/base",
       "_model_module_version": "1.2.0",
       "_model_name": "LayoutModel",
       "_view_count": null,
       "_view_module": "@jupyter-widgets/base",
       "_view_module_version": "1.2.0",
       "_view_name": "LayoutView",
       "align_content": null,
       "align_items": null,
       "align_self": null,
       "border": null,
       "bottom": null,
       "display": null,
       "flex": null,
       "flex_flow": null,
       "grid_area": null,
       "grid_auto_columns": null,
       "grid_auto_flow": null,
       "grid_auto_rows": null,
       "grid_column": null,
       "grid_gap": null,
       "grid_row": null,
       "grid_template_areas": null,
       "grid_template_columns": null,
       "grid_template_rows": null,
       "height": null,
       "justify_content": null,
       "justify_items": null,
       "left": null,
       "margin": null,
       "max_height": null,
       "max_width": null,
       "min_height": null,
       "min_width": null,
       "object_fit": null,
       "object_position": null,
       "order": null,
       "overflow": null,
       "overflow_x": null,
       "overflow_y": null,
       "padding": null,
       "right": null,
       "top": null,
       "visibility": null,
       "width": null
      }
     },
     "e8338cf7f4414ab9a79a0faa3334ef8e": {
      "model_module": "@jupyter-widgets/base",
      "model_module_version": "1.2.0",
      "model_name": "LayoutModel",
      "state": {
       "_model_module": "@jupyter-widgets/base",
       "_model_module_version": "1.2.0",
       "_model_name": "LayoutModel",
       "_view_count": null,
       "_view_module": "@jupyter-widgets/base",
       "_view_module_version": "1.2.0",
       "_view_name": "LayoutView",
       "align_content": null,
       "align_items": null,
       "align_self": null,
       "border": null,
       "bottom": null,
       "display": null,
       "flex": null,
       "flex_flow": null,
       "grid_area": null,
       "grid_auto_columns": null,
       "grid_auto_flow": null,
       "grid_auto_rows": null,
       "grid_column": null,
       "grid_gap": null,
       "grid_row": null,
       "grid_template_areas": null,
       "grid_template_columns": null,
       "grid_template_rows": null,
       "height": null,
       "justify_content": null,
       "justify_items": null,
       "left": null,
       "margin": null,
       "max_height": null,
       "max_width": null,
       "min_height": null,
       "min_width": null,
       "object_fit": null,
       "object_position": null,
       "order": null,
       "overflow": null,
       "overflow_x": null,
       "overflow_y": null,
       "padding": null,
       "right": null,
       "top": null,
       "visibility": null,
       "width": null
      }
     },
     "e847ac6f1fc14d2f86f048aa5410b2f2": {
      "model_module": "@jupyter-widgets/controls",
      "model_module_version": "1.5.0",
      "model_name": "HBoxModel",
      "state": {
       "_dom_classes": [],
       "_model_module": "@jupyter-widgets/controls",
       "_model_module_version": "1.5.0",
       "_model_name": "HBoxModel",
       "_view_count": null,
       "_view_module": "@jupyter-widgets/controls",
       "_view_module_version": "1.5.0",
       "_view_name": "HBoxView",
       "box_style": "",
       "children": [
        "IPY_MODEL_550a9445772640cfbd6bc4cbf355e7c8",
        "IPY_MODEL_c8c0ab3c37e649f3adf5859738194633",
        "IPY_MODEL_4ab9c7f998be4d4dbd043d7a36830722"
       ],
       "layout": "IPY_MODEL_98018428549a41f1b83d1cf300b0c0ce"
      }
     },
     "ea5d71c1d94d437c8c8b25808bc0beb7": {
      "model_module": "@jupyter-widgets/controls",
      "model_module_version": "1.5.0",
      "model_name": "ProgressStyleModel",
      "state": {
       "_model_module": "@jupyter-widgets/controls",
       "_model_module_version": "1.5.0",
       "_model_name": "ProgressStyleModel",
       "_view_count": null,
       "_view_module": "@jupyter-widgets/base",
       "_view_module_version": "1.2.0",
       "_view_name": "StyleView",
       "bar_color": null,
       "description_width": ""
      }
     },
     "eae8972820944effac9c3d3c6c85d047": {
      "model_module": "@jupyter-widgets/base",
      "model_module_version": "1.2.0",
      "model_name": "LayoutModel",
      "state": {
       "_model_module": "@jupyter-widgets/base",
       "_model_module_version": "1.2.0",
       "_model_name": "LayoutModel",
       "_view_count": null,
       "_view_module": "@jupyter-widgets/base",
       "_view_module_version": "1.2.0",
       "_view_name": "LayoutView",
       "align_content": null,
       "align_items": null,
       "align_self": null,
       "border": null,
       "bottom": null,
       "display": null,
       "flex": null,
       "flex_flow": null,
       "grid_area": null,
       "grid_auto_columns": null,
       "grid_auto_flow": null,
       "grid_auto_rows": null,
       "grid_column": null,
       "grid_gap": null,
       "grid_row": null,
       "grid_template_areas": null,
       "grid_template_columns": null,
       "grid_template_rows": null,
       "height": null,
       "justify_content": null,
       "justify_items": null,
       "left": null,
       "margin": null,
       "max_height": null,
       "max_width": null,
       "min_height": null,
       "min_width": null,
       "object_fit": null,
       "object_position": null,
       "order": null,
       "overflow": null,
       "overflow_x": null,
       "overflow_y": null,
       "padding": null,
       "right": null,
       "top": null,
       "visibility": null,
       "width": null
      }
     },
     "ef878961426d4efe95b97eb9411e88fe": {
      "model_module": "@jupyter-widgets/controls",
      "model_module_version": "1.5.0",
      "model_name": "FloatProgressModel",
      "state": {
       "_dom_classes": [],
       "_model_module": "@jupyter-widgets/controls",
       "_model_module_version": "1.5.0",
       "_model_name": "FloatProgressModel",
       "_view_count": null,
       "_view_module": "@jupyter-widgets/controls",
       "_view_module_version": "1.5.0",
       "_view_name": "ProgressView",
       "bar_style": "success",
       "description": "",
       "description_tooltip": null,
       "layout": "IPY_MODEL_c7fe7313b86a42fa8e1e710e42ed620a",
       "max": 191.0,
       "min": 0.0,
       "orientation": "horizontal",
       "style": "IPY_MODEL_c28425baa07640a1a8d83921ef75f216",
       "value": 191.0
      }
     },
     "f2c6cf78edfe4fb4971aeb5cd91dc9eb": {
      "model_module": "@jupyter-widgets/base",
      "model_module_version": "1.2.0",
      "model_name": "LayoutModel",
      "state": {
       "_model_module": "@jupyter-widgets/base",
       "_model_module_version": "1.2.0",
       "_model_name": "LayoutModel",
       "_view_count": null,
       "_view_module": "@jupyter-widgets/base",
       "_view_module_version": "1.2.0",
       "_view_name": "LayoutView",
       "align_content": null,
       "align_items": null,
       "align_self": null,
       "border": null,
       "bottom": null,
       "display": null,
       "flex": null,
       "flex_flow": null,
       "grid_area": null,
       "grid_auto_columns": null,
       "grid_auto_flow": null,
       "grid_auto_rows": null,
       "grid_column": null,
       "grid_gap": null,
       "grid_row": null,
       "grid_template_areas": null,
       "grid_template_columns": null,
       "grid_template_rows": null,
       "height": null,
       "justify_content": null,
       "justify_items": null,
       "left": null,
       "margin": null,
       "max_height": null,
       "max_width": null,
       "min_height": null,
       "min_width": null,
       "object_fit": null,
       "object_position": null,
       "order": null,
       "overflow": null,
       "overflow_x": null,
       "overflow_y": null,
       "padding": null,
       "right": null,
       "top": null,
       "visibility": null,
       "width": null
      }
     },
     "f2c8a9522ff34939964d62a5d1ce9822": {
      "model_module": "@jupyter-widgets/controls",
      "model_module_version": "1.5.0",
      "model_name": "DescriptionStyleModel",
      "state": {
       "_model_module": "@jupyter-widgets/controls",
       "_model_module_version": "1.5.0",
       "_model_name": "DescriptionStyleModel",
       "_view_count": null,
       "_view_module": "@jupyter-widgets/base",
       "_view_module_version": "1.2.0",
       "_view_name": "StyleView",
       "description_width": ""
      }
     },
     "f4a068996efb45f1bd058946b17fc050": {
      "model_module": "@jupyter-widgets/base",
      "model_module_version": "1.2.0",
      "model_name": "LayoutModel",
      "state": {
       "_model_module": "@jupyter-widgets/base",
       "_model_module_version": "1.2.0",
       "_model_name": "LayoutModel",
       "_view_count": null,
       "_view_module": "@jupyter-widgets/base",
       "_view_module_version": "1.2.0",
       "_view_name": "LayoutView",
       "align_content": null,
       "align_items": null,
       "align_self": null,
       "border": null,
       "bottom": null,
       "display": null,
       "flex": null,
       "flex_flow": null,
       "grid_area": null,
       "grid_auto_columns": null,
       "grid_auto_flow": null,
       "grid_auto_rows": null,
       "grid_column": null,
       "grid_gap": null,
       "grid_row": null,
       "grid_template_areas": null,
       "grid_template_columns": null,
       "grid_template_rows": null,
       "height": null,
       "justify_content": null,
       "justify_items": null,
       "left": null,
       "margin": null,
       "max_height": null,
       "max_width": null,
       "min_height": null,
       "min_width": null,
       "object_fit": null,
       "object_position": null,
       "order": null,
       "overflow": null,
       "overflow_x": null,
       "overflow_y": null,
       "padding": null,
       "right": null,
       "top": null,
       "visibility": null,
       "width": null
      }
     },
     "f558d86def394bbcbe6c27a7662d2d7b": {
      "model_module": "@jupyter-widgets/base",
      "model_module_version": "1.2.0",
      "model_name": "LayoutModel",
      "state": {
       "_model_module": "@jupyter-widgets/base",
       "_model_module_version": "1.2.0",
       "_model_name": "LayoutModel",
       "_view_count": null,
       "_view_module": "@jupyter-widgets/base",
       "_view_module_version": "1.2.0",
       "_view_name": "LayoutView",
       "align_content": null,
       "align_items": null,
       "align_self": null,
       "border": null,
       "bottom": null,
       "display": null,
       "flex": null,
       "flex_flow": null,
       "grid_area": null,
       "grid_auto_columns": null,
       "grid_auto_flow": null,
       "grid_auto_rows": null,
       "grid_column": null,
       "grid_gap": null,
       "grid_row": null,
       "grid_template_areas": null,
       "grid_template_columns": null,
       "grid_template_rows": null,
       "height": null,
       "justify_content": null,
       "justify_items": null,
       "left": null,
       "margin": null,
       "max_height": null,
       "max_width": null,
       "min_height": null,
       "min_width": null,
       "object_fit": null,
       "object_position": null,
       "order": null,
       "overflow": null,
       "overflow_x": null,
       "overflow_y": null,
       "padding": null,
       "right": null,
       "top": null,
       "visibility": null,
       "width": null
      }
     },
     "f7fff23416064e6f95763d8d0363443e": {
      "model_module": "@jupyter-widgets/controls",
      "model_module_version": "1.5.0",
      "model_name": "DescriptionStyleModel",
      "state": {
       "_model_module": "@jupyter-widgets/controls",
       "_model_module_version": "1.5.0",
       "_model_name": "DescriptionStyleModel",
       "_view_count": null,
       "_view_module": "@jupyter-widgets/base",
       "_view_module_version": "1.2.0",
       "_view_name": "StyleView",
       "description_width": ""
      }
     },
     "f84417963375451eb5095a1280e8530c": {
      "model_module": "@jupyter-widgets/controls",
      "model_module_version": "1.5.0",
      "model_name": "ProgressStyleModel",
      "state": {
       "_model_module": "@jupyter-widgets/controls",
       "_model_module_version": "1.5.0",
       "_model_name": "ProgressStyleModel",
       "_view_count": null,
       "_view_module": "@jupyter-widgets/base",
       "_view_module_version": "1.2.0",
       "_view_name": "StyleView",
       "bar_color": null,
       "description_width": ""
      }
     },
     "f865443b790c4c04a029cf3308aebf04": {
      "model_module": "@jupyter-widgets/controls",
      "model_module_version": "1.5.0",
      "model_name": "DescriptionStyleModel",
      "state": {
       "_model_module": "@jupyter-widgets/controls",
       "_model_module_version": "1.5.0",
       "_model_name": "DescriptionStyleModel",
       "_view_count": null,
       "_view_module": "@jupyter-widgets/base",
       "_view_module_version": "1.2.0",
       "_view_name": "StyleView",
       "description_width": ""
      }
     },
     "fc0c12071ffe4b02b4ab7dc9d6b60411": {
      "model_module": "@jupyter-widgets/controls",
      "model_module_version": "1.5.0",
      "model_name": "HTMLModel",
      "state": {
       "_dom_classes": [],
       "_model_module": "@jupyter-widgets/controls",
       "_model_module_version": "1.5.0",
       "_model_name": "HTMLModel",
       "_view_count": null,
       "_view_module": "@jupyter-widgets/controls",
       "_view_module_version": "1.5.0",
       "_view_name": "HTMLView",
       "description": "",
       "description_tooltip": null,
       "layout": "IPY_MODEL_bfa49e73263242a2a2e1545c73e3b919",
       "placeholder": "​",
       "style": "IPY_MODEL_042c87a880364bc8abf8eb64bb13a996",
       "value": "config.json: 100%"
      }
     },
     "ff2a125562cc443bbb6b1a5c94073ca1": {
      "model_module": "@jupyter-widgets/controls",
      "model_module_version": "1.5.0",
      "model_name": "HTMLModel",
      "state": {
       "_dom_classes": [],
       "_model_module": "@jupyter-widgets/controls",
       "_model_module_version": "1.5.0",
       "_model_name": "HTMLModel",
       "_view_count": null,
       "_view_module": "@jupyter-widgets/controls",
       "_view_module_version": "1.5.0",
       "_view_name": "HTMLView",
       "description": "",
       "description_tooltip": null,
       "layout": "IPY_MODEL_f4a068996efb45f1bd058946b17fc050",
       "placeholder": "​",
       "style": "IPY_MODEL_66958e53d8f04d4d839c24c3db31cc40",
       "value": " 1.97k/1.97k [00:00&lt;00:00, 206kB/s]"
      }
     },
     "ff714c9da87749db99567e2adb45afa2": {
      "model_module": "@jupyter-widgets/base",
      "model_module_version": "1.2.0",
      "model_name": "LayoutModel",
      "state": {
       "_model_module": "@jupyter-widgets/base",
       "_model_module_version": "1.2.0",
       "_model_name": "LayoutModel",
       "_view_count": null,
       "_view_module": "@jupyter-widgets/base",
       "_view_module_version": "1.2.0",
       "_view_name": "LayoutView",
       "align_content": null,
       "align_items": null,
       "align_self": null,
       "border": null,
       "bottom": null,
       "display": null,
       "flex": null,
       "flex_flow": null,
       "grid_area": null,
       "grid_auto_columns": null,
       "grid_auto_flow": null,
       "grid_auto_rows": null,
       "grid_column": null,
       "grid_gap": null,
       "grid_row": null,
       "grid_template_areas": null,
       "grid_template_columns": null,
       "grid_template_rows": null,
       "height": null,
       "justify_content": null,
       "justify_items": null,
       "left": null,
       "margin": null,
       "max_height": null,
       "max_width": null,
       "min_height": null,
       "min_width": null,
       "object_fit": null,
       "object_position": null,
       "order": null,
       "overflow": null,
       "overflow_x": null,
       "overflow_y": null,
       "padding": null,
       "right": null,
       "top": null,
       "visibility": null,
       "width": null
      }
     }
    },
    "version_major": 2,
    "version_minor": 0
   }
  }
 },
 "nbformat": 4,
 "nbformat_minor": 5
}
